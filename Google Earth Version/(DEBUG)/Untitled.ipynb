{
 "cells": [
  {
   "cell_type": "code",
   "execution_count": 1,
   "id": "cf70a8d3-4a91-468d-bfc2-ddd21dfd43f0",
   "metadata": {},
   "outputs": [],
   "source": [
    "import ee\n",
    "ee.Initialize()"
   ]
  },
  {
   "cell_type": "code",
   "execution_count": 10,
   "id": "919d1865-b7c1-4750-a11d-05e4c7dd1536",
   "metadata": {},
   "outputs": [
    {
     "name": "stdout",
     "output_type": "stream",
     "text": [
      "(0, {'type': 'Feature', 'geometry': {'geodesic': False, 'crs': {'type': 'name', 'properties': {'name': 'EPSG:3857'}}, 'type': 'Polygon', 'coordinates': [[[9542400, 3113600], [9564800, 3113600], [9564800, 3136000], [9542400, 3136000], [9542400, 3113600]]]}, 'id': '426,139', 'properties': {}})\n"
     ]
    }
   ],
   "source": [
    "country = ee.FeatureCollection(\"USDOS/LSIB_SIMPLE/2017\").filter(ee.Filter.eq('country_na','Nepal'))\n",
    "tgeo=country.geometry().coveringGrid(\"EPSG:3857\",22400).getInfo()\n",
    "tgeo=tgeo['features'][50:]\n",
    "print(list(enumerate(tgeo))[0])"
   ]
  },
  {
   "cell_type": "code",
   "execution_count": null,
   "id": "8e0a66ff-f7b7-452f-a130-a099fb22c9f7",
   "metadata": {},
   "outputs": [],
   "source": []
  },
  {
   "cell_type": "code",
   "execution_count": null,
   "id": "0009c102-8a08-4ded-8f65-0920db0a412b",
   "metadata": {},
   "outputs": [],
   "source": []
  }
 ],
 "metadata": {
  "kernelspec": {
   "display_name": "Python 3 (ipykernel)",
   "language": "python",
   "name": "python3"
  },
  "language_info": {
   "codemirror_mode": {
    "name": "ipython",
    "version": 3
   },
   "file_extension": ".py",
   "mimetype": "text/x-python",
   "name": "python",
   "nbconvert_exporter": "python",
   "pygments_lexer": "ipython3",
   "version": "3.8.10"
  }
 },
 "nbformat": 4,
 "nbformat_minor": 5
}
