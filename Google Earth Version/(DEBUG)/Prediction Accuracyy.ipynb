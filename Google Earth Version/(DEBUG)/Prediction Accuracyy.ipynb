{
 "cells": [
  {
   "cell_type": "code",
   "execution_count": 21,
   "id": "c7cdbe5c-1dc9-4123-ad53-3d01739f5d38",
   "metadata": {},
   "outputs": [],
   "source": [
    "import sys\n",
    "import pandas as pd\n",
    "sys.path.append('../Configs')\n",
    "import constants\n",
    "import pickle as pkl"
   ]
  },
  {
   "cell_type": "code",
   "execution_count": 146,
   "id": "0bd0fb61-6e00-4e73-8b86-7c4a47d77ad9",
   "metadata": {},
   "outputs": [],
   "source": [
    "#dataset='Fullv2_happy_mouse' #Bangladesh\n",
    "#dataset='Fullv2_cheeky_kitten' #India\n",
    "#dataset='Fullv2_happy_pig' #Pakistan\n",
    "#dataset='Fullv2_cheeky_gerbil' #Nepal\n",
    "\n",
    "#dataset='Hybridv1_worried_mouse' #Bangladesh\n",
    "#dataset='Hybridv1_calm_kitten' #India\n",
    "#dataset='Hybridv1_calm_gerbil' #Pakistan\n",
    "dataset='Hybridv1_tired_panda' #Nepal"
   ]
  },
  {
   "cell_type": "code",
   "execution_count": 147,
   "id": "da549c94-284a-4ebe-a3f3-fb6d52bee891",
   "metadata": {},
   "outputs": [],
   "source": [
    "ConfirmedFile=open(constants.GROUPING_ROOT+dataset+'/'+dataset+'Confirmed','r+b')\n",
    "DeniedFile=open(constants.GROUPING_ROOT+dataset+'/'+dataset+'Denied','r+b')\n",
    "FullLabelConfirmed=list(pkl.load(ConfirmedFile).keys())\n",
    "FullLabelDenied=list(pkl.load(DeniedFile).keys())\n",
    "ConfirmedFile.close()\n",
    "DeniedFile.close()"
   ]
  },
  {
   "cell_type": "code",
   "execution_count": 148,
   "id": "2daa68f4-3dd6-429e-8769-201d10b1ac08",
   "metadata": {},
   "outputs": [],
   "source": [
    "FullPd=pd.read_csv(constants.PREDICTION_ROOT+dataset+'_results.csv')\n",
    "NonRandomPd=FullPd.drop(list(range(len(FullPd)-500,len(FullPd))))"
   ]
  },
  {
   "cell_type": "code",
   "execution_count": 149,
   "id": "7603b4b0-0a7c-40c9-85ca-81515415a87a",
   "metadata": {},
   "outputs": [],
   "source": [
    "Fulltp=0\n",
    "Fullfp=0\n",
    "Fulltn=0\n",
    "Fullfn=0\n",
    "NonRtp=0\n",
    "NonRfp=0\n",
    "NonRtn=0\n",
    "NonRfn=0\n",
    "for key in FullLabelConfirmed:\n",
    "    idx=FullPd['idx'].values.tolist().index(int(key))\n",
    "    pred=FullPd['prediction'][idx]\n",
    "    if pred>=.9:\n",
    "        Fulltp+=1\n",
    "    else:\n",
    "        Fullfn+=1\n",
    "for key in FullLabelDenied:\n",
    "    idx=FullPd['idx'].values.tolist().index(int(key))\n",
    "    pred=FullPd['prediction'][idx]\n",
    "    if pred<=.9:\n",
    "        Fulltn+=1\n",
    "    else:\n",
    "        Fullfp+=1\n"
   ]
  },
  {
   "cell_type": "code",
   "execution_count": 150,
   "id": "58a50780-1b24-463b-9c21-9255995aaec3",
   "metadata": {},
   "outputs": [
    {
     "name": "stdout",
     "output_type": "stream",
     "text": [
      "tp: 327\n",
      "fp: 52\n",
      "tn: 499\n",
      "fn: 1\n",
      "Total True: 826\n",
      "Total False: 53\n",
      "Actual True: 328\n",
      "Actual False: 551\n",
      "Total: 879\n",
      "Precision: 0.862796833773087\n",
      "Recall: 0.9969512195121951\n",
      "Accuracy: 0.9397042093287827\n"
     ]
    }
   ],
   "source": [
    "print('tp:',Fulltp)\n",
    "print('fp:',Fullfp)\n",
    "print('tn:',Fulltn)\n",
    "print('fn:',Fullfn)\n",
    "print('Total True:',Fulltp+Fulltn)\n",
    "print('Total False:',Fullfn+Fullfp)\n",
    "print('Actual True:',Fulltp+Fullfn)\n",
    "print('Actual False:',Fullfp+Fulltn)\n",
    "print('Total:',Fulltp+Fullfp+Fulltn+Fullfn)\n",
    "print('Precision:',Fulltp/(Fulltp+Fullfp))\n",
    "print('Recall:',Fulltp/(Fulltp+Fullfn))\n",
    "print('Accuracy:',(Fulltn+Fulltp)/(Fulltn+Fullfp+Fulltp+Fullfn))\n"
   ]
  },
  {
   "cell_type": "code",
   "execution_count": 151,
   "id": "3641a88b-a83f-4868-9f8f-5499c9bb6e93",
   "metadata": {},
   "outputs": [],
   "source": [
    "Fulltp=0\n",
    "Fullfp=0\n",
    "Fulltn=0\n",
    "Fullfn=0\n",
    "NonRtp=0\n",
    "NonRfp=0\n",
    "NonRtn=0\n",
    "NonRfn=0\n",
    "for key in FullLabelConfirmed:\n",
    "    try:\n",
    "        idx=NonRandomPd['idx'].values.tolist().index(int(key))\n",
    "        pred=NonRandomPd['prediction'][idx]\n",
    "        if pred>=.9:\n",
    "            Fulltp+=1\n",
    "        else:\n",
    "            Fullfn+=1\n",
    "    except:\n",
    "        continue\n",
    "for key in FullLabelDenied:\n",
    "    try:\n",
    "        idx=NonRandomPd['idx'].values.tolist().index(int(key))\n",
    "        pred=NonRandomPd['prediction'][idx]\n",
    "        if pred<=.9:\n",
    "            Fulltn+=1\n",
    "        else:\n",
    "            Fullfp+=1\n",
    "    except:\n",
    "        continue"
   ]
  },
  {
   "cell_type": "code",
   "execution_count": 152,
   "id": "eca3740c-f5b3-4b4b-bea6-9e9ac288a225",
   "metadata": {},
   "outputs": [
    {
     "name": "stdout",
     "output_type": "stream",
     "text": [
      "tp: 327\n",
      "fp: 52\n",
      "tn: 0\n",
      "fn: 0\n",
      "Total True: 327\n",
      "Total False: 52\n",
      "Actual True: 327\n",
      "Actual False: 52\n",
      "Total: 379\n",
      "Precision: 0.862796833773087\n",
      "Recall: 1.0\n",
      "Accuracy: 0.862796833773087\n"
     ]
    }
   ],
   "source": [
    "print('tp:',Fulltp)\n",
    "print('fp:',Fullfp)\n",
    "print('tn:',Fulltn)\n",
    "print('fn:',Fullfn)\n",
    "print('Total True:',Fulltp+Fulltn)\n",
    "print('Total False:',Fullfn+Fullfp)\n",
    "print('Actual True:',Fulltp+Fullfn)\n",
    "print('Actual False:',Fullfp+Fulltn)\n",
    "print('Total:',Fulltp+Fullfp+Fulltn+Fullfn)\n",
    "print('Precision:',Fulltp/(Fulltp+Fullfp))\n",
    "print('Recall:',Fulltp/(Fulltp+Fullfn))\n",
    "print('Accuracy:',(Fulltn+Fulltp)/(Fulltn+Fullfp+Fulltp+Fullfn))"
   ]
  },
  {
   "cell_type": "code",
   "execution_count": null,
   "id": "cbb27c70-fb52-4987-87c8-9413321d07aa",
   "metadata": {},
   "outputs": [],
   "source": []
  }
 ],
 "metadata": {
  "kernelspec": {
   "display_name": "Python 3 (ipykernel)",
   "language": "python",
   "name": "python3"
  },
  "language_info": {
   "codemirror_mode": {
    "name": "ipython",
    "version": 3
   },
   "file_extension": ".py",
   "mimetype": "text/x-python",
   "name": "python",
   "nbconvert_exporter": "python",
   "pygments_lexer": "ipython3",
   "version": "3.8.10"
  }
 },
 "nbformat": 4,
 "nbformat_minor": 5
}
