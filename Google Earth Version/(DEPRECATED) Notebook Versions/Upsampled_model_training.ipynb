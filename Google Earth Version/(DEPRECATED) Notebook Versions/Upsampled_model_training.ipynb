{
 "cells": [
  {
   "cell_type": "markdown",
   "id": "9affbf38",
   "metadata": {},
   "source": [
    "## Rewrite and re-train fully supervised NN on DL imagery\n",
    "- Can't use old code because it was written for Torch 1.10, and DL supports up to 1.7\n",
    "\n",
    "### Components: \n",
    "1. Dataloader\n",
    "2. Neural net backbone\n",
    "3. Training loop\n",
    "4. Analytics/model logging"
   ]
  },
  {
   "cell_type": "code",
   "execution_count": 3,
   "id": "9cfc952b",
   "metadata": {},
   "outputs": [],
   "source": [
    "# try the imports\n",
    "import os\n",
    "import torch\n",
    "import math\n",
    "import numpy as np\n",
    "import pandas as pd\n",
    "import sys\n",
    "import random\n",
    "sys.path.append(\"../\")\n",
    "from tqdm.notebook import tqdm\n",
    "sys.path.append('../UI_Labeling')\n",
    "from torch.utils.data import Dataset, DataLoader\n",
    "from torchvision import transforms\n",
    "\n",
    "import cv2"
   ]
  },
  {
   "cell_type": "code",
   "execution_count": 4,
   "id": "7b6559ee",
   "metadata": {},
   "outputs": [
    {
     "name": "stdout",
     "output_type": "stream",
     "text": [
      "1.13.0+cu117\n"
     ]
    }
   ],
   "source": [
    "print(torch.__version__)"
   ]
  },
  {
   "cell_type": "code",
   "execution_count": 16,
   "id": "0e5c0c12",
   "metadata": {},
   "outputs": [],
   "source": [
    "#Variables\n",
    "model_name = \"googletest_Upsampled_Train_n\""
   ]
  },
  {
   "cell_type": "code",
   "execution_count": 17,
   "id": "010a8912",
   "metadata": {},
   "outputs": [
    {
     "data": {
      "text/plain": [
       "'\\ntransformList=transforms.RandomApply(torch.nn.ModuleList([\\n    transforms.ColorJitter(hue=.1,contrast=.25,saturation=.25,brightness=.25),\\n    transforms.RandomAffine(15),\\n]),p=.25)\\n#'"
      ]
     },
     "execution_count": 17,
     "metadata": {},
     "output_type": "execute_result"
    }
   ],
   "source": [
    "#Transformations\n",
    "transformList=None\n",
    "\"\"\"\n",
    "transformList=transforms.RandomApply(torch.nn.ModuleList([\n",
    "    transforms.ColorJitter(hue=.1,contrast=.25,saturation=.25,brightness=.25),\n",
    "    transforms.RandomAffine(15),\n",
    "]),p=.25)\n",
    "#\"\"\""
   ]
  },
  {
   "cell_type": "code",
   "execution_count": 36,
   "id": "20020317",
   "metadata": {},
   "outputs": [],
   "source": [
    "#device = \"cuda\" if torch.cuda.is_available() else \"cpu\"\n",
    "device='cpu'\n",
    "class Combo_BI_Dataset(Dataset):\n",
    "    \"\"\"\n",
    "    Dataset for country/ies DL Sentinel2 10-channel imagery.\n",
    "    \"\"\"\n",
    "    def __init__(self, DS_Name, balance=False, limit=0, mode=\"full\",transform=None):\n",
    "        super(Combo_BI_Dataset, self).__init__()\n",
    "        self.df=pd.DataFrame()\n",
    "        self.upsampled=True\n",
    "        self.transform=transform\n",
    "        \n",
    "        def add_dataset(dataset_name):\n",
    "            df=pd.read_csv(\"Image_Datasets/\"+dataset_name+'/metadata.csv')\n",
    "            if dataset_name == 'bangladesh_dl_dataset' or dataset_name == 'india_dl_dataset':\n",
    "                self.upsampled=False\n",
    "                \n",
    "            if balance:\n",
    "                confirmed={'Image':{},'Label':{},'Geometry':{}}\n",
    "                denied={'Image':{},'Label':{},'Geometry':{}}\n",
    "                for idx in df['Label'].keys():\n",
    "                    if df['Label'][idx]:\n",
    "                        confirmed['Image'][idx]=df['Image'][idx]\n",
    "                        confirmed['Label'][idx]=df['Label'][idx]\n",
    "                        confirmed['Geometry'][idx]=df['Geometry'][idx]\n",
    "                    else:\n",
    "                        denied['Image'][idx]=df['Image'][idx]\n",
    "                        denied['Label'][idx]=df['Label'][idx]\n",
    "                        denied['Geometry'][idx]=df['Geometry'][idx]\n",
    "                        \n",
    "                if limit:\n",
    "                    random.seed(0)\n",
    "                    sample_keys=random.sample(list(confirmed['Image'].keys()),min([len(confirmed['Image']),limit]))\n",
    "                    confirmed={'Image':{},'Label':{},'Geometry':{}}\n",
    "                    for idx in sample_keys:\n",
    "                        confirmed['Image'][idx]=df['Image'][idx]\n",
    "                        confirmed['Label'][idx]=df['Label'][idx]\n",
    "                        confirmed['Geometry'][idx]=df['Geometry'][idx]\n",
    "                random.seed(0)\n",
    "                sample_keys=random.sample(list(denied['Image'].keys()),min([len(denied['Image']),math.ceil((len(confirmed['Image'])*3))]))\n",
    "                denied={'Image':{},'Label':{},'Geometry':{}}\n",
    "                for idx in sample_keys:\n",
    "                    denied['Image'][idx]=df['Image'][idx]\n",
    "                    denied['Label'][idx]=df['Label'][idx]\n",
    "                    denied['Geometry'][idx]=df['Geometry'][idx]\n",
    "                confirmed['Image'].update(denied['Image'])\n",
    "                confirmed['Label'].update(denied['Label'])\n",
    "                confirmed['Geometry'].update(denied['Geometry'])\n",
    "                df=pd.DataFrame().from_dict(confirmed)\n",
    "            #\"\"\"\n",
    "            df[\"Image\"]='Image_Datasets/'+dataset_name+'/'+df[\"Image\"]\n",
    "            df=df[['Image','Label']]\n",
    "            return df\n",
    "            \n",
    "    # ADD DATASETS HERE FOR TRAINING\n",
    "        \n",
    "        self.df = pd.concat([self.df,add_dataset(DS_Name)])\n",
    "        \n",
    "    # END EDITABLES\n",
    "        \n",
    "        self.df = self.df.sample(frac=1, random_state=0)\n",
    "        \n",
    "        if mode == \"tiny\":\n",
    "            self.df = self.df.sample(frac=.05, random_state=0)\n",
    "        \n",
    "    \n",
    "    def __getitem__(self, idx):\n",
    "        file_name, label = self.df.iloc[idx]\n",
    "        img = torch.Tensor(np.load(file_name)/256).to(device)\n",
    "        if self.transform:\n",
    "            img=self.transform(img)\n",
    "            img=img*256\n",
    "        else:\n",
    "            img=img*256\n",
    "        img.int()\n",
    "            \n",
    "        label = torch.Tensor([label]).to(device)\n",
    "        \n",
    "        return img, label\n",
    "        \n",
    "        \n",
    "    def __len__(self):\n",
    "        return len(self.df)\n"
   ]
  },
  {
   "cell_type": "code",
   "execution_count": 31,
   "id": "748a7c1e",
   "metadata": {},
   "outputs": [],
   "source": [
    "from torchvision.models import resnet18\n",
    "import torch.nn as nn\n",
    "\n",
    "class Resnet(torch.nn.Module):\n",
    "    def __init__(self, num_channels, image_width=64, device=None, pretrained=False):\n",
    "        super(Resnet, self).__init__()\n",
    "        self.device = device        \n",
    "        self.resnet = resnet18(pretrained=pretrained)\n",
    "        self.resnet.conv1 = torch.nn.Conv2d(num_channels, image_width, kernel_size=(7, 7), stride=(2, 2), padding=(3, 3), bias=False)\n",
    "        self.resnet.fc = torch.nn.Linear(self.resnet.fc.in_features, 256).to(device)\n",
    "        self.final_fc = torch.nn.Linear(256, 1).to(device)\n",
    "        \n",
    "        self.resnet = self.resnet.to(device)\n",
    "        \n",
    "        self.sigmoid = nn.Sigmoid()\n",
    "        \n",
    "    def forward(self, x):\n",
    "        resnet_output = self.resnet(x)\n",
    "        outputs = self.final_fc(resnet_output)\n",
    "        outputs = self.sigmoid(outputs)\n",
    "        return outputs\n",
    "    "
   ]
  },
  {
   "cell_type": "code",
   "execution_count": 41,
   "id": "310aa243",
   "metadata": {},
   "outputs": [],
   "source": [
    "def train_one_epoch(model, train_loader, optimizer, criterion):\n",
    "    model.train()\n",
    "    running_loss = 0.0\n",
    "    for batch_iter, (inputs, labels) in enumerate(train_loader):\n",
    "        optimizer.zero_grad()\n",
    "        outputs = model(np.transpose(inputs,(0,3,1,2)))\n",
    "        \n",
    "        loss = criterion(outputs, labels)\n",
    "        \n",
    "        running_loss += loss.item()\n",
    "\n",
    "        loss.backward()\n",
    "        optimizer.step()\n",
    "        torch.cuda.empty_cache()\n",
    "    \n",
    "    return running_loss / batch_iter+1\n",
    "        \n",
    "        \n",
    "def evaluate_model(model, val_loader):\n",
    "    model.eval()\n",
    "    running_loss = 0.0\n",
    "    with torch.no_grad():\n",
    "        all_labels = []\n",
    "        all_preds = []\n",
    "        all_outputs = []\n",
    "        for batch_iter, (inputs, labels) in enumerate(val_loader):\n",
    "\n",
    "            outputs = model(np.transpose(inputs,(0,3,1,2)))\n",
    "            loss = criterion(outputs, labels)\n",
    "            running_loss += loss.item()\n",
    "            \n",
    "            outputs = outputs.cpu().detach().numpy()\n",
    "            labels = labels.cpu().detach().numpy()\n",
    "            preds = (outputs > .5).astype('int')\n",
    "            \n",
    "            all_labels.append(labels)\n",
    "            all_preds.append(preds)\n",
    "            all_outputs.append(outputs)\n",
    "        \n",
    "        all_labels = np.array([label for vec in all_labels for label in vec])\n",
    "        all_preds = np.stack([pred for vec in all_preds for pred in vec])\n",
    "        all_outputs = np.stack([output for vec in all_outputs for output in vec])\n",
    "        val_acc = np.mean((all_labels == all_preds).astype('int'))\n",
    "            \n",
    "    return val_acc, running_loss / batch_iter+1, all_labels, all_outputs\n",
    "\n",
    "def save_checkpoint(logdir, model, optimizer, epoch, loss, lr, best=None,last=None):\n",
    "    \"\"\"\n",
    "    Saves model checkpoint after each epoch\n",
    "    logdir: Log directory\n",
    "    model: model to save\n",
    "    optimizer: optimizer to save\n",
    "    epoch: epoch to save on\n",
    "    loss: loss to log\n",
    "    lr: learning rate to log\n",
    "    best: An optional string used to specify which validation method this best\n",
    "    checkpoint is for\n",
    "    \"\"\"\n",
    "    checkpoint_dir = os.path.join(logdir, \"checkpoints\")\n",
    "    os.makedirs(checkpoint_dir, exist_ok=True)\n",
    "    if best:\n",
    "        print(f\"Saving checkpoint, {best}.\")\n",
    "        checkpoint_path = \"{}/best_{}.pth\".format(checkpoint_dir, best)\n",
    "    elif last:\n",
    "        print(f\"Saving last, {last}.\")\n",
    "        checkpoint_path = \"{}/last_{}.pth\".format(checkpoint_dir,last)\n",
    "    else:\n",
    "        checkpoint_path = \"{}/lr{}_epoch{}.pth\".format(checkpoint_dir, lr, epoch)\n",
    "\n",
    "    torch.save({\n",
    "            'epoch': epoch,\n",
    "            'model_state_dict': model.state_dict(),\n",
    "            'optimizer_state_dict': optimizer.state_dict(),\n",
    "            'loss': loss,\n",
    "            }, checkpoint_path)\n",
    "\n",
    "    if not best:\n",
    "        print(\"Saving checkpoint to lr{}_epoch{}\".format(lr, epoch))\n",
    "        \n",
    "\n",
    "def load_checkpoint(model_checkpoint, model, device, optimizer=None):\n",
    "    \"\"\"\n",
    "    Loads a pretrained checkpoint to continue training\n",
    "    model_checkpoint: Path of the model_checkpoint that ends with .pth\n",
    "    model: model to load to\n",
    "    device: devide to load on (gpu/cpu)\n",
    "    optimizer (optional): optimize to load state to\n",
    "    \"\"\"\n",
    "    checkpoint = torch.load(model_checkpoint, map_location=device)\n",
    "    print('Loaded best state dict from epoch: {}'.format(checkpoint[\"epoch\"]))\n",
    "    model.load_state_dict(checkpoint[\"model_state_dict\"])\n",
    "    if optimizer is not None:\n",
    "        optimizer.load_state_dict(checkpoint['optimizer_state_dict'])\n",
    "    model.to(device)\n",
    "    return model"
   ]
  },
  {
   "cell_type": "code",
   "execution_count": 42,
   "id": "32157ea2",
   "metadata": {},
   "outputs": [
    {
     "name": "stdout",
     "output_type": "stream",
     "text": [
      "268 training examples and 68 validation examples.\n"
     ]
    }
   ],
   "source": [
    "dataset=[]\n",
    "train_dset=None\n",
    "val_dset=None\n",
    "#Commend or uncomment for datasets you'd like to add.\n",
    "dataset.append(Combo_BI_Dataset('googletest_state_sampled_nepal_dl_dataset',True,702,transform=transformList))\n",
    "#dataset.append(Combo_BI_Dataset('Upsampled_india_dl_dataset',True,858,transform=transformList))\n",
    "#dataset.append(Combo_BI_Dataset('v2_Upsampled_high_sampled_india_dl_dataset',True,858,transform=transformList))\n",
    "#dataset.append(Combo_BI_Dataset('v2_Upsampled_updatedModel_state_sampled_pakistan_dl_dataset',True,858,transform=transformList))\n",
    "#dataset.append(Combo_BI_Dataset('v2_Upsampled_updatedModel_state_sampled_nepal_dl_dataset',True,858,transform=transformList))\n",
    "\n",
    "for dset in dataset:\n",
    "    train, val = torch.utils.data.random_split(\n",
    "        dset, \n",
    "        [len(dset)*8//10, len(dset)-len(dset)*8//10], # 80-10% split\n",
    "        generator=torch.Generator().manual_seed(0)\n",
    "    )\n",
    "    if train_dset is None and val_dset is None:\n",
    "        train_dset=train\n",
    "        val_dset=val\n",
    "    else:\n",
    "        train_dset=torch.utils.data.ConcatDataset([train_dset,train])\n",
    "        val_dset=torch.utils.data.ConcatDataset([val_dset,val])\n",
    "print(f\"{len(train_dset)} training examples and {len(val_dset)} validation examples.\")\n",
    "train_loader = DataLoader(train_dset, batch_size=64,shuffle=True)\n",
    "val_loader = DataLoader(val_dset, batch_size=64,shuffle=True)"
   ]
  },
  {
   "cell_type": "code",
   "execution_count": 43,
   "id": "c3954dc0",
   "metadata": {},
   "outputs": [],
   "source": [
    "# let's give it a whirl\n",
    "\n",
    "# some things to try for speedups:\n",
    "# torch.cuda.empty_cache()\n",
    "# change number of workers, use detach instead of just \n",
    "N_EPOCHS = 50\n",
    "model = Resnet(3, device=device)\n",
    "lr = 1e-4\n",
    "optimizer = torch.optim.Adam(model.parameters(), lr=lr)\n",
    "criterion = nn.BCELoss()\n",
    "\n",
    "best_val_loss = None\n",
    "\n",
    "logdir = \"model_log_dl/\"+model_name+\"_50_training_steps/\"\n"
   ]
  },
  {
   "cell_type": "markdown",
   "id": "39d6ba1d",
   "metadata": {},
   "source": [
    "## BUFFER"
   ]
  },
  {
   "cell_type": "code",
   "execution_count": 44,
   "id": "9dd7ef9b",
   "metadata": {
    "tags": []
   },
   "outputs": [
    {
     "data": {
      "application/vnd.jupyter.widget-view+json": {
       "model_id": "20dd42e88b874e21a18fcf209c3ca6e8",
       "version_major": 2,
       "version_minor": 0
      },
      "text/plain": [
       "  0%|          | 0/50 [00:00<?, ?it/s]"
      ]
     },
     "metadata": {},
     "output_type": "display_data"
    },
    {
     "name": "stdout",
     "output_type": "stream",
     "text": [
      "Train_loss: 0.648717, Val-acc: 0.75000, Val-loss: 2.31341\n",
      "Saving checkpoint to lr0.0001_epoch0\n",
      "Early Stop: 0 /7\n",
      "Train_loss: 0.396677, Val-acc: 0.79412, Val-loss: 1.14866\n",
      "Early Stop: 0 /7\n",
      "Train_loss: 0.294976, Val-acc: 0.85294, Val-loss: 0.35371\n",
      "Early Stop: 0 /7\n",
      "Train_loss: 0.371795, Val-acc: 0.88235, Val-loss: 0.35705\n",
      "Early Stop: 0 /7\n",
      "Train_loss: 0.333496, Val-acc: 0.85294, Val-loss: 0.78215\n",
      "Early Stop: 0 /7\n",
      "Train_loss: 0.274958, Val-acc: 0.91176, Val-loss: 0.26163\n",
      "Early Stop: 0 /7\n",
      "Train_loss: 0.251050, Val-acc: 0.83824, Val-loss: 0.39462\n",
      "Best val loss, saving checkpoint!\n",
      "Saving checkpoint, dl_best.\n",
      "Early Stop: 0 /7\n",
      "Train_loss: 0.247784, Val-acc: 0.88235, Val-loss: 0.39662\n",
      "Early Stop: 0 /7\n",
      "Train_loss: 0.218613, Val-acc: 0.88235, Val-loss: 0.42815\n",
      "Early Stop: 0 /7\n",
      "Train_loss: 0.235103, Val-acc: 0.88235, Val-loss: 0.28202\n",
      "Best val loss, saving checkpoint!\n",
      "Saving checkpoint, dl_best.\n",
      "Early Stop: 0 /7\n",
      "Train_loss: 0.212472, Val-acc: 0.88235, Val-loss: 0.56634\n",
      "Early Stop: 1 /7\n",
      "Train_loss: 0.148267, Val-acc: 0.91176, Val-loss: 0.79376\n",
      "Early Stop: 2 /7\n",
      "Train_loss: 0.195715, Val-acc: 0.91176, Val-loss: 0.29586\n",
      "Saving checkpoint to lr0.0001_epoch12\n",
      "Early Stop: 2 /7\n",
      "Train_loss: 0.271721, Val-acc: 0.88235, Val-loss: 0.30527\n",
      "Early Stop: 2 /7\n",
      "Train_loss: 0.187067, Val-acc: 0.86765, Val-loss: 0.25302\n",
      "Best val loss, saving checkpoint!\n",
      "Saving checkpoint, dl_best.\n",
      "Early Stop: 0 /7\n",
      "Train_loss: 0.170102, Val-acc: 0.94118, Val-loss: 0.19571\n",
      "Best val loss, saving checkpoint!\n",
      "Saving checkpoint, dl_best.\n",
      "Early Stop: 0 /7\n",
      "Train_loss: 0.164292, Val-acc: 0.91176, Val-loss: 0.25332\n",
      "Early Stop: 1 /7\n",
      "Train_loss: 0.153475, Val-acc: 0.88235, Val-loss: 0.30726\n",
      "Early Stop: 2 /7\n",
      "Train_loss: 0.181470, Val-acc: 0.92647, Val-loss: 0.21236\n",
      "Early Stop: 2 /7\n",
      "Train_loss: 0.113742, Val-acc: 0.91176, Val-loss: 0.35285\n",
      "Early Stop: 3 /7\n",
      "Train_loss: 0.112213, Val-acc: 0.94118, Val-loss: 0.20654\n",
      "Early Stop: 3 /7\n",
      "Train_loss: 0.076036, Val-acc: 0.92647, Val-loss: 0.39149\n",
      "Early Stop: 4 /7\n",
      "Train_loss: 0.126383, Val-acc: 0.89706, Val-loss: 0.25865\n",
      "Early Stop: 5 /7\n",
      "Train_loss: 0.141325, Val-acc: 0.86765, Val-loss: 0.39998\n",
      "Early Stop: 6 /7\n",
      "Train_loss: 0.070495, Val-acc: 0.91176, Val-loss: 1.30213\n",
      "Saving checkpoint to lr0.0001_epoch24\n",
      "Early Stop: 7 /7\n",
      "Train_loss: 0.213639, Val-acc: 0.91176, Val-loss: 0.18116\n",
      "Best val loss, saving checkpoint!\n",
      "Saving checkpoint, dl_best.\n",
      "Early Stop: 0 /7\n",
      "Train_loss: 0.203849, Val-acc: 0.91176, Val-loss: 0.27725\n",
      "Early Stop: 1 /7\n",
      "Train_loss: 0.264690, Val-acc: 0.86765, Val-loss: 1.23430\n",
      "Early Stop: 2 /7\n",
      "Train_loss: 0.082621, Val-acc: 0.77941, Val-loss: 1.03209\n",
      "Early Stop: 3 /7\n",
      "Train_loss: 0.083758, Val-acc: 0.82353, Val-loss: 0.79255\n",
      "Early Stop: 4 /7\n",
      "Train_loss: 0.131954, Val-acc: 0.80882, Val-loss: 1.99922\n",
      "Early Stop: 5 /7\n",
      "Train_loss: 0.099639, Val-acc: 0.86765, Val-loss: 1.16807\n",
      "Early Stop: 6 /7\n",
      "Train_loss: 0.051900, Val-acc: 0.91176, Val-loss: 0.52954\n",
      "Early Stop: 7 /7\n",
      "Train_loss: 0.047645, Val-acc: 0.89706, Val-loss: 0.27379\n",
      "Early Stop: 8 /7\n"
     ]
    }
   ],
   "source": [
    "early_stop=0\n",
    "if not os.path.exists(logdir):\n",
    "    os.mkdir(logdir)\n",
    "\n",
    "for epoch in tqdm(range(N_EPOCHS)):\n",
    "    if early_stop >= 7:\n",
    "        print('Early stopping!')\n",
    "        break;\n",
    "    train_loss = train_one_epoch(model, train_loader, optimizer, criterion)\n",
    "    val_acc, val_loss, _, _ = evaluate_model(model, val_loader)\n",
    "    \n",
    "    print(f\"Train_loss: {train_loss:.6f}, Val-acc: {val_acc:.5f}, Val-loss: {val_loss:.5f}\")\n",
    "    \n",
    "    if epoch > 5 and (best_val_loss is None or val_loss < best_val_loss):\n",
    "        early_stop = 0\n",
    "        best_val_loss = val_loss\n",
    "        print(\"Best val loss, saving checkpoint!\")\n",
    "        save_checkpoint(logdir, model, optimizer, epoch, val_loss, lr, best=\"dl_best\")\n",
    "    elif epoch > 5 and (val_loss >= best_val_loss*1.1):\n",
    "        early_stop+=1\n",
    "    if epoch % 12 == 0:\n",
    "        save_checkpoint(logdir, model, optimizer, epoch, val_loss, lr)\n",
    "    print('Early Stop:',early_stop,'/7')\n",
    "print('Done!')"
   ]
  },
  {
   "cell_type": "code",
   "execution_count": 45,
   "id": "52449681",
   "metadata": {},
   "outputs": [
    {
     "name": "stdout",
     "output_type": "stream",
     "text": [
      "Saving last, dl_last.\n",
      "Saving checkpoint to lr0.0001_epoch34\n"
     ]
    }
   ],
   "source": [
    "save_checkpoint(logdir, model, optimizer, epoch, val_loss, lr,last='dl_last')"
   ]
  },
  {
   "cell_type": "markdown",
   "id": "a592e670",
   "metadata": {},
   "source": [
    "## BUFFER"
   ]
  },
  {
   "cell_type": "code",
   "execution_count": 46,
   "id": "8ed29475",
   "metadata": {},
   "outputs": [
    {
     "name": "stdout",
     "output_type": "stream",
     "text": [
      "Loaded best state dict from epoch: 25\n",
      "Loaded best state dict from epoch: 34\n"
     ]
    }
   ],
   "source": [
    "#let's test this bad boy\n",
    "best_val_model = Resnet(3, device=device)\n",
    "final_epoch_model = Resnet(3, device=device)\n",
    "\n",
    "best_val_model = load_checkpoint(f\"{logdir}/checkpoints/best_dl_best.pth\", \n",
    "                                 best_val_model, \n",
    "                                 device)\n",
    "#best_val_model = load_checkpoint('kiln_prod_weights.pth',best_val_model,device)\n",
    "final_epoch_model = load_checkpoint(f\"{logdir}/checkpoints/last_dl_last.pth\", \n",
    "                                    final_epoch_model, \n",
    "                                    device)\n",
    "\n",
    "#final_epoch_model = load_checkpoint(f\"{logdir}/checkpoints/lr0.0001_epoch49.pth\", \n",
    "#                                    final_epoch_model, \n",
    "#                                    device)\n"
   ]
  },
  {
   "cell_type": "code",
   "execution_count": 47,
   "id": "9e45dafb",
   "metadata": {},
   "outputs": [],
   "source": [
    "best_val_acc, best_val_loss, best_labels, best_outputs = evaluate_model(best_val_model, \n",
    "                                                                        val_loader)\n",
    "final_val_acc, final_val_loss, final_labels, final_outputs = evaluate_model(final_epoch_model, \n",
    "                                                                            val_loader)\n"
   ]
  },
  {
   "cell_type": "code",
   "execution_count": 48,
   "id": "76cada4d",
   "metadata": {},
   "outputs": [
    {
     "name": "stdout",
     "output_type": "stream",
     "text": [
      "Best: 0.9117647058823529 0.17421196741634049\n",
      "Last: 0.8970588235294118 0.31351378187537193\n"
     ]
    }
   ],
   "source": [
    "print('Best:',best_val_acc, best_val_loss)\n",
    "print('Last:',final_val_acc, final_val_loss)"
   ]
  },
  {
   "cell_type": "code",
   "execution_count": 49,
   "id": "163fe69a",
   "metadata": {},
   "outputs": [
    {
     "data": {
      "text/plain": [
       "<sklearn.metrics._plot.roc_curve.RocCurveDisplay at 0x7fbf6a8e1d00>"
      ]
     },
     "execution_count": 49,
     "metadata": {},
     "output_type": "execute_result"
    },
    {
     "data": {
      "image/png": "[encoded data removed]",
      "text/plain": [
       "<Figure size 640x480 with 1 Axes>"
      ]
     },
     "metadata": {},
     "output_type": "display_data"
    },
    {
     "data": {
      "image/png": "[encoded data removed]",
      "text/plain": [
       "<Figure size 640x480 with 1 Axes>"
      ]
     },
     "metadata": {},
     "output_type": "display_data"
    }
   ],
   "source": [
    "import sklearn.metrics as metrics\n",
    "import matplotlib.pyplot as plt\n",
    "\n",
    "# val_roc = roc_auc_score(best_labels, best_outputs)\n",
    "# final_roc = roc_auc_score(final_labels, final_outputs)\n",
    "\n",
    "final_fpr, final_tpr, final_thresholds = metrics.roc_curve(final_labels, final_outputs)\n",
    "final_roc_auc = metrics.auc(final_fpr, final_tpr)\n",
    "display = metrics.RocCurveDisplay(fpr=final_fpr, tpr=final_tpr, roc_auc=final_roc_auc)\n",
    "display.plot()\n",
    "# plt.show()\n",
    "\n",
    "best_fpr, best_tpr, best_thresholds = metrics.roc_curve(best_labels, best_outputs)\n",
    "best_roc_auc = metrics.auc(best_fpr, best_tpr)\n",
    "display = metrics.RocCurveDisplay(fpr=best_fpr, tpr=best_tpr, roc_auc=best_roc_auc)\n",
    "display.plot()"
   ]
  },
  {
   "cell_type": "code",
   "execution_count": 50,
   "id": "a2a8b09a",
   "metadata": {},
   "outputs": [
    {
     "name": "stdout",
     "output_type": "stream",
     "text": [
      "Best: 0.9903846153846154\n",
      "Last: 0.9699519230769231\n"
     ]
    }
   ],
   "source": [
    "print('Best:',best_roc_auc)\n",
    "print('Last:',final_roc_auc)\n"
   ]
  },
  {
   "cell_type": "markdown",
   "id": "b41cdb08",
   "metadata": {},
   "source": [
    "## BUFFER"
   ]
  },
  {
   "cell_type": "code",
   "execution_count": 20,
   "id": "4bdc6186",
   "metadata": {},
   "outputs": [
    {
     "name": "stdout",
     "output_type": "stream",
     "text": [
      "hi\n"
     ]
    }
   ],
   "source": [
    "print('hi')"
   ]
  },
  {
   "cell_type": "code",
   "execution_count": null,
   "id": "14527402",
   "metadata": {},
   "outputs": [],
   "source": []
  }
 ],
 "metadata": {
  "kernelspec": {
   "display_name": "Python 3 (ipykernel)",
   "language": "python",
   "name": "python3"
  },
  "language_info": {
   "codemirror_mode": {
    "name": "ipython",
    "version": 3
   },
   "file_extension": ".py",
   "mimetype": "text/x-python",
   "name": "python",
   "nbconvert_exporter": "python",
   "pygments_lexer": "ipython3",
   "version": "3.8.10"
  }
 },
 "nbformat": 4,
 "nbformat_minor": 5
}
