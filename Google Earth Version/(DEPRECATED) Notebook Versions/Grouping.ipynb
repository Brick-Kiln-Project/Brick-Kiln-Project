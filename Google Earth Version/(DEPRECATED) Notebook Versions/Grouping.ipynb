{
 "cells": [
  {
   "cell_type": "raw",
   "id": "c173a450-089f-439a-990f-6733570baf8c",
   "metadata": {},
   "source": [
    "## Initialize Main Function and Global Variables"
   ]
  },
  {
   "cell_type": "code",
   "execution_count": 1,
   "id": "f6bc5fea",
   "metadata": {},
   "outputs": [
    {
     "name": "stderr",
     "output_type": "stream",
     "text": [
      "2022-12-13 16:51:10.769032: I tensorflow/core/platform/cpu_feature_guard.cc:193] This TensorFlow binary is optimized with oneAPI Deep Neural Network Library (oneDNN) to use the following CPU instructions in performance-critical operations:  AVX2 FMA\n",
      "To enable them in other operations, rebuild TensorFlow with the appropriate compiler flags.\n",
      "2022-12-13 16:51:11.283995: W tensorflow/compiler/xla/stream_executor/platform/default/dso_loader.cc:64] Could not load dynamic library 'libcudart.so.11.0'; dlerror: libcudart.so.11.0: cannot open shared object file: No such file or directory\n",
      "2022-12-13 16:51:11.284010: I tensorflow/compiler/xla/stream_executor/cuda/cudart_stub.cc:29] Ignore above cudart dlerror if you do not have a GPU set up on your machine.\n",
      "2022-12-13 16:51:12.742173: W tensorflow/compiler/xla/stream_executor/platform/default/dso_loader.cc:64] Could not load dynamic library 'libnvinfer.so.7'; dlerror: libnvinfer.so.7: cannot open shared object file: No such file or directory\n",
      "2022-12-13 16:51:12.742263: W tensorflow/compiler/xla/stream_executor/platform/default/dso_loader.cc:64] Could not load dynamic library 'libnvinfer_plugin.so.7'; dlerror: libnvinfer_plugin.so.7: cannot open shared object file: No such file or directory\n",
      "2022-12-13 16:51:12.742270: W tensorflow/compiler/tf2tensorrt/utils/py_utils.cc:38] TF-TRT Warning: Cannot dlopen some TensorRT libraries. If you would like to use Nvidia GPU with TensorRT, please make sure the missing libraries mentioned above are installed properly.\n"
     ]
    },
    {
     "name": "stdout",
     "output_type": "stream",
     "text": [
      "Requirement already satisfied: kneed in /home/mrtaco/.local/lib/python3.8/site-packages (0.8.1)\n",
      "Requirement already satisfied: scipy>=1.0.0 in /home/mrtaco/.local/lib/python3.8/site-packages (from kneed) (1.9.3)\n",
      "Requirement already satisfied: numpy>=1.14.2 in /home/mrtaco/.local/lib/python3.8/site-packages (from kneed) (1.23.4)\n"
     ]
    }
   ],
   "source": [
    "#Import relevant Classes!\n",
    "import numpy as np\n",
    "import copy\n",
    "import math\n",
    "import matplotlib.pyplot as plt\n",
    "import pandas as pd\n",
    "import pickle as pkl\n",
    "from gzip import compress, decompress\n",
    "from multiprocessing import Pool\n",
    "from multiprocessing.pool import ThreadPool\n",
    "from keras.applications.vgg16 import VGG16\n",
    "from keras.applications.vgg16 import preprocess_input \n",
    "from keras.models import Model\n",
    "from sklearn.cluster import KMeans\n",
    "from sklearn.decomposition import IncrementalPCA\n",
    "import sys\n",
    "!{sys.executable} -m pip install kneed\n",
    "from kneed import KneeLocator\n",
    "from shapely.wkt import loads\n",
    "import random\n",
    "from tqdm.notebook import tqdm\n",
    "sys.path.append('../Predicted_Datasets/')\n",
    "import itertools\n",
    "import PIL\n",
    "import requests\n",
    "import io\n",
    "from PIL import Image\n",
    "from requests.adapters import HTTPAdapter, Retry\n",
    "import pyproj\n",
    "import shapely\n",
    "\n",
    "from shapely.ops import transform\n",
    "import ee\n",
    "#ee.Authenticate()\n",
    "ee.Initialize()\n",
    "import geetools\n",
    "from tifffile import imread, imwrite\n",
    "import zipfile\n",
    "import os\n",
    "import shutil\n",
    "import googlemaps\n",
    "import keys\n",
    "from googlemaps.maps import StaticMapPath\n",
    "gmaps=googlemaps.Client(key=keys.googleMapsKey)"
   ]
  },
  {
   "cell_type": "code",
   "execution_count": 2,
   "id": "ba62a8f0",
   "metadata": {},
   "outputs": [],
   "source": [
    "def loadImage(image,geometry,rgb_only=True):\n",
    "    \n",
    "    #save image locally as three separate tif files zipped\n",
    "    if rgb_only:\n",
    "        bands=['B4','B3','B2']\n",
    "    else:\n",
    "        bands=['B1','B4','B3','B2','B5','B7','B8A','B8','B11','B12']\n",
    "    try:\n",
    "        thumbUrl=image.getThumbUrl({\n",
    "            'region':geometry,\n",
    "            'bands':bands,\n",
    "            'min':0,\n",
    "            'max':3000,\n",
    "            'format':'png',\n",
    "            'crs':'EPSG:3857',\n",
    "            'dimensions':'64x64',\n",
    "        })\n",
    "        #\"\"\"\n",
    "        s = requests.Session()\n",
    "        retries = Retry(\n",
    "            total=1,\n",
    "            backoff_factor=0.1,\n",
    "            status_forcelist=[429, 500, 502, 503, 504]\n",
    "        )\n",
    "\n",
    "        s.mount(thumbUrl, HTTPAdapter(max_retries=retries))\n",
    "\n",
    "        response = s.get(thumbUrl,timeout=15)\n",
    "        img = Image.open(io.BytesIO(response.content)).convert('RGB')\n",
    "        img = np.array(img)\n",
    "        if img.shape != (64,64,3):\n",
    "            return None\n",
    "    except ee.EEException as e:\n",
    "        print(\"Earth Engine Failure\",e)\n",
    "        return None\n",
    "    except PIL.UnidentifiedImageError as p:\n",
    "        print(response.content)\n",
    "        return None\n",
    "    except Exception as e:\n",
    "        print(e)\n",
    "        return None\n",
    "    #\"\"\"\n",
    "    #the stack to make an int array cutting off any extra rows/columns to guarantee shape\n",
    "    img=img[:64,:64,:]\n",
    "    #Delete Temporary Files and return img\n",
    "    return img"
   ]
  },
  {
   "cell_type": "code",
   "execution_count": 3,
   "id": "393bb32e",
   "metadata": {},
   "outputs": [],
   "source": [
    "def transformCoordinates(geometry,sourceCoord,toCoord):\n",
    "    #Initialize Coord Swapping\n",
    "    source = pyproj.CRS(sourceCoord)\n",
    "    to = pyproj.CRS(toCoord)\n",
    "    project = pyproj.Transformer.from_crs(source, to, always_xy=True).transform\n",
    "    \n",
    "    #Create usable format for geometry and transform it\n",
    "    shapegeom=shapely.geometry.shape(eval(geometry)['geometry'])\n",
    "    transformedgeom = transform(project, shapegeom)\n",
    "    \n",
    "    #Get center of tile\n",
    "    center=transformedgeom.centroid\n",
    "    \n",
    "    #Get coordinates of the transformed tile\n",
    "    coordlist=[]\n",
    "    xcoord,ycoord=transformedgeom.exterior.coords.xy\n",
    "    for i in range(len(xcoord)):\n",
    "        coordlist.append({\"lat\":ycoord[i],\"lng\":xcoord[i]})\n",
    "        \n",
    "    return center,coordlist"
   ]
  },
  {
   "cell_type": "code",
   "execution_count": 4,
   "id": "fee4e259",
   "metadata": {},
   "outputs": [],
   "source": [
    "#Create extract_features function which takes the image and retrieves features from the vgg model\n",
    "def extract_features(img,model):\n",
    "    reshaped_img=img.reshape(1,LOWIMGSHAPE,LOWIMGSHAPE,3)\n",
    "    copied=copy.deepcopy(reshaped_img)\n",
    "    imgx=preprocess_input(reshaped_img)\n",
    "    features=model.predict(imgx,use_multiprocessing=False,verbose=0)\n",
    "    return features"
   ]
  },
  {
   "cell_type": "code",
   "execution_count": 5,
   "id": "7054649b",
   "metadata": {},
   "outputs": [],
   "source": [
    "#Create gethrimage function which tries to obtain the satellite imagery of s2 and ab as uint8 arrays scaled to 0-255 for future plts, limited to TIMEOUT time in seconds.\n",
    "def gethrimage(subtileGeometries):\n",
    "    idx=subtileGeometries[0][0]\n",
    "    geometry=subtileGeometries[0][1]\n",
    "    lowResCollection=subtileGeometries[1]\n",
    "    \n",
    "    #Load google ee image\n",
    "    collection=lowResCollection.filterBounds(ee.Geometry(eval(geometry)['geometry'])).filter(ee.Filter.lte('CLOUDY_PIXEL_PERCENTAGE',25)).filter(ee.Filter.lte('DARK_FEATURES_PERCENTAGE',25)).filter(ee.Filter.lte('THIN_CIRRUS_PERCENTAGE',25))\n",
    "    image=collection.sort('HIGH_PROBA_CLOUDS_PERCENTAGE').first().clip(ee.Geometry(eval(geometry)['geometry']))\n",
    "    lowImg=loadImage(image,eval(geometry)['geometry'])\n",
    "    if lowImg is None:\n",
    "        print('None or bad image shape returned')\n",
    "        return None\n",
    "    \n",
    "    #Load google maps static image\n",
    "    center,coordlist=transformCoordinates(geometry,sourceCoord='EPSG:3857',toCoord='EPSG:4326')\n",
    "    path=StaticMapPath(\n",
    "        points=coordlist,\n",
    "        weight=5,\n",
    "        color=\"red\",\n",
    "        geodesic=True,\n",
    "    )\n",
    "    try:\n",
    "        response = gmaps.static_map(\n",
    "            size=(640,640),\n",
    "            zoom=17,\n",
    "            center=(center.y,center.x),\n",
    "            maptype='satellite',\n",
    "            format='png',\n",
    "            scale='1',   \n",
    "            path=path,\n",
    "        )\n",
    "        \n",
    "        temp=b''.join(list(response))\n",
    "        image=np.array(Image.open(io.BytesIO(temp)).convert('RGB'))\n",
    "    except:\n",
    "        return None\n",
    "    return [str(idx),lowImg,image,geometry,center]"
   ]
  },
  {
   "cell_type": "code",
   "execution_count": 6,
   "id": "7c279603",
   "metadata": {},
   "outputs": [],
   "source": [
    "#Set a number of global parameters for the entire form, edit this to specifications\n",
    "#Size of input image for the vggmodel initialization\n",
    "LOWIMGSHAPE=64\n",
    "#Number of images to be put into the Kmeans algorithm.  Active memory limited to 2500 with a pair of 64*64*3 and 640*640*3 satellite images and a feature set of 2*2*512, test or adjust at will\n",
    "BATCHSIZE=2250\n",
    "#Maximum number of groups to separate images into during the kmeans step.  Usually between 5-10 but this depends on input image and the feature extraction process, test or adjust at will \n",
    "KMEANSSIZE=50\n",
    "#Name of the current dataset, change as needed\n",
    "datasetName='googletest_state_sampled_slender_panda'\n",
    "#File Path\n",
    "pathway='Temp Images/'+datasetName+'/'"
   ]
  },
  {
   "cell_type": "code",
   "execution_count": 7,
   "id": "ab850a58",
   "metadata": {},
   "outputs": [],
   "source": [
    "def InitiateModel(subtileGeometries,batch):\n",
    "    #Initialize image dictionaries with keys and None\n",
    "    imageDict={}\n",
    "    data={}\n",
    "    for pair in subtileGeometries:\n",
    "        imageDict[pair[0]]=None\n",
    "    hrImgDict=copy.deepcopy(imageDict)\n",
    "    \n",
    "    #Initialize satellites\n",
    "    lowResCollection=ee.ImageCollection(\"COPERNICUS/S2_SR_HARMONIZED\").filterDate('2020-09-01','2021-09-01')\n",
    "    \n",
    "    #Initialize model\n",
    "    model = VGG16(include_top=False,input_shape=(LOWIMGSHAPE,LOWIMGSHAPE,3))\n",
    "    model = Model(inputs = model.inputs, outputs = model.layers[-1].output)\n",
    "    \n",
    "    #Get all of the low res images using some threadpooling and extract features from the VGG model\n",
    "    print('Getting Images!') \n",
    "    with Pool(processes=25) as pool:\n",
    "        with tqdm(total=len(subtileGeometries)) as pbar:\n",
    "            for task in pool.imap_unordered(gethrimage, zip(subtileGeometries,itertools.repeat(lowResCollection,len(subtileGeometries)))):\n",
    "                if task is not None:\n",
    "                    idx=task[0]\n",
    "                    lowImg=task[1]\n",
    "                    img=task[2]\n",
    "                    geometry=task[3]\n",
    "                    center=task[4]\n",
    "                    data[idx]=extract_features(lowImg,model)\n",
    "                    imageDict[idx]=[lowImg,geometry,center]\n",
    "                    hrImgDict[idx]=[img,geometry,center]\n",
    "                pbar.update()\n",
    "    print('Done!')\n",
    "    \n",
    "    #Upload the batch of images to the storage for later retrieval and clear the dictionaries\n",
    "    print('Saving Image Dicts to Files!')\n",
    "    loFile=open(pathway+datasetName+'LrBatch'+str(batch),'wb')\n",
    "    hrFile=open(pathway+datasetName+'HrBatch'+str(batch),'wb')\n",
    "    pkl.dump(imageDict,loFile)\n",
    "    pkl.dump(hrImgDict,hrFile)\n",
    "    imageDict.clear()\n",
    "    hrImgDict.clear()\n",
    "            \n",
    "    #initiate and run kmeans on a transformed feature set\n",
    "    feat = np.array(list(data.values()))\n",
    "    feat = feat.reshape(-1,2048)\n",
    "    if feat.shape[0] < 20:\n",
    "        print('Not enough images processed, please check the api usages and errors to ensure enough data is being processed')\n",
    "        return None\n",
    "    #Optimize the number of reduced features for groupings and run a final time on the most optimal\n",
    "    print(\"Optimizing Features\")\n",
    "    pca = IncrementalPCA(n_components=20,batch_size=20)\n",
    "    pca.fit(feat)\n",
    "    varianceDiff = [x - pca.explained_variance_ratio_[i - 1] for i, x in enumerate(pca.explained_variance_ratio_)][1:]\n",
    "    minVarianceIndex=varianceDiff.index(min(varianceDiff))+1\n",
    "\n",
    "    pca = IncrementalPCA(n_components=minVarianceIndex,batch_size=20)\n",
    "    pca.fit(feat)\n",
    "    \n",
    "    x=pca.transform(feat)\n",
    "    feat=[]\n",
    "    inertia=[]\n",
    "    \n",
    "    #Optimize Kmeans grouping by running it over a range of groups and run a final time on the most optimal\n",
    "    print(\"Optimizing clusters\")\n",
    "    for y in range(1,KMEANSSIZE):\n",
    "        kmeans=KMeans(n_clusters=y)\n",
    "        kmeans.fit(x)\n",
    "        inertia.append(kmeans.inertia_)\n",
    "        \n",
    "    plt.plot(range(1,KMEANSSIZE),inertia,'-o',color='black')\n",
    "    \n",
    "    kl = KneeLocator(range(1,KMEANSSIZE), inertia,direction='decreasing', curve=\"convex\")\n",
    "    kl.plot_knee()\n",
    "    \n",
    "    kmeans=KMeans(n_clusters=kl.knee)\n",
    "    kmeans.fit(x)\n",
    "    \n",
    "    \n",
    "    #Create Cluster Groups from KMeans results\n",
    "    print(\"Creating groups!\")\n",
    "    groups={}\n",
    "    for key, cluster in zip(np.array(list(data.keys())),kmeans.labels_):\n",
    "        if str(cluster) not in groups.keys():\n",
    "            groups[str(cluster)]=[]\n",
    "            groups[str(cluster)].append(key)\n",
    "        else:\n",
    "            groups[str(cluster)].append(key)\n",
    "    \n",
    "    #Upload the final grouping of the batch\n",
    "    print(\"Uploading Batched Group to Storage!\")\n",
    "    groupFile=open(pathway+datasetName+'GroupBatch'+str(batch),'wb')\n",
    "    pkl.dump(groups,groupFile)\n",
    "    #storage.set(datasetName+'GroupBatch'+str(batch),compress(pkl.dumps(groups)))\n"
   ]
  },
  {
   "cell_type": "markdown",
   "id": "56acd2bd",
   "metadata": {},
   "source": [
    "## Look over these next cells and edit/change or initialize any necessary values"
   ]
  },
  {
   "cell_type": "code",
   "execution_count": 8,
   "id": "8147d0d8",
   "metadata": {},
   "outputs": [],
   "source": [
    "#Load model results and separate the test set\n",
    "if not os.path.exists('Temp Images/'+datasetName):\n",
    "    os.mkdir('Temp Images/'+datasetName)\n",
    "totalDataset=pd.read_csv('../Predicted_Datasets/'+datasetName+'_results.csv').to_dict()\n",
    "subtileGeometries=[]\n",
    "for keys in totalDataset['prediction']:\n",
    "    subtileGeometries.append([totalDataset['idx'][keys],totalDataset['geometry'][keys]])\n",
    "random.shuffle(subtileGeometries)\n",
    "totalDataset.clear()"
   ]
  },
  {
   "cell_type": "code",
   "execution_count": 9,
   "id": "66e5a071",
   "metadata": {},
   "outputs": [
    {
     "name": "stdout",
     "output_type": "stream",
     "text": [
      "1221\n"
     ]
    }
   ],
   "source": [
    "#Create number of batches by set BATCHSIZE\n",
    "print(len(subtileGeometries))\n",
    "batches = math.ceil(len(subtileGeometries)/BATCHSIZE)"
   ]
  },
  {
   "cell_type": "markdown",
   "id": "b38fe778",
   "metadata": {},
   "source": [
    "## !!!\n",
    "## BEWARE RUNNING THE NEXT CELL WILL OVERWRITE EXISTING DATA IN STORAGE WITH THE SAME DATANAME, ENSURE THE:\n",
    "## DATANAME GLOBAL ABOVE IS ACCURATE\n",
    "## THE INFORMATION THERE IS NOT NECESSARY\n",
    "## REDUNDANCIES EXIST\n",
    "## THE BATCHES ARE STARTING FROM THE NEXT UNSAVED POINT\n",
    "## !!!"
   ]
  },
  {
   "cell_type": "code",
   "execution_count": 10,
   "id": "2654232a",
   "metadata": {
    "tags": []
   },
   "outputs": [
    {
     "name": "stderr",
     "output_type": "stream",
     "text": [
      "2022-12-13 16:51:33.180784: I tensorflow/compiler/xla/stream_executor/cuda/cuda_gpu_executor.cc:967] could not open file to read NUMA node: /sys/bus/pci/devices/0000:01:00.0/numa_node\n",
      "Your kernel may have been built without NUMA support.\n",
      "2022-12-13 16:51:33.180916: W tensorflow/compiler/xla/stream_executor/platform/default/dso_loader.cc:64] Could not load dynamic library 'libcudart.so.11.0'; dlerror: libcudart.so.11.0: cannot open shared object file: No such file or directory\n",
      "2022-12-13 16:51:33.180983: W tensorflow/compiler/xla/stream_executor/platform/default/dso_loader.cc:64] Could not load dynamic library 'libcublas.so.11'; dlerror: libcublas.so.11: cannot open shared object file: No such file or directory\n",
      "2022-12-13 16:51:33.181026: W tensorflow/compiler/xla/stream_executor/platform/default/dso_loader.cc:64] Could not load dynamic library 'libcublasLt.so.11'; dlerror: libcublasLt.so.11: cannot open shared object file: No such file or directory\n",
      "2022-12-13 16:51:33.181067: W tensorflow/compiler/xla/stream_executor/platform/default/dso_loader.cc:64] Could not load dynamic library 'libcufft.so.10'; dlerror: libcufft.so.10: cannot open shared object file: No such file or directory\n",
      "2022-12-13 16:51:33.181107: W tensorflow/compiler/xla/stream_executor/platform/default/dso_loader.cc:64] Could not load dynamic library 'libcurand.so.10'; dlerror: libcurand.so.10: cannot open shared object file: No such file or directory\n",
      "2022-12-13 16:51:33.181147: W tensorflow/compiler/xla/stream_executor/platform/default/dso_loader.cc:64] Could not load dynamic library 'libcusolver.so.11'; dlerror: libcusolver.so.11: cannot open shared object file: No such file or directory\n",
      "2022-12-13 16:51:33.181186: W tensorflow/compiler/xla/stream_executor/platform/default/dso_loader.cc:64] Could not load dynamic library 'libcusparse.so.11'; dlerror: libcusparse.so.11: cannot open shared object file: No such file or directory\n",
      "2022-12-13 16:51:33.181226: W tensorflow/compiler/xla/stream_executor/platform/default/dso_loader.cc:64] Could not load dynamic library 'libcudnn.so.8'; dlerror: libcudnn.so.8: cannot open shared object file: No such file or directory\n",
      "2022-12-13 16:51:33.181233: W tensorflow/core/common_runtime/gpu/gpu_device.cc:1934] Cannot dlopen some GPU libraries. Please make sure the missing libraries mentioned above are installed properly if you would like to use GPU. Follow the guide at https://www.tensorflow.org/install/gpu for how to download and setup the required libraries for your platform.\n",
      "Skipping registering GPU devices...\n",
      "2022-12-13 16:51:33.182025: I tensorflow/core/platform/cpu_feature_guard.cc:193] This TensorFlow binary is optimized with oneAPI Deep Neural Network Library (oneDNN) to use the following CPU instructions in performance-critical operations:  AVX2 FMA\n",
      "To enable them in other operations, rebuild TensorFlow with the appropriate compiler flags.\n"
     ]
    }
   ],
   "source": [
    "model = VGG16(include_top=False,input_shape=(LOWIMGSHAPE,LOWIMGSHAPE,3))\n",
    "model = Model(inputs = model.inputs, outputs = model.layers[-1].output)"
   ]
  },
  {
   "cell_type": "code",
   "execution_count": 11,
   "id": "3f7fdfb5",
   "metadata": {
    "tags": []
   },
   "outputs": [
    {
     "name": "stdout",
     "output_type": "stream",
     "text": [
      "Face Tanking Initial Batch of Errors Please Ignore\n",
      "Getting Images!\n"
     ]
    },
    {
     "data": {
      "application/vnd.jupyter.widget-view+json": {
       "model_id": "2b7f4cacefa34a848da5e53b83e9e3a5",
       "version_major": 2,
       "version_minor": 0
      },
      "text/plain": [
       "  0%|          | 0/25 [00:00<?, ?it/s]"
      ]
     },
     "metadata": {},
     "output_type": "display_data"
    },
    {
     "name": "stdout",
     "output_type": "stream",
     "text": [
      "('Connection aborted.', RemoteDisconnected('Remote end closed connection without response'))('Connection aborted.', RemoteDisconnected('Remote end closed connection without response'))('Connection aborted.', RemoteDisconnected('Remote end closed connection without response'))('Connection aborted.', RemoteDisconnected('Remote end closed connection without response'))\n",
      "('Connection aborted.', RemoteDisconnected('Remote end closed connection without response'))('Connection aborted.', RemoteDisconnected('Remote end closed connection without response'))('Connection aborted.', RemoteDisconnected('Remote end closed connection without response'))('Connection aborted.', RemoteDisconnected('Remote end closed connection without response'))('Connection aborted.', RemoteDisconnected('Remote end closed connection without response'))('Connection aborted.', RemoteDisconnected('Remote end closed connection without response'))\n",
      "\n",
      "None or bad image shape returned('Connection aborted.', RemoteDisconnected('Remote end closed connection without response'))('Connection aborted.', RemoteDisconnected('Remote end closed connection without response'))\n",
      "('Connection aborted.', RemoteDisconnected('Remote end closed connection without response'))('Connection aborted.', RemoteDisconnected('Remote end closed connection without response'))\n",
      "\n",
      "\n",
      "\n",
      "None or bad image shape returned\n",
      "None or bad image shape returned\n",
      "\n",
      "\n",
      "\n",
      "None or bad image shape returned\n",
      "\n",
      "None or bad image shape returnedNone or bad image shape returned\n",
      "\n",
      "None or bad image shape returned\n",
      "None or bad image shape returnedNone or bad image shape returned\n",
      "None or bad image shape returnedNone or bad image shape returnedNone or bad image shape returnedNone or bad image shape returned\n",
      "None or bad image shape returned\n",
      "\n",
      "\n",
      "\n",
      "('Connection aborted.', RemoteDisconnected('Remote end closed connection without response'))\n",
      "\n",
      "\n",
      "\n",
      "\n",
      "None or bad image shape returned\n",
      "Done!\n",
      "Saving Image Dicts to Files!\n",
      "Not enough images processed, please check the api usages and errors to ensure enough data is being processed\n"
     ]
    }
   ],
   "source": [
    "#eat the first crash TODO: Fix initial batch rejection\n",
    "print(\"Face Tanking Initial Batch of Errors Please Ignore\")\n",
    "InitiateModel(subtileGeometries[:25],0)"
   ]
  },
  {
   "cell_type": "code",
   "execution_count": 12,
   "id": "1fcfa6ce",
   "metadata": {},
   "outputs": [
    {
     "name": "stdout",
     "output_type": "stream",
     "text": [
      "Batch # 0  of  0 \n",
      "\n",
      "\n",
      "Getting Images!\n"
     ]
    },
    {
     "data": {
      "application/vnd.jupyter.widget-view+json": {
       "model_id": "8f1225b9eb774289a520073f885fba6d",
       "version_major": 2,
       "version_minor": 0
      },
      "text/plain": [
       "  0%|          | 0/1221 [00:00<?, ?it/s]"
      ]
     },
     "metadata": {},
     "output_type": "display_data"
    },
    {
     "name": "stdout",
     "output_type": "stream",
     "text": [
      "Done!\n",
      "Saving Image Dicts to Files!\n",
      "Optimizing Features\n",
      "Optimizing clusters\n",
      "Creating groups!\n",
      "Uploading Batched Group to Storage!\n"
     ]
    },
    {
     "data": {
      "image/png": "[encoded data removed]",
      "text/plain": [
       "<Figure size 640x480 with 1 Axes>"
      ]
     },
     "metadata": {},
     "output_type": "display_data"
    },
    {
     "data": {
      "image/png": "[encoded data removed]",
      "text/plain": [
       "<Figure size 600x600 with 1 Axes>"
      ]
     },
     "metadata": {},
     "output_type": "display_data"
    }
   ],
   "source": [
    "#Iterate through each batch of BATCHSIZE and Initiate and upload the groupings\n",
    "for batch in range(0,batches):\n",
    "    print(\"Batch #\",batch,\" of \", batches-1, \"\\n\\n\")\n",
    "    InitiateModel(subtileGeometries[batch*BATCHSIZE:(batch+1)*BATCHSIZE],batch)"
   ]
  },
  {
   "cell_type": "code",
   "execution_count": 13,
   "id": "2c169037",
   "metadata": {},
   "outputs": [
    {
     "name": "stdout",
     "output_type": "stream",
     "text": [
      "hi\n"
     ]
    }
   ],
   "source": [
    "print('hi')"
   ]
  },
  {
   "cell_type": "code",
   "execution_count": null,
   "id": "2adceacb",
   "metadata": {},
   "outputs": [],
   "source": []
  }
 ],
 "metadata": {
  "kernelspec": {
   "display_name": "Python 3 (ipykernel)",
   "language": "python",
   "name": "python3"
  },
  "language_info": {
   "codemirror_mode": {
    "name": "ipython",
    "version": 3
   },
   "file_extension": ".py",
   "mimetype": "text/x-python",
   "name": "python",
   "nbconvert_exporter": "python",
   "pygments_lexer": "ipython3",
   "version": "3.8.10"
  }
 },
 "nbformat": 4,
 "nbformat_minor": 5
}
