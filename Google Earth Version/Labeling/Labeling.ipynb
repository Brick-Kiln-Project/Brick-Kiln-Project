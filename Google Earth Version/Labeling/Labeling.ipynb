{
 "cells": [
  {
   "cell_type": "markdown",
   "id": "ab569fac",
   "metadata": {},
   "source": [
    "## Initialize Main Functions and Global Variables"
   ]
  },
  {
   "cell_type": "code",
   "execution_count": 1,
   "id": "5e7f1f9e",
   "metadata": {
    "tags": []
   },
   "outputs": [
    {
     "data": {
      "text/plain": [
       "'\\nsys.path.append(\"../Configs/\")\\nimport constants\\n'"
      ]
     },
     "execution_count": 1,
     "metadata": {},
     "output_type": "execute_result"
    }
   ],
   "source": [
    "import matplotlib.pyplot as plt\n",
    "import pickle as pkl\n",
    "\n",
    "import sys\n",
    "import LabelingUtils\n",
    "import pathlib\n",
    "import importlib\n",
    "\n",
    "\"\"\"\n",
    "sys.path.append(\"../Configs/\")\n",
    "import constants\n",
    "\"\"\"\n"
   ]
  },
  {
   "cell_type": "code",
   "execution_count": 2,
   "id": "07fcbc01-27c9-4016-8ac6-3a2e9748ef06",
   "metadata": {
    "tags": []
   },
   "outputs": [],
   "source": [
    "config_name = 'Nina_Test'"
   ]
  },
  {
   "cell_type": "code",
   "execution_count": 3,
   "id": "19b149c1-7a3a-49f1-8664-c6c2755e79cf",
   "metadata": {
    "tags": []
   },
   "outputs": [],
   "source": [
    "file_path =str(pathlib.Path('../Configs/'+config_name+'.py'))\n",
    "spec = importlib.util.spec_from_file_location(config_name, file_path)\n",
    "constants = importlib.util.module_from_spec(spec)\n",
    "spec.loader.exec_module(constants)"
   ]
  },
  {
   "cell_type": "code",
   "execution_count": 4,
   "id": "552c8b59-f6f0-427d-9a60-071dc51c40c3",
   "metadata": {
    "tags": []
   },
   "outputs": [],
   "source": [
    "batch=0\n",
    "datasetName=constants.SAMPLING_DATASET_PREFIX+constants.SAMPLING_DATASET_NAME"
   ]
  },
  {
   "cell_type": "markdown",
   "id": "0153ba32",
   "metadata": {},
   "source": [
    "## Run the next two cells as many times as necessary to iterate through all of the batches"
   ]
  },
  {
   "cell_type": "code",
   "execution_count": 5,
   "id": "8747c743",
   "metadata": {
    "tags": []
   },
   "outputs": [
    {
     "name": "stdout",
     "output_type": "stream",
     "text": [
      "Batch # 0\n",
      "Loading Data\n",
      "Initializing UI!\n",
      "Adding group # 0  to the web app\n",
      "Adding group # 1  to the web app\n",
      "Adding group # 2  to the web app\n",
      "Adding group # 3  to the web app\n",
      "Adding group # 4  to the web app\n",
      "Adding group # 5  to the web app\n",
      "Adding group # 6  to the web app\n",
      "Adding group # 7  to the web app\n",
      "Adding group # 8  to the web app\n",
      "Done!\n"
     ]
    }
   ],
   "source": [
    "print(\"Batch #\",batch)\n",
    "groupfile=open(constants.GROUPING_ROOT+datasetName+'/'+datasetName+'GroupBatch'+str(batch),'r+b')\n",
    "group=pkl.load(groupfile)\n",
    "groupfile.close()\n",
    "UI=LabelingUtils.main(group,batch,datasetName,constants);\n",
    "batch+=1"
   ]
  },
  {
   "cell_type": "code",
   "execution_count": 6,
   "id": "f506c53e",
   "metadata": {
    "tags": []
   },
   "outputs": [
    {
     "data": {
      "application/vnd.jupyter.widget-view+json": {
       "model_id": "f2ffbd1e70cc4a64be9191cbe9ae1f66",
       "version_major": 2,
       "version_minor": 0
      },
      "text/plain": [
       "VBox(children=(VBox(children=(Box(children=(Output(layout=Layout(border_bottom='1px solid black', border_left=…"
      ]
     },
     "execution_count": 6,
     "metadata": {},
     "output_type": "execute_result"
    }
   ],
   "source": [
    "#Call the result to display in the below cell, continue until images no longer load.\n",
    "UI"
   ]
  },
  {
   "cell_type": "code",
   "execution_count": 7,
   "id": "203c44d0",
   "metadata": {},
   "outputs": [
    {
     "name": "stdout",
     "output_type": "stream",
     "text": [
      "6\n",
      "5\n",
      "500\n"
     ]
    }
   ],
   "source": [
    "#Print current confirmed,denied list to ensure update\n",
    "finalconfirmedfile=open(constants.GROUPING_ROOT+datasetName+'/'+datasetName+'Confirmed','rb')\n",
    "finaldeniedfile=open(constants.GROUPING_ROOT+datasetName+'/'+datasetName+'Denied','rb')\n",
    "finalgroups=open(constants.GROUPING_ROOT+datasetName+'/'+datasetName+'GroupBatch'+str(batch-1),'rb')\n",
    "confirmed=pkl.load(finalconfirmedfile)\n",
    "denied=pkl.load(finaldeniedfile)\n",
    "groups=pkl.load(finalgroups)\n",
    "finalconfirmedfile.close()\n",
    "finaldeniedfile.close()\n",
    "finalgroups.close()\n",
    "tally=0\n",
    "for x in groups:\n",
    "    tally+=len(groups[x])\n",
    "print(len(confirmed))\n",
    "print(len(denied))\n",
    "print(tally)"
   ]
  },
  {
   "cell_type": "code",
   "execution_count": 8,
   "id": "2e463458",
   "metadata": {},
   "outputs": [
    {
     "name": "stdout",
     "output_type": "stream",
     "text": [
      "hi\n"
     ]
    }
   ],
   "source": [
    "print('hi')"
   ]
  },
  {
   "cell_type": "code",
   "execution_count": null,
   "id": "eb940cbf",
   "metadata": {},
   "outputs": [],
   "source": []
  }
 ],
 "metadata": {
  "kernelspec": {
   "display_name": "Python 3 (ipykernel)",
   "language": "python",
   "name": "python3"
  },
  "language_info": {
   "codemirror_mode": {
    "name": "ipython",
    "version": 3
   },
   "file_extension": ".py",
   "mimetype": "text/x-python",
   "name": "python",
   "nbconvert_exporter": "python",
   "pygments_lexer": "ipython3",
   "version": "3.10.6"
  }
 },
 "nbformat": 4,
 "nbformat_minor": 5
}
