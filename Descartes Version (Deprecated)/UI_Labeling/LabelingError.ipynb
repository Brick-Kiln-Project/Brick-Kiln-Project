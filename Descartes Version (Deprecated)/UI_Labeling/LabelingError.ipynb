{
 "cells": [
  {
   "cell_type": "markdown",
   "id": "938b6ed1",
   "metadata": {},
   "source": [
    "## Initialize Main Functions and Global Variables"
   ]
  },
  {
   "cell_type": "code",
   "execution_count": 1,
   "id": "790a7209",
   "metadata": {},
   "outputs": [
    {
     "name": "stderr",
     "output_type": "stream",
     "text": [
      "/opt/conda/lib/python3.7/site-packages/descarteslabs/_dl_modules/common/workflows/arrow_serialization/context.py:57: FutureWarning: 'pyarrow.SerializationContext' is deprecated and will be removed in a future version. Use pickle or the pyarrow IPC functionality instead.\n",
      "  serialization_context = pa.SerializationContext()\n",
      "/opt/conda/lib/python3.7/site-packages/descarteslabs/_dl_modules/common/workflows/arrow_serialization/context.py:58: FutureWarning: 'pyarrow.register_default_serialization_handlers' is deprecated as of 2.0.0 and will be removed in a future version. Use pickle or the pyarrow IPC functionality instead.\n",
      "  pa.register_default_serialization_handlers(serialization_context)\n"
     ]
    }
   ],
   "source": [
    "#Import relevant Classes and make matplotlib inline to avoid loading plots at runtime\n",
    "import geojson\n",
    "import descarteslabs as dl\n",
    "import descarteslabs.workflows as wf\n",
    "import numpy as np\n",
    "import math\n",
    "import matplotlib.pyplot as plt\n",
    "import config\n",
    "%matplotlib inline\n",
    "import functools\n",
    "import pandas as pd\n",
    "import pickle as pkl\n",
    "import time\n",
    "from gzip import compress, decompress\n",
    "from ipyleaflet import GeoJSON, Popup\n",
    "from ipywidgets import HTML, Button, VBox, HBox, Box, Layout, Output, Text, Label\n",
    "from descarteslabs import Storage, Auth\n",
    "import random"
   ]
  },
  {
   "cell_type": "code",
   "execution_count": 2,
   "id": "53787c37",
   "metadata": {},
   "outputs": [],
   "source": [
    "#Set a number of global parameters for the entire form, edit this to specifications\n",
    "#Number of images to shown at one time\n",
    "IMGSHOWN=30\n",
    "#Number of tile pairs to show per row\n",
    "NUMIMGROW=3\n",
    "#Name of the current dataset, change as needed\n",
    "datasetName1='high_sampledworried_puppy'\n",
    "datasetName2='updatedModel_state_sampled_slender_gerbil'\n",
    "datasetName3='updatedModel_state_sampled_happy_cow'"
   ]
  },
  {
   "cell_type": "code",
   "execution_count": 3,
   "id": "2f3eaa33",
   "metadata": {},
   "outputs": [
    {
     "data": {
      "text/plain": [
       "\"\\nInitiate the loadGroup function which takes the image dicts, group dict and the map application to create and load the entire set of images and geojsons (GJS) in an organized fashion using\\nIPyWidgets.  The orientation of the UI is set but the number of images shown at one time and the number of images per row shown can be altered to desire.  Note that doing so can overload the\\nkernel or make the images too small to effectively observe any real detail.  The complete ordered lists are then returned to the caller.\\n\\nINPUT\\n    randomKeyImageDict->\\n        dict{\\n            ...,\\n            string():numpy.ndarray[],\\n            string():numpy.ndarray[],\\n            ...\\n        }\\n        Exactly the same as the LrBatch dictionary uploaded to the storage in Grouping.ipynb\\n    randomKeyHrImgDict->\\n        dict{\\n            ...,\\n            string():numpy.ndarray[],\\n            string():numpy.ndarray[],\\n            ...\\n        }\\n        Exactly the same as the HrBatch dictionary uploaded to the storage in Grouping.ipynb\\n    groups->\\n         dict{\\n            ...,\\n            string(int()):list[...,string(),string(),string()...],\\n            string(int()):list[...,string(),string(),string()...],\\n            ...\\n        }\\n        Exactly the same as the GroupBatch dictionary uploaded to the storage in Grouping.ipynb\\n    m->\\n        wf.interactive.MapApp()\\n        Previously initialized map application to tie the async buttons to the future UI\\n    userNameValue->\\n        string()\\n        The inputted userName from the map application, refer below for more information\\n    confirmed->\\n        dict{\\n            ...,\\n            string():dict{\\n                string():time(),\\n                string():string()\\n            },\\n            ...\\n        }\\n        A dictionary containing the keys of user confirmed tiles as keys and a dictionary, containing the time at which the confirmation was made and the user's name as values, as values.  This\\n        is used to reference and update the confirmed lists as the user interacts with the web app\\n    denied->\\n        dict{\\n            ...,\\n            string():dict{\\n                string():time(),\\n                string():string()\\n            },\\n            ...\\n        }\\n        Same as the above confirmed dictionary but filled with user denied tile keys\\nRETURNS\\n    groupsGJS->\\n        list[\\n            ...,\\n            list[\\n                  ...,\\n                  list[\\n                      ...,\\n                      GeoJSON(),\\n                      ...\\n                  ],\\n                  ...\\n            ],\\n            ...\\n        ]\\n        This is the group-batch ordered list of GeoJSONs which can then be iteratively used to add to the MappApp.  The first layer represents the group clusters, the second layer represents\\n        the batch of IMGSHOWN sized list with individual GeoJSONs representing the repective key as values in the list.\\n    groupsImg->\\n        list[\\n            ...,\\n            list[VBox(list[\\n                ...,\\n                HBox(list[\\n                    ...,\\n                    VBox(list[HBox(list[\\n                            Output(),\\n                            OutPut()\\n                        ]),HBox(list[\\n                            Button(),\\n                            Button(),\\n                            Button()\\n                        ])\\n                    ]),\\n                    ...\\n                ]),\\n                ...\\n            ])],\\n            ...\\n        ]\\n        This is the group-batch ordered list of Images which can then be iteratively used to add the image UI to the 'refreshable' Output of the final UI. The first layer represents the group \\n        clusters, the second layer represents the batch of IMGSHOWN sized Vertically aligned UI, the third layer represents the NUMIMGROW sized group, Horizontally aligned UI, with the fourth\\n        layer representing the Vertically aligned UI of pair of images and three buttons, and the final layer representing the individual Output/Button IPyWidget widgets that respectively\\n        represent an image or a button. For a visual representation of the third layer and below refer to the diagram below.\\n              _____________________________________________________________________________________________________________________________\\n        VBOX-|      _____________________________________________________________________________________________________________________ |\\n             |HBOX-|      ________________________________       ________________________________       ________________________________ ||\\n             |     |VBOX-|      _________________________ |VBOX-|      _________________________ |VBOX-|      _________________________ |||\\n             |     |     |HBOX-|_____Output1,Output2_____||     |HBOX-|_____Output1,Output2_____||     |HBOX-|_____Output1,Output2_____||||\\n             |     |     |      _________________________ |     |      _________________________ |     |      _________________________ |||\\n             |     |     |HBOX-|_Button1,Button2,Button3_||     |HBOX-|_Button1,Button2,Button3_||     |HBOX-|_Button1,Button2,Button3_||||\\n             |     |     |________________________________|     |________________________________|     |________________________________|||\\n             |     |_____________________________________________________________________________________________________________________||\\n             |      _____________________________________________________________________________________________________________________ |\\n             |HBOX-|      ________________________________       ________________________________       _________________________________||\\n             |     |VBOX-|      _________________________ |VBOX-|      _________________________ |VBOX-|      _________________________ |||\\n             |     |     |HBOX-|_____Output1,Output2_____||     |HBOX-|_____Output1,Output2_____||     |HBOX-|_____Output1,Output2_____||||\\n             |     |     |      _________________________||     |      _________________________ |     |      _________________________ |||\\n             |     |     |HBOX-|_Button1,Button2,Button3_||     |HBOX-|_Button1,Button2,Button3_||     |HBOX-|_Button1,Button2,Button3_||||\\n             |     |     |________________________________|     |________________________________|     |________________________________|||\\n             |     |_____________________________________________________________________________________________________________________||\\n             |____________________________________________________________________________________________________________________________|\\n        *The number of items in the second layer HBOX is dependent on NUMIMGROW\\n        *The number of rows in the first layer VBOX is dependent on math.ceil(IMGSHOW/NUMIMGROW)  \\nWORKFLOW\\n   -Initialize the Button on click events for each individual image pair, these will later be called and tied to actual buttons\\n      -confirmKiln->\\n          INPUT\\n              b->\\n                  Button()\\n                  A self-referential Button item, refers to whichever confirm button was clicked\\n              other->\\n                  Button()\\n                  The other paired deny Button with the image pairs\\n          RETURNS\\n              None\\n          WORKFLOW\\n             -Check if there exists a key in the inherited denied list with the same name, if so remove it and reset the button to a 'gray' color\\n             -Check if there exists a key in the inherited confirmed list with the same name, if not add it with the current time and userName as referential values\\n             -Make the button green to signify the image has been added to the confirmed list\\n      -denyKiln->\\n          INPUT\\n              b->\\n                  Button()\\n                  A self-referential Button item, refers to whichever deny button was clicked\\n              other->\\n                  Button()\\n                  The other paired confirm Button with the image pairs\\n          RETURNS\\n              None\\n          WORKFLOW\\n             -Check if there exists a key in the inherited confirmed list with the same name, if so remove it and reset the button to a 'gray' color\\n             -Check if there exists a key in the inherited denied list with the same name, if not add it with the current time and userName as referential values\\n             -Make the button red to signify the image has been added to the denied list\\n       -centerImage()->\\n          INPUT\\n              b->\\n                  Button()\\n                  A self-referential Button item, refers to whichever confirm button was clicked\\n          RETURNS\\n              None\\n          WORKFLOW\\n             -Center attention to the image clicked on the MapApp by calling it's dltile and using it's centroid feature\\n   -Initialize empty lists which will contain the ordered image and GJS lists, refer to RETURN\\n   -Iterate through the groups keys in sequential order and for each initialize the temporary buffer lists which will fill the return arrays, refer to RETURN\\n      -Iterate through each key in the specified group and then fill the respective lists with the subsequent ordering\\n         -Check if the limit of IMGSHOWN has been reached, add the current results to the batches lists and reset the limit and temp lists\\n         -Query for the GJS and add it to the GJS batch list \\n         -Check if the current row has been filled with NUMIMGROW images and if so add to the batch list and reset the temp lists\\n         -Initialize the confirm, deny and center buttons with the key tied to it's tooltip feature and each button tied to it's respective function, look above for more details.\\n         -Create an output for the high and low res image and within it create a separate figure to display the respective image\\n         -Tie the entire cluster of widgets together using the requisite layout and continue to iterate, for list architecture and visual layout refer to the RETURN\\n   -Return the finalized ordered lists for use\\nKNOWN_ISSUES\\n   -The gray color used does not match the original button, I haven't been able to figure out what color it is and frankly don't really care too much, OCD people beware and I'm sorry\\n   -Since we're pre-loading all of the UI, this function takes a large while to finish running so set aside enough time beforehand to allow the loading of the individual batched UI and for any\\n    unforseen issues\\n   -I am not overly familiar with UI/UX design or IPyWidgets overall which makes this design a bit... 'janky'.  But it does work as intended with mostly minor inconveniences, if you have more\\n    knowledge or can think of different better alternatives, feel free to do so.\\n   -Currently I have found no 'effective' way of stably using the built-in Image widget with descarteslabs arrays and am instead using individual matplotlib figures to display the individual\\n    images with the Output widget capturing the displayed output.  This is not exactly ideal since matplotlib is rather slow and loading 2500 (currently) images at once is both time and memory\\n    intensive.  I have been unable to find a workaround but using Output to capture some other diplay may be effective in speeding the process up.\\n   -Buttons are initialized beforehand, so if a user were to load the same group-batch, alter the confirmed/denied list and save it mid run, the current user would not see those changes\\n    reflected on the button colors, but would still be able to change and submit their labelings\\n\""
      ]
     },
     "execution_count": 3,
     "metadata": {},
     "output_type": "execute_result"
    }
   ],
   "source": [
    "\"\"\"\n",
    "Initiate the loadGroup function which takes the image dicts, group dict and the map application to create and load the entire set of images and geojsons (GJS) in an organized fashion using\n",
    "IPyWidgets.  The orientation of the UI is set but the number of images shown at one time and the number of images per row shown can be altered to desire.  Note that doing so can overload the\n",
    "kernel or make the images too small to effectively observe any real detail.  The complete ordered lists are then returned to the caller.\n",
    "\n",
    "INPUT\n",
    "    randomKeyImageDict->\n",
    "        dict{\n",
    "            ...,\n",
    "            string():numpy.ndarray[],\n",
    "            string():numpy.ndarray[],\n",
    "            ...\n",
    "        }\n",
    "        Exactly the same as the LrBatch dictionary uploaded to the storage in Grouping.ipynb\n",
    "    randomKeyHrImgDict->\n",
    "        dict{\n",
    "            ...,\n",
    "            string():numpy.ndarray[],\n",
    "            string():numpy.ndarray[],\n",
    "            ...\n",
    "        }\n",
    "        Exactly the same as the HrBatch dictionary uploaded to the storage in Grouping.ipynb\n",
    "    groups->\n",
    "         dict{\n",
    "            ...,\n",
    "            string(int()):list[...,string(),string(),string()...],\n",
    "            string(int()):list[...,string(),string(),string()...],\n",
    "            ...\n",
    "        }\n",
    "        Exactly the same as the GroupBatch dictionary uploaded to the storage in Grouping.ipynb\n",
    "    m->\n",
    "        wf.interactive.MapApp()\n",
    "        Previously initialized map application to tie the async buttons to the future UI\n",
    "    userNameValue->\n",
    "        string()\n",
    "        The inputted userName from the map application, refer below for more information\n",
    "    confirmed->\n",
    "        dict{\n",
    "            ...,\n",
    "            string():dict{\n",
    "                string():time(),\n",
    "                string():string()\n",
    "            },\n",
    "            ...\n",
    "        }\n",
    "        A dictionary containing the keys of user confirmed tiles as keys and a dictionary, containing the time at which the confirmation was made and the user's name as values, as values.  This\n",
    "        is used to reference and update the confirmed lists as the user interacts with the web app\n",
    "    denied->\n",
    "        dict{\n",
    "            ...,\n",
    "            string():dict{\n",
    "                string():time(),\n",
    "                string():string()\n",
    "            },\n",
    "            ...\n",
    "        }\n",
    "        Same as the above confirmed dictionary but filled with user denied tile keys\n",
    "RETURNS\n",
    "    groupsGJS->\n",
    "        list[\n",
    "            ...,\n",
    "            list[\n",
    "                  ...,\n",
    "                  list[\n",
    "                      ...,\n",
    "                      GeoJSON(),\n",
    "                      ...\n",
    "                  ],\n",
    "                  ...\n",
    "            ],\n",
    "            ...\n",
    "        ]\n",
    "        This is the group-batch ordered list of GeoJSONs which can then be iteratively used to add to the MappApp.  The first layer represents the group clusters, the second layer represents\n",
    "        the batch of IMGSHOWN sized list with individual GeoJSONs representing the repective key as values in the list.\n",
    "    groupsImg->\n",
    "        list[\n",
    "            ...,\n",
    "            list[VBox(list[\n",
    "                ...,\n",
    "                HBox(list[\n",
    "                    ...,\n",
    "                    VBox(list[HBox(list[\n",
    "                            Output(),\n",
    "                            OutPut()\n",
    "                        ]),HBox(list[\n",
    "                            Button(),\n",
    "                            Button(),\n",
    "                            Button()\n",
    "                        ])\n",
    "                    ]),\n",
    "                    ...\n",
    "                ]),\n",
    "                ...\n",
    "            ])],\n",
    "            ...\n",
    "        ]\n",
    "        This is the group-batch ordered list of Images which can then be iteratively used to add the image UI to the 'refreshable' Output of the final UI. The first layer represents the group \n",
    "        clusters, the second layer represents the batch of IMGSHOWN sized Vertically aligned UI, the third layer represents the NUMIMGROW sized group, Horizontally aligned UI, with the fourth\n",
    "        layer representing the Vertically aligned UI of pair of images and three buttons, and the final layer representing the individual Output/Button IPyWidget widgets that respectively\n",
    "        represent an image or a button. For a visual representation of the third layer and below refer to the diagram below.\n",
    "              _____________________________________________________________________________________________________________________________\n",
    "        VBOX-|      _____________________________________________________________________________________________________________________ |\n",
    "             |HBOX-|      ________________________________       ________________________________       ________________________________ ||\n",
    "             |     |VBOX-|      _________________________ |VBOX-|      _________________________ |VBOX-|      _________________________ |||\n",
    "             |     |     |HBOX-|_____Output1,Output2_____||     |HBOX-|_____Output1,Output2_____||     |HBOX-|_____Output1,Output2_____||||\n",
    "             |     |     |      _________________________ |     |      _________________________ |     |      _________________________ |||\n",
    "             |     |     |HBOX-|_Button1,Button2,Button3_||     |HBOX-|_Button1,Button2,Button3_||     |HBOX-|_Button1,Button2,Button3_||||\n",
    "             |     |     |________________________________|     |________________________________|     |________________________________|||\n",
    "             |     |_____________________________________________________________________________________________________________________||\n",
    "             |      _____________________________________________________________________________________________________________________ |\n",
    "             |HBOX-|      ________________________________       ________________________________       _________________________________||\n",
    "             |     |VBOX-|      _________________________ |VBOX-|      _________________________ |VBOX-|      _________________________ |||\n",
    "             |     |     |HBOX-|_____Output1,Output2_____||     |HBOX-|_____Output1,Output2_____||     |HBOX-|_____Output1,Output2_____||||\n",
    "             |     |     |      _________________________||     |      _________________________ |     |      _________________________ |||\n",
    "             |     |     |HBOX-|_Button1,Button2,Button3_||     |HBOX-|_Button1,Button2,Button3_||     |HBOX-|_Button1,Button2,Button3_||||\n",
    "             |     |     |________________________________|     |________________________________|     |________________________________|||\n",
    "             |     |_____________________________________________________________________________________________________________________||\n",
    "             |____________________________________________________________________________________________________________________________|\n",
    "        *The number of items in the second layer HBOX is dependent on NUMIMGROW\n",
    "        *The number of rows in the first layer VBOX is dependent on math.ceil(IMGSHOW/NUMIMGROW)  \n",
    "WORKFLOW\n",
    "   -Initialize the Button on click events for each individual image pair, these will later be called and tied to actual buttons\n",
    "      -confirmKiln->\n",
    "          INPUT\n",
    "              b->\n",
    "                  Button()\n",
    "                  A self-referential Button item, refers to whichever confirm button was clicked\n",
    "              other->\n",
    "                  Button()\n",
    "                  The other paired deny Button with the image pairs\n",
    "          RETURNS\n",
    "              None\n",
    "          WORKFLOW\n",
    "             -Check if there exists a key in the inherited denied list with the same name, if so remove it and reset the button to a 'gray' color\n",
    "             -Check if there exists a key in the inherited confirmed list with the same name, if not add it with the current time and userName as referential values\n",
    "             -Make the button green to signify the image has been added to the confirmed list\n",
    "      -denyKiln->\n",
    "          INPUT\n",
    "              b->\n",
    "                  Button()\n",
    "                  A self-referential Button item, refers to whichever deny button was clicked\n",
    "              other->\n",
    "                  Button()\n",
    "                  The other paired confirm Button with the image pairs\n",
    "          RETURNS\n",
    "              None\n",
    "          WORKFLOW\n",
    "             -Check if there exists a key in the inherited confirmed list with the same name, if so remove it and reset the button to a 'gray' color\n",
    "             -Check if there exists a key in the inherited denied list with the same name, if not add it with the current time and userName as referential values\n",
    "             -Make the button red to signify the image has been added to the denied list\n",
    "       -centerImage()->\n",
    "          INPUT\n",
    "              b->\n",
    "                  Button()\n",
    "                  A self-referential Button item, refers to whichever confirm button was clicked\n",
    "          RETURNS\n",
    "              None\n",
    "          WORKFLOW\n",
    "             -Center attention to the image clicked on the MapApp by calling it's dltile and using it's centroid feature\n",
    "   -Initialize empty lists which will contain the ordered image and GJS lists, refer to RETURN\n",
    "   -Iterate through the groups keys in sequential order and for each initialize the temporary buffer lists which will fill the return arrays, refer to RETURN\n",
    "      -Iterate through each key in the specified group and then fill the respective lists with the subsequent ordering\n",
    "         -Check if the limit of IMGSHOWN has been reached, add the current results to the batches lists and reset the limit and temp lists\n",
    "         -Query for the GJS and add it to the GJS batch list \n",
    "         -Check if the current row has been filled with NUMIMGROW images and if so add to the batch list and reset the temp lists\n",
    "         -Initialize the confirm, deny and center buttons with the key tied to it's tooltip feature and each button tied to it's respective function, look above for more details.\n",
    "         -Create an output for the high and low res image and within it create a separate figure to display the respective image\n",
    "         -Tie the entire cluster of widgets together using the requisite layout and continue to iterate, for list architecture and visual layout refer to the RETURN\n",
    "   -Return the finalized ordered lists for use\n",
    "KNOWN_ISSUES\n",
    "   -The gray color used does not match the original button, I haven't been able to figure out what color it is and frankly don't really care too much, OCD people beware and I'm sorry\n",
    "   -Since we're pre-loading all of the UI, this function takes a large while to finish running so set aside enough time beforehand to allow the loading of the individual batched UI and for any\n",
    "    unforseen issues\n",
    "   -I am not overly familiar with UI/UX design or IPyWidgets overall which makes this design a bit... 'janky'.  But it does work as intended with mostly minor inconveniences, if you have more\n",
    "    knowledge or can think of different better alternatives, feel free to do so.\n",
    "   -Currently I have found no 'effective' way of stably using the built-in Image widget with descarteslabs arrays and am instead using individual matplotlib figures to display the individual\n",
    "    images with the Output widget capturing the displayed output.  This is not exactly ideal since matplotlib is rather slow and loading 2500 (currently) images at once is both time and memory\n",
    "    intensive.  I have been unable to find a workaround but using Output to capture some other diplay may be effective in speeding the process up.\n",
    "   -Buttons are initialized beforehand, so if a user were to load the same group-batch, alter the confirmed/denied list and save it mid run, the current user would not see those changes\n",
    "    reflected on the button colors, but would still be able to change and submit their labelings\n",
    "\"\"\""
   ]
  },
  {
   "cell_type": "code",
   "execution_count": 4,
   "id": "3213fd20",
   "metadata": {},
   "outputs": [],
   "source": [
    "def loadGroup(randomKeyImageDict,randomKeyHrImgDict,groups,m,userNameValue,confirmed,denied,edit,add):\n",
    "    #Create Button Click Events\n",
    "    def confirmKiln(other,b):\n",
    "        if other.style.button_color == 'red':\n",
    "            other.style.button_color='gray'\n",
    "        if (b.tooltip in denied.value.keys()):\n",
    "            edit.value[b.tooltip]={'add':'Confirmed','data':{\"time\":time.time(),\"user\":userNameValue.value}}\n",
    "        elif b.tooltip in edit.value:\n",
    "            edit.value[b.tooltip]={'add':'Confirmed','data':{\"time\":time.time(),\"user\":userNameValue.value}}\n",
    "        elif (b.tooltip not in confirmed.value.keys()):\n",
    "            add.value[b.tooltip]={'add':'Confirmed','data':{\"time\":time.time(),\"user\":userNameValue.value}}\n",
    "        b.style.button_color='green'\n",
    "    def denyKiln(other,b):\n",
    "        if other.style.button_color == 'green':\n",
    "            other.style.button_color='gray'\n",
    "        if (b.tooltip in confirmed.value.keys()):\n",
    "            edit.value[b.tooltip]={'add':'Denied','data':{\"time\":time.time(),\"user\":userNameValue.value}}\n",
    "        elif (b.tooltip in edit.value):\n",
    "            edit.value[b.tooltip]={'add':'Denied','data':{\"time\":time.time(),\"user\":userNameValue.value}}\n",
    "        elif (b.tooltip not in denied.value.keys()):\n",
    "            add.value[b.tooltip]={'add':'Denied','data':{\"time\":time.time(),\"user\":userNameValue.value}}\n",
    "        b.style.button_color='red'\n",
    "    def centerImage(b):\n",
    "        m.center=(dl.scenes.DLTile.from_key(b.tooltip).geometry.centroid.xy[1][0],dl.scenes.DLTile.from_key(b.tooltip).geometry.centroid.xy[0][0])\n",
    "    \n",
    "    #Initialize return GJS and main Image display lists\n",
    "    groupsGJS=[]\n",
    "    groupsImg=[]\n",
    "    \n",
    "    #Iterate through the entire groups list and add the images and gjs to their respective position\n",
    "    for group in range(len(groups.keys())):\n",
    "        print(\"Adding group #\",group,\" to the web app\")\n",
    "        #Initialize/Reset all relevant lists\n",
    "        batchesGJS=[]\n",
    "        batchGJS=[]\n",
    "        batchesImg=[]\n",
    "        batchImg=[]\n",
    "        rowImg=[]\n",
    "        limit=0\n",
    "        for key in groups[str(group)]:\n",
    "            #Limit reached, add the current batch images and gjs to the respective batch list and reset for next batch\n",
    "            if limit == IMGSHOWN:\n",
    "                batchImg.append(HBox(rowImg))\n",
    "                batchesImg.append(VBox(batchImg))\n",
    "                batchesGJS.append(batchGJS)\n",
    "                batchGJS=[]\n",
    "                batchImg=[]\n",
    "                rowImg=[]\n",
    "                limit=0\n",
    "            \n",
    "            #Load GJS\n",
    "            subtilegjs=GeoJSON(\n",
    "                data=geojson.FeatureCollection([dl.scenes.DLTile.from_key(key).__geo_interface__]),\n",
    "                style={\"color\":\"red\",\n",
    "                      \"fillOpacity\":0}\n",
    "            )\n",
    "\n",
    "            batchGJS.append(subtilegjs)\n",
    "            \n",
    "            #Add and reset row if row is equal to NUMROWIMG\n",
    "            if (len(rowImg) >= NUMIMGROW):\n",
    "                batchImg.append(HBox(rowImg))\n",
    "                rowImg=[]\n",
    "                \n",
    "            #Initialize Buttons and tie their respective click events\n",
    "            confirmButton = Button(\n",
    "                description='Confirm Kiln',\n",
    "                tooltip=key\n",
    "            )\n",
    "\n",
    "            denyButton = Button (\n",
    "                description=\"No Kiln\",\n",
    "                tooltip=key\n",
    "            )\n",
    "            \n",
    "            if key in confirmed.value.keys():\n",
    "                confirmButton.style.button_color='green'\n",
    "            if key in denied.value.keys():\n",
    "                denyButton.style.button_color='red'\n",
    "            centerButton = Button (\n",
    "                description=\"Center to Image\",\n",
    "                tooltip=key\n",
    "            )\n",
    "\n",
    "            confirmButton.on_click(functools.partial(confirmKiln,denyButton))\n",
    "            denyButton.on_click(functools.partial(denyKiln,confirmButton))\n",
    "            centerButton.on_click(centerImage)    \n",
    "            \n",
    "            #Create Output for the matplotlib plots and tie them to the respective image plot\n",
    "            output=Output(layout={'border': '1px solid black'})\n",
    "            output2=Output(layout={'border':'1px solid black'})\n",
    "            with output:\n",
    "                fig = plt.figure(figsize=(6,6))\n",
    "                hr=plt.imshow(np.swapaxes(randomKeyHrImgDict[key],0,2))\n",
    "                plt.show(fig)\n",
    "            with output2:\n",
    "                fig2=plt.figure(figsize=(6,6))\n",
    "                lr=plt.imshow(np.swapaxes(randomKeyImageDict[key],0,2))\n",
    "                plt.show(fig2)\n",
    "            \n",
    "            #Consolidate and order the Images and Buttons into a VBox and increase the limit\n",
    "            rowImg.append(VBox([HBox([output,output2]),HBox([confirmButton,denyButton,centerButton])]))\n",
    "            limit+=1\n",
    "            \n",
    "        #Do one final append to add any straggling gjs and images and add the total batch set to the respective group list\n",
    "        batchesGJS.append(batchGJS)\n",
    "        groupsGJS.append(batchesGJS)\n",
    "        batchImg.append(HBox(rowImg))\n",
    "        batchesImg.append(VBox(batchImg))\n",
    "        groupsImg.append(batchesImg)\n",
    "    return groupsGJS,groupsImg"
   ]
  },
  {
   "cell_type": "code",
   "execution_count": 5,
   "id": "dc457402",
   "metadata": {},
   "outputs": [
    {
     "data": {
      "text/plain": [
       "\"\\nThis is the main callable function that initializes the static parts of the UI and preloads any data or lists that will be required by the more intensive loadGroup call.  This function returns\\nthe displayable UI for the given batch which the user will interact with, this function will be called by the user for each batch they want/need loaded.\\n\\nINPUTS\\n    confirmed->\\n        dict{\\n            ...,\\n            string():dict{\\n                string():time(),\\n                string():string()\\n            },\\n            ...\\n        }\\n        A dictionary containing the keys of user confirmed tiles as keys and a dictionary, containing the time at which the confirmation was made and the user's name as values, as values.  This\\n        is used to reference and update the confirmed lists as the user interacts with the web app\\n    denied->\\n        dict{\\n            ...,\\n            string():dict{\\n                string():time(),\\n                string():string()\\n            },\\n            ...\\n        }\\n        Same as the above confirmed dictionary but filled with user denied tile keys\\n    groups->\\n         dict{\\n            ...,\\n            string(int()):list[...,string(),string(),string()...],\\n            string(int()):list[...,string(),string(),string()...],\\n            ...\\n        }\\n        Exactly the same as the GroupBatch dictionary uploaded to the storage in Grouping.ipynb\\n    batch->\\n        int()\\n        An integer representing the current batch of images, used to access the descarteslabs storage uploaded dictionaries, ensure this number is a valid value in your storage.\\nRETURN\\n    total->\\n        VBox(list[\\n            Vbox(list[\\n                Box(list[\\n                    MapApp()\\n                ]),\\n                ***Output()***\\n            ]), HBox(list[\\n                Button()\\n            ])\\n        ])\\n        This is the static parts of the UI that are initially generated and returned to the user to display.  Everything within this UI is run asynchronously and allows for user input to\\n        proceed.  The first layer represents the vertically aligned map-image combo and the nextGroup Button widget, the next layer within the map-image combo separates the MapApp and the\\n        ***Output*** vertically.  The ***Output*** widget is a static representation that is iteratively cleared and refreshed with the next UI from the groupImg batch-group, for more\\n        information and a visual represenation of it refer to the RETURNS section of the loadGroup fucntion above.  For a visual representation of this display refer to the diagram below.\\n              _________________________________________________\\n        VBOX-|      __________________________________________ |\\n             |VBOX-|     ___________________________________  ||\\n             |     |BOX-|_____________MapApp________________| ||\\n             |     |_______________***Output***_______________||\\n             |      _________  _________  _________  _________ |\\n             |HBOX-|_Button1_||_Button2_||_TextBox_||_Button3_||\\n             |_________________________________________________|\\nWORKFLOW\\n   -Clear the matplotlib from previous uses to scrap and save memory, otherwise plots persist between loads\\n   -Query the descarteslabs storage for the image dictionaries associated with the given datasetName and batch number\\n   -Initialize MapApp with no parameters\\n   -Initialize the TextBox class object to keep changes made to the userName asynchronously\\n   -Use loadGroup to load the ***Output*** UI for each group-batch and the group-batch GJS to update the MapApp asynchronously.  For more information, refer to the above information on the\\n    function\\n   -Create the nextGroup, saveData, and Submit buttons for the final UI alongside the userName textBox and the label displaying the user and the current batch and group displayed.\\n   -Create a Counter class and initialize two counters, one for batches and another for groups to be able to asynchronously keep track of the current values for each as we load different\\n    sections of the dataset.\\n   -Create the saveDataFunc on-click event for the saveData Button and tie them together.  This button is responsible for taking the current confirmed and denied dictionaries and merging them\\n    with a freshly queried version of the same currently stored in the storage under datasetName+'Confirmed'/'Denied'.  Overwrite the current confirmed and denied dictionaries with the merged\\n    versions and return.\\n   -Create the submitNameFunc on-click event for the submit button and tie them together.  This button checks the current userNameValue and ensures the submitted userName is not empty or\\n    contains non alphabetic characters.  If it doesn't the userNameValue is updated and the label is changed to reflect the current userName as well as the buttom turning green.  If it fails\\n    the check the button turns red and a warning is printed to the log.\\n   -Create the loadNext on-click event and tie it to the previously initialized button, this button is responsible for asynchronously swapping and refreshing the relevant ***Output*** and\\n    map information\\n       -Ensure that we aren't overstepping our group size and ignore any further calls once we do\\n       -Clear the map of previous GJS\\n       -Check if the current batch is greater than the total number of batches for the current group, and if so, move onto the next group and reset the batch counter\\n       -Use the group and batch values to refer to the current groupGJS and groupImg lists/UI respectively\\n          -For the GJS, iteratively add the each from the batch to the map\\n          -For the ImageUI, obtain the current UI and display it using the HiImg ***Output*** after the ***Output*** is cleared, effectively 'refreshing' that section of the UI with new info\\n       -Increment the batch counter and await the next click\\n   -Create the final UI elements and adjust them as required before returning the final UI object back to the caller.  For more information on the UI, refer to the RETURN section.\\nKNOWN_ISSUES\\n   -The most major issue with this is the inability to effectively stop labeling without redoing a portion of the data.  Take for example a set of 1000 images, with 3 groups and 3 batches per\\n    group.  As it stands, a user can label the first entire group and separately save the confirmed and denied lists to storage, but if the user quits, the kernel dies or some unforseen quit\\n    call is made the user will need to re-run on the current parameters (datasetName and batch) and click until the first group is past before proceeding.  Additionally, the user will need to\\n    update, not set, any uploaded confirmed/denied lists.  Some debugging information has been added to the log but otherwise that functionality has not been added due to time and scope\\n    constraints.\\n   -The next big issue is a concurrency race condition that may arise if two users saveData at around the same time.  Since the on-click function calls the storage, and edits it before saving\\n    it there is a brief window during which another user can do the same before the previous data is saved such that only the newest data is kept and the other data is lost.  In theory this\\n    isn't likely given how brief the window for it currently is and additionally may not actively be a problem if the users don't terminate the program before saving again as their 'lost' data\\n    is maintained in their personal session and can be submitted with no issues later on.\\n   -A maybe issue, maybe not is that there is a limit to the size of any storage item, and since we're only keeping one confirmed and denied object in storage, if the dataset is large enough\\n    there is a real possibility of reaching this limit without intending to.  As it stands I don't believe the issue is relevant with 20000 images as the things stored are basically strings,\\n    but it may be necessary in the future to handle this potentiality.\\n   -Besides that, most of the KNOWN_ISSUES from the loadGroup section apply doubly here and any adjustments should be made in conjunction in the hopes of improving the process. \\n\""
      ]
     },
     "execution_count": 5,
     "metadata": {},
     "output_type": "execute_result"
    }
   ],
   "source": [
    "\"\"\"\n",
    "This is the main callable function that initializes the static parts of the UI and preloads any data or lists that will be required by the more intensive loadGroup call.  This function returns\n",
    "the displayable UI for the given batch which the user will interact with, this function will be called by the user for each batch they want/need loaded.\n",
    "\n",
    "INPUTS\n",
    "    confirmed->\n",
    "        dict{\n",
    "            ...,\n",
    "            string():dict{\n",
    "                string():time(),\n",
    "                string():string()\n",
    "            },\n",
    "            ...\n",
    "        }\n",
    "        A dictionary containing the keys of user confirmed tiles as keys and a dictionary, containing the time at which the confirmation was made and the user's name as values, as values.  This\n",
    "        is used to reference and update the confirmed lists as the user interacts with the web app\n",
    "    denied->\n",
    "        dict{\n",
    "            ...,\n",
    "            string():dict{\n",
    "                string():time(),\n",
    "                string():string()\n",
    "            },\n",
    "            ...\n",
    "        }\n",
    "        Same as the above confirmed dictionary but filled with user denied tile keys\n",
    "    groups->\n",
    "         dict{\n",
    "            ...,\n",
    "            string(int()):list[...,string(),string(),string()...],\n",
    "            string(int()):list[...,string(),string(),string()...],\n",
    "            ...\n",
    "        }\n",
    "        Exactly the same as the GroupBatch dictionary uploaded to the storage in Grouping.ipynb\n",
    "    batch->\n",
    "        int()\n",
    "        An integer representing the current batch of images, used to access the descarteslabs storage uploaded dictionaries, ensure this number is a valid value in your storage.\n",
    "RETURN\n",
    "    total->\n",
    "        VBox(list[\n",
    "            Vbox(list[\n",
    "                Box(list[\n",
    "                    MapApp()\n",
    "                ]),\n",
    "                ***Output()***\n",
    "            ]), HBox(list[\n",
    "                Button()\n",
    "            ])\n",
    "        ])\n",
    "        This is the static parts of the UI that are initially generated and returned to the user to display.  Everything within this UI is run asynchronously and allows for user input to\n",
    "        proceed.  The first layer represents the vertically aligned map-image combo and the nextGroup Button widget, the next layer within the map-image combo separates the MapApp and the\n",
    "        ***Output*** vertically.  The ***Output*** widget is a static representation that is iteratively cleared and refreshed with the next UI from the groupImg batch-group, for more\n",
    "        information and a visual represenation of it refer to the RETURNS section of the loadGroup fucntion above.  For a visual representation of this display refer to the diagram below.\n",
    "              _________________________________________________\n",
    "        VBOX-|      __________________________________________ |\n",
    "             |VBOX-|     ___________________________________  ||\n",
    "             |     |BOX-|_____________MapApp________________| ||\n",
    "             |     |_______________***Output***_______________||\n",
    "             |      _________  _________  _________  _________ |\n",
    "             |HBOX-|_Button1_||_Button2_||_TextBox_||_Button3_||\n",
    "             |_________________________________________________|\n",
    "WORKFLOW\n",
    "   -Clear the matplotlib from previous uses to scrap and save memory, otherwise plots persist between loads\n",
    "   -Query the descarteslabs storage for the image dictionaries associated with the given datasetName and batch number\n",
    "   -Initialize MapApp with no parameters\n",
    "   -Initialize the TextBox class object to keep changes made to the userName asynchronously\n",
    "   -Use loadGroup to load the ***Output*** UI for each group-batch and the group-batch GJS to update the MapApp asynchronously.  For more information, refer to the above information on the\n",
    "    function\n",
    "   -Create the nextGroup, saveData, and Submit buttons for the final UI alongside the userName textBox and the label displaying the user and the current batch and group displayed.\n",
    "   -Create a Counter class and initialize two counters, one for batches and another for groups to be able to asynchronously keep track of the current values for each as we load different\n",
    "    sections of the dataset.\n",
    "   -Create the saveDataFunc on-click event for the saveData Button and tie them together.  This button is responsible for taking the current confirmed and denied dictionaries and merging them\n",
    "    with a freshly queried version of the same currently stored in the storage under datasetName+'Confirmed'/'Denied'.  Overwrite the current confirmed and denied dictionaries with the merged\n",
    "    versions and return.\n",
    "   -Create the submitNameFunc on-click event for the submit button and tie them together.  This button checks the current userNameValue and ensures the submitted userName is not empty or\n",
    "    contains non alphabetic characters.  If it doesn't the userNameValue is updated and the label is changed to reflect the current userName as well as the buttom turning green.  If it fails\n",
    "    the check the button turns red and a warning is printed to the log.\n",
    "   -Create the loadNext on-click event and tie it to the previously initialized button, this button is responsible for asynchronously swapping and refreshing the relevant ***Output*** and\n",
    "    map information\n",
    "       -Ensure that we aren't overstepping our group size and ignore any further calls once we do\n",
    "       -Clear the map of previous GJS\n",
    "       -Check if the current batch is greater than the total number of batches for the current group, and if so, move onto the next group and reset the batch counter\n",
    "       -Use the group and batch values to refer to the current groupGJS and groupImg lists/UI respectively\n",
    "          -For the GJS, iteratively add the each from the batch to the map\n",
    "          -For the ImageUI, obtain the current UI and display it using the HiImg ***Output*** after the ***Output*** is cleared, effectively 'refreshing' that section of the UI with new info\n",
    "       -Increment the batch counter and await the next click\n",
    "   -Create the final UI elements and adjust them as required before returning the final UI object back to the caller.  For more information on the UI, refer to the RETURN section.\n",
    "KNOWN_ISSUES\n",
    "   -The most major issue with this is the inability to effectively stop labeling without redoing a portion of the data.  Take for example a set of 1000 images, with 3 groups and 3 batches per\n",
    "    group.  As it stands, a user can label the first entire group and separately save the confirmed and denied lists to storage, but if the user quits, the kernel dies or some unforseen quit\n",
    "    call is made the user will need to re-run on the current parameters (datasetName and batch) and click until the first group is past before proceeding.  Additionally, the user will need to\n",
    "    update, not set, any uploaded confirmed/denied lists.  Some debugging information has been added to the log but otherwise that functionality has not been added due to time and scope\n",
    "    constraints.\n",
    "   -The next big issue is a concurrency race condition that may arise if two users saveData at around the same time.  Since the on-click function calls the storage, and edits it before saving\n",
    "    it there is a brief window during which another user can do the same before the previous data is saved such that only the newest data is kept and the other data is lost.  In theory this\n",
    "    isn't likely given how brief the window for it currently is and additionally may not actively be a problem if the users don't terminate the program before saving again as their 'lost' data\n",
    "    is maintained in their personal session and can be submitted with no issues later on.\n",
    "   -A maybe issue, maybe not is that there is a limit to the size of any storage item, and since we're only keeping one confirmed and denied object in storage, if the dataset is large enough\n",
    "    there is a real possibility of reaching this limit without intending to.  As it stands I don't believe the issue is relevant with 20000 images as the things stored are basically strings,\n",
    "    but it may be necessary in the future to handle this potentiality.\n",
    "   -Besides that, most of the KNOWN_ISSUES from the loadGroup section apply doubly here and any adjustments should be made in conjunction in the hopes of improving the process. \n",
    "\"\"\""
   ]
  },
  {
   "cell_type": "code",
   "execution_count": 6,
   "id": "1146570b",
   "metadata": {},
   "outputs": [],
   "source": [
    "def InitiateUI(confirmed,denied,groups,batch,datasetName):\n",
    "    #Clear existing plts\n",
    "    plt.clf()\n",
    "    \n",
    "    #load image data from storage\n",
    "    print(\"Loading Data\")\n",
    "    randomKeyImageDict=pkl.loads(decompress(storage.get(datasetName+\"LrBatch\"+str(batch))))\n",
    "    randomKeyHrImgDict=pkl.loads(decompress(storage.get(datasetName+\"HrBatch\"+str(batch))))\n",
    "      \n",
    "    #initialize Map\n",
    "    m = wf.interactive.MapApp()\n",
    "    \n",
    "    class TextBox:\n",
    "        def __init__(self,initial='noUser'):\n",
    "            self.value=initial\n",
    "        def changeName(self,text):\n",
    "            self.value=text\n",
    "            return;\n",
    "    userNameValue=TextBox()\n",
    "    class updateList:\n",
    "        def __init__(self,initial=[]):\n",
    "            self.value=initial\n",
    "            \n",
    "    confirmedClass=updateList(confirmed)\n",
    "    deniedClass=updateList(denied)\n",
    "    class editRequest:\n",
    "        def __init__(self):\n",
    "            self.value={}\n",
    "    class addRequest:\n",
    "        def __init__(self):\n",
    "            self.value={}        \n",
    "    edit=editRequest()\n",
    "    add=addRequest()\n",
    "    \n",
    "    #iterate through each cluster group and pre-load all the UI and return the lists\n",
    "    print(\"Initializing UI!\")\n",
    "    groupGJS,groupImg=loadGroup(randomKeyImageDict,randomKeyHrImgDict,groups,m,userNameValue,confirmedClass,deniedClass,edit,add)\n",
    "    print('Done!')\n",
    "    \n",
    "    #Initialize counter class and two counters to iteratively keep track between on-click even\n",
    "        \n",
    "    class Counter:\n",
    "       def __init__(self, initial=0):\n",
    "          self.value = initial\n",
    "\n",
    "       def increment(self, amount=1):\n",
    "          self.value += amount\n",
    "          return self.value\n",
    "\n",
    "       def reset(self):\n",
    "            self.value=0\n",
    "\n",
    "       def __iter__(self, sentinal=False):\n",
    "          return iter(self.increment, sentinal)\n",
    "\n",
    "    groupcounter=Counter()\n",
    "    batchcounter=Counter()\n",
    "    \n",
    "    #create buttons and textBox to insert to our layout\n",
    "    nextGroup=Button(\n",
    "        description=\"Next Group\",\n",
    "        tooltip=\"Proceed\"\n",
    "    )\n",
    "    \n",
    "    saveData=Button(\n",
    "        description=\"Save Data\",\n",
    "        tooltip=\"Save\"\n",
    "    )\n",
    "    \n",
    "    userName=Text(\n",
    "        placeholder='Type your name!',\n",
    "        description='User Name',\n",
    "        disabled=False\n",
    "    )\n",
    "    \n",
    "    submitName=Button(\n",
    "        description=\"Submit\",\n",
    "        tooltip=\"Submit\"\n",
    "    )\n",
    "    \n",
    "\n",
    "    curLabel=Label(value=\"User: \"+userNameValue.value+\", Working on: Group: \"+str(groupcounter.value)+\", Batch: \"+str(batchcounter.value))\n",
    "\n",
    "    \n",
    "    #On-Click call the next batch of gjs and images or the next group if the batches are done for that group\n",
    "    def saveDataFunc(confirmed,denied,add,edit,batchNum,b):\n",
    "        confirmedName='JSErrorConfirmed'\n",
    "        deniedName='JSErrorDenied'\n",
    "        \n",
    "        newConfirmed=pkl.loads(decompress(storage.get(datasetName+confirmedName)))\n",
    "        newDenied=pkl.loads(decompress(storage.get(datasetName+deniedName)))\n",
    "        for req in add.value:\n",
    "            if add.value[req]['add']=='Confirmed':\n",
    "                newConfirmed[req]=add.value[req]['data']\n",
    "            elif add.value[req]['add']=='Denied':\n",
    "                newDenied[req]=add.value[req]['data']\n",
    "        for req in edit.value:\n",
    "            if edit.value[req]['add']=='Confirmed':\n",
    "                newConfirmed[req]=edit.value[req]['data']\n",
    "                if req in newDenied:\n",
    "                    del(newDenied[req])\n",
    "            elif edit.value[req]['add']=='Denied':\n",
    "                newDenied[req]=edit.value[req]['data']\n",
    "                if req in newConfirmed:\n",
    "                    del(newConfirmed[req])\n",
    "        storage.set(datasetName+confirmedName,compress(pkl.dumps(newConfirmed)))\n",
    "        storage.set(datasetName+deniedName,compress(pkl.dumps(newDenied)))\n",
    "        confirmed.value=newConfirmed\n",
    "        denied.value=newDenied\n",
    "        add.value={}\n",
    "        edit.value={}\n",
    "        \n",
    "        \n",
    "    def submitNameFunc(b,userNameValue=userNameValue,groupcounter=groupcounter,batchcounter=batchcounter):\n",
    "        bad='1234567890-=[]\\\\;\\',./!@#$%^&*()_+{}|:\\\"<>? '\n",
    "        if userName.value and not any(x in userName.value for x in bad):\n",
    "            userNameValue.changeName(userName.value)\n",
    "            curLabel.value=\"User: \"+userNameValue.value+\", Working on: Group: \"+str(groupcounter.value)+\", Batch: \"+str(batchcounter.value)\n",
    "            b.style.button_color='green'\n",
    "        else:\n",
    "            print('Empty input or not alphabetic found in input')\n",
    "            b.style.button_color='red'\n",
    "    \n",
    "    def loadNextGroup(b,groupcounter=groupcounter,batchcounter=batchcounter):\n",
    "        if (groupcounter.value < len(groups.keys())):\n",
    "            #Reset map\n",
    "            m.clear_layers()\n",
    "            \n",
    "            #Check if Batch # is larger than it should be and move onto the next group\n",
    "            if (batchcounter.value >= math.ceil(len(groups[str(groupcounter.value)])/IMGSHOWN)):\n",
    "                groupcounter.increment()\n",
    "                batchcounter.reset()\n",
    "            \n",
    "            curLabel.value=\"User: \"+userNameValue.value+\", Working on: Group: \"+str(groupcounter.value)+\", Batch: \"+str(batchcounter.value)\n",
    "            curBatch.clear_output()\n",
    "            with curBatch:\n",
    "                display(curLabel)\n",
    "                \n",
    "            #Print current grouping information for debugging/early termination purposes\n",
    "            print('group #')\n",
    "            print(groupcounter.value)\n",
    "            print('batch #')\n",
    "            print(batchcounter.value)\n",
    "            print('gjs group batch #')\n",
    "            print(len(groupGJS[groupcounter.value]))\n",
    "            print('group size')\n",
    "            print(len(groupImg[groupcounter.value]))\n",
    "            \n",
    "            #Add the relevant group-batch gjs to the map\n",
    "            for gjs in groupGJS[groupcounter.value][batchcounter.value]:\n",
    "                m.add_layer(gjs)\n",
    "            \n",
    "            #Initialize the group-batch images from the list and display it using a clearable output to effectively 'refresh'\n",
    "            horizontalBox=VBox([groupImg[groupcounter.value][batchcounter.value]])\n",
    "            \n",
    "            HiImg.clear_output()\n",
    "            with HiImg:\n",
    "                display(horizontalBox)\n",
    "            \n",
    "            #Increase step counter!\n",
    "            batchcounter.increment()\n",
    "            \n",
    "    #Tie next group button to it's on-click event\n",
    "    saveData.on_click(functools.partial(saveDataFunc,confirmedClass,deniedClass,add,edit,batch))\n",
    "    nextGroup.on_click(loadNextGroup)\n",
    "    submitName.on_click(submitNameFunc)\n",
    "\n",
    "    #create custom box layout for the future image section, map and buttons\n",
    "    HiImg=Output(layout={'border': '1px solid black'})\n",
    "    horizontalBox=Box([HiImg],layout=Layout(\n",
    "        display='flex',\n",
    "        flex_flow='row',\n",
    "        width='100%'\n",
    "    ))\n",
    "    curBatch=Output(layout={'border': '1px solid black'})\n",
    "    with curBatch:\n",
    "        display(curLabel)\n",
    "    horizontalBox1=Box([m,curBatch],layout=Layout(\n",
    "        display='flex',\n",
    "        flex_flow='column',\n",
    "        width='100%'\n",
    "    ))\n",
    "    \n",
    "    #create actual layout for the UI\n",
    "    maps=VBox([horizontalBox1,horizontalBox])\n",
    "    button=HBox([nextGroup,saveData,userName,submitName])\n",
    "    total=VBox([maps,button])\n",
    "    \n",
    "    #Return the callable UI!\n",
    "    return total\n"
   ]
  },
  {
   "cell_type": "markdown",
   "id": "486ef9a5",
   "metadata": {},
   "source": [
    "## Look over these next cells and edit/change or initialize any necessary values\n",
    "# Choose a valid number for JLBatch and JSBatch\n",
    "# RUN A SINGLE UI PER KERNEL LOAD, ONCE ONE IS DONE, RESTART THE KERNEL AND CONTINUE WITH THE NEXT!"
   ]
  },
  {
   "cell_type": "code",
   "execution_count": 7,
   "id": "e6b455ba",
   "metadata": {},
   "outputs": [
    {
     "name": "stdout",
     "output_type": "stream",
     "text": [
      "Working on  0\n"
     ]
    }
   ],
   "source": [
    "#Initialize the basic variables\n",
    "storage=Storage(auth=Auth(client_id=config.ID,client_secret=config.SECRET))\n",
    "#Juan's Data, can be any 0-2!\n",
    "JSbatch=0\n",
    "print('Working on ',JSbatch)"
   ]
  },
  {
   "cell_type": "markdown",
   "id": "91b8f319",
   "metadata": {},
   "source": [
    "## This is Juan's Labeled Dataset!"
   ]
  },
  {
   "cell_type": "code",
   "execution_count": null,
   "id": "1c07617d",
   "metadata": {
    "scrolled": true
   },
   "outputs": [],
   "source": [
    "print(\"Juan's Batch #\",JSbatch)\n",
    "if datasetName1+'JSErrorConfirmed' not in storage.list():\n",
    "    storage.set(datasetName1+'JSErrorConfirmed',compress(pkl.dumps({})))\n",
    "    JSconfirmed={}\n",
    "else:\n",
    "    JSconfirmed=pkl.loads(decompress(storage.get(datasetName1+'JSErrorConfirmed')))\n",
    "if datasetName1+'JSErrorDenied' not in storage.list():\n",
    "    storage.set(datasetName1+'JSErrorDenied',compress(pkl.dumps({})))\n",
    "    JSdenied={}\n",
    "else:    \n",
    "    JSdenied=pkl.loads(decompress(storage.get(datasetName1+'JSErrorDenied')))\n",
    "JSUI=InitiateUI(JSconfirmed,JSdenied,pkl.loads(decompress(storage.get(datasetName1+'GroupBatch'+str(JSbatch)))),JSbatch,datasetName1)"
   ]
  },
  {
   "cell_type": "code",
   "execution_count": null,
   "id": "6a57d2e2",
   "metadata": {},
   "outputs": [],
   "source": [
    "#Call the result to display in the below cell, continue until images no longer load.\n",
    "JSUI"
   ]
  },
  {
   "cell_type": "markdown",
   "id": "1b9fc0b8",
   "metadata": {},
   "source": [
    "## Create separate datasets for Juan and Jihyeon from their labeled data"
   ]
  },
  {
   "cell_type": "code",
   "execution_count": 8,
   "id": "07670799",
   "metadata": {},
   "outputs": [],
   "source": [
    "#Get separate Batch datasets for Juan and Jihyeon!\n",
    "Combinedconfirmed=pkl.loads(decompress(storage.get(datasetName1+'Confirmed'))).keys()\n",
    "Combineddenied=pkl.loads(decompress(storage.get(datasetName1+'Denied'))).keys()\n",
    "JuanBatch=pkl.loads(decompress(storage.get(datasetName1+'GroupBatch'+str(JSbatch))))\n",
    "JuanBatchKeys=[]\n",
    "for x in JuanBatch:\n",
    "    JuanBatchKeys.extend(JuanBatch[x])\n",
    "\n",
    "JuanConfirmed={key for key in JuanBatchKeys if key in Combinedconfirmed}\n",
    "JuanDenied={key for key in JuanBatchKeys if key in Combineddenied}"
   ]
  },
  {
   "cell_type": "code",
   "execution_count": 9,
   "id": "846e79da",
   "metadata": {},
   "outputs": [
    {
     "name": "stdout",
     "output_type": "stream",
     "text": [
      "2095\n",
      "2095\n"
     ]
    }
   ],
   "source": [
    "#Print number to ensure all data has been loaded and separated\n",
    "print(len(JuanConfirmed)+len(JuanDenied))\n",
    "print(len(JuanBatchKeys))"
   ]
  },
  {
   "cell_type": "markdown",
   "id": "5f66bc29",
   "metadata": {},
   "source": [
    "## Calculate the Error Rates for Juan's and Jihyeon's batch using the finished confirmed and denied lists "
   ]
  },
  {
   "cell_type": "code",
   "execution_count": 10,
   "id": "f4236891",
   "metadata": {},
   "outputs": [],
   "source": [
    "JSconfirmed=pkl.loads(decompress(storage.get(datasetName1+'JSErrorConfirmed')))\n",
    "JSdenied=pkl.loads(decompress(storage.get(datasetName1+'JSErrorDenied')))"
   ]
  },
  {
   "cell_type": "code",
   "execution_count": 11,
   "id": "eae8f20e",
   "metadata": {},
   "outputs": [
    {
     "name": "stdout",
     "output_type": "stream",
     "text": [
      "Error rates for Juan's Batch 0\n",
      "False Positive: 0.01510912143256855\n",
      "True Positive: 0.8961038961038961\n",
      "False Negative: 0.1038961038961039\n",
      "True Negative: 0.9848908785674314\n",
      "Precision: 0.9108910891089109\n",
      "Recall: 0.8961038961038961\n"
     ]
    }
   ],
   "source": [
    "#Juan's Error Analysis\n",
    "fplist=[key for key in JuanConfirmed if key not in JSconfirmed]\n",
    "tplist=[key for key in JuanConfirmed if key in JSconfirmed]\n",
    "fnlist=[key for key in JuanDenied if key not in JSdenied]\n",
    "tnlist=[key for key in JuanDenied if key in JSdenied]\n",
    "fp=len(fplist)/(len(fplist)+len(tnlist))\n",
    "tp=len(tplist)/(len(tplist)+len(fnlist))\n",
    "fn=len(fnlist)/(len(fnlist)+len(tplist))\n",
    "tn=len(tnlist)/(len(tnlist)+len(fplist))\n",
    "p=len(tplist)/(len(tplist)+len(fplist))\n",
    "r=len(tplist)/(len(tplist)+len(fnlist))\n",
    "print('Error rates for Juan\\'s Batch',JSbatch)\n",
    "print('False Positive:',fp)\n",
    "print('True Positive:',tp)\n",
    "print('False Negative:',fn)\n",
    "print('True Negative:',tn)\n",
    "print('Precision:',p)\n",
    "print('Recall:',r)"
   ]
  },
  {
   "cell_type": "code",
   "execution_count": null,
   "id": "106fcb55",
   "metadata": {},
   "outputs": [],
   "source": [
    "JSMap=wf.interactive.MapApp()\n",
    "JSMap.clear_layers()\n",
    "JSMap.center=(22.3094, 83.4160)\n",
    "JSMap.zoom=6\n",
    "def showPopup(event,feature,properties):\n",
    "    JSMap.add_layer(Popup(location=(dl.scenes.DLTile.from_key(properties['style']['key']).geometry.centroid.xy[1][0],dl.scenes.DLTile.from_key(properties['style']['key']).geometry.centroid.xy[0][0]),child=HTML(value='Key: '+properties['style']['key']+'<br>Description: '+properties['style']['description']),close_button=True))"
   ]
  },
  {
   "cell_type": "code",
   "execution_count": null,
   "id": "e5f9997e",
   "metadata": {},
   "outputs": [],
   "source": [
    "#FALSE POSITIVES\n",
    "for key in fplist:\n",
    "    gjs=GeoJSON(\n",
    "        data=geojson.FeatureCollection([dl.scenes.DLTile.from_key(key).__geo_interface__]),\n",
    "        style={\"color\":\"red\",\n",
    "            \"fillOpacity\":0,\n",
    "            'weight':4,\n",
    "            'key':key,\n",
    "            'description':'False Positive'},\n",
    "        hover_style={'color':'blue'},\n",
    "    )\n",
    "    gjs.on_click(showPopup)\n",
    "    JSMap.add_layer(gjs)"
   ]
  },
  {
   "cell_type": "code",
   "execution_count": null,
   "id": "4f524d89",
   "metadata": {},
   "outputs": [],
   "source": [
    "JSMap.clear_layers()\n",
    "#FALSE NEGATIVES\n",
    "for key in fnlist:\n",
    "    gjs=GeoJSON(\n",
    "        data=geojson.FeatureCollection([dl.scenes.DLTile.from_key(key).__geo_interface__]),\n",
    "        style={\"color\":\"orange\",\n",
    "            \"fillOpacity\":0,\n",
    "            'weight':4,\n",
    "            'key':key,\n",
    "            'description':'False Negative'},\n",
    "        hover_style={'color':'blue'},\n",
    "    )\n",
    "    gjs.on_click(showPopup)\n",
    "    JSMap.add_layer(gjs)"
   ]
  },
  {
   "cell_type": "code",
   "execution_count": null,
   "id": "8dcc0fbc",
   "metadata": {},
   "outputs": [],
   "source": [
    "JSMap.clear_layers()\n",
    "#TRUE POSITIVE\n",
    "for key in tplist:\n",
    "    gjs=GeoJSON(\n",
    "        data=geojson.FeatureCollection([dl.scenes.DLTile.from_key(key).__geo_interface__]),\n",
    "        style={\"color\":\"green\",\n",
    "            \"fillOpacity\":0,\n",
    "            'weight':4,\n",
    "            'key':key,\n",
    "            'description':'True Positive'},\n",
    "        hover_style={'color':'blue'},\n",
    "    )    \n",
    "    gjs.on_click(showPopup)\n",
    "    JSMap.add_layer(gjs)    "
   ]
  },
  {
   "cell_type": "code",
   "execution_count": null,
   "id": "c6df4140",
   "metadata": {},
   "outputs": [],
   "source": [
    "JSMap.clear_layers()\n",
    "for key in tnlist:\n",
    "    gjs=GeoJSON(\n",
    "        data=geojson.FeatureCollection([dl.scenes.DLTile.from_key(key).__geo_interface__]),\n",
    "        style={\"color\":\"yellow\",\n",
    "            \"fillOpacity\":0,\n",
    "            'weight':4,\n",
    "            'key':key,\n",
    "            'description':'True Negative'},\n",
    "        hover_style={'color':'blue'},\n",
    "    )    \n",
    "    gjs.on_click(showPopup)\n",
    "    JSMap.add_layer(gjs)"
   ]
  },
  {
   "cell_type": "code",
   "execution_count": null,
   "id": "875eedad",
   "metadata": {},
   "outputs": [],
   "source": [
    "JSMap"
   ]
  },
  {
   "cell_type": "markdown",
   "id": "8da8136a",
   "metadata": {},
   "source": [
    "## Next Dataset!"
   ]
  },
  {
   "cell_type": "code",
   "execution_count": 12,
   "id": "1dc5ad82",
   "metadata": {},
   "outputs": [
    {
     "name": "stdout",
     "output_type": "stream",
     "text": [
      "Working on  0\n"
     ]
    }
   ],
   "source": [
    "#Initialize the basic variables\n",
    "storage=Storage(auth=Auth(client_id=config.ID,client_secret=config.SECRET))\n",
    "\n",
    "#Juan's Data, can be any 0-1!\n",
    "JSbatch=0\n",
    "print('Working on ',JSbatch)"
   ]
  },
  {
   "cell_type": "markdown",
   "id": "57de395c",
   "metadata": {},
   "source": [
    "## This is Juan's Labeled Dataset!"
   ]
  },
  {
   "cell_type": "code",
   "execution_count": null,
   "id": "bb48c91e",
   "metadata": {
    "scrolled": true
   },
   "outputs": [],
   "source": [
    "print(\"Juan's Batch #\",JSbatch)\n",
    "if datasetName2+'JSErrorConfirmed' not in storage.list():\n",
    "    storage.set(datasetName2+'JSErrorConfirmed',compress(pkl.dumps({})))\n",
    "    JSconfirmed={}\n",
    "else:\n",
    "    JSconfirmed=pkl.loads(decompress(storage.get(datasetName2+'JSErrorConfirmed')))\n",
    "if datasetName2+'JSErrorDenied' not in storage.list():\n",
    "    storage.set(datasetName2+'JSErrorDenied',compress(pkl.dumps({})))\n",
    "    JSdenied={}\n",
    "else:    \n",
    "    JSdenied=pkl.loads(decompress(storage.get(datasetName2+'JSErrorDenied')))\n",
    "JSUI=InitiateUI(JSconfirmed,JSdenied,pkl.loads(decompress(storage.get(datasetName2+'GroupBatch'+str(JSbatch)))),JSbatch,datasetName2)"
   ]
  },
  {
   "cell_type": "code",
   "execution_count": null,
   "id": "8f89256c",
   "metadata": {},
   "outputs": [],
   "source": [
    "#Call the result to display in the below cell, continue until images no longer load.\n",
    "JSUI"
   ]
  },
  {
   "cell_type": "markdown",
   "id": "85b8ee85",
   "metadata": {},
   "source": [
    "## Create separate datasets for Juan and Jihyeon from their labeled data"
   ]
  },
  {
   "cell_type": "code",
   "execution_count": 13,
   "id": "68c3147b",
   "metadata": {},
   "outputs": [],
   "source": [
    "#Get separate Batch datasets for Juan and Jihyeon!\n",
    "Combinedconfirmed=pkl.loads(decompress(storage.get(datasetName2+'Confirmed'))).keys()\n",
    "Combineddenied=pkl.loads(decompress(storage.get(datasetName2+'Denied'))).keys()\n",
    "JuanBatch=pkl.loads(decompress(storage.get(datasetName2+'GroupBatch'+str(JSbatch))))\n",
    "JuanBatchKeys=[]\n",
    "for x in JuanBatch:\n",
    "    JuanBatchKeys.extend(JuanBatch[x])\n",
    "\n",
    "JuanConfirmed={key for key in JuanBatchKeys if key in Combinedconfirmed}\n",
    "JuanDenied={key for key in JuanBatchKeys if key in Combineddenied}"
   ]
  },
  {
   "cell_type": "code",
   "execution_count": 14,
   "id": "358cdcac",
   "metadata": {},
   "outputs": [
    {
     "name": "stdout",
     "output_type": "stream",
     "text": [
      "2081\n",
      "2081\n"
     ]
    }
   ],
   "source": [
    "#Print number to ensure all data has been loaded and separated\n",
    "print(len(JuanConfirmed)+len(JuanDenied))\n",
    "print(len(JuanBatchKeys))"
   ]
  },
  {
   "cell_type": "markdown",
   "id": "cf6f4b30",
   "metadata": {},
   "source": [
    "## Calculate the Error Rates for Juan's and Jihyeon's batch using the finished confirmed and denied lists "
   ]
  },
  {
   "cell_type": "code",
   "execution_count": 15,
   "id": "febf361a",
   "metadata": {},
   "outputs": [],
   "source": [
    "JSconfirmed=pkl.loads(decompress(storage.get(datasetName2+'JSErrorConfirmed')))\n",
    "JSdenied=pkl.loads(decompress(storage.get(datasetName2+'JSErrorDenied')))"
   ]
  },
  {
   "cell_type": "code",
   "execution_count": 16,
   "id": "149df5c7",
   "metadata": {},
   "outputs": [
    {
     "name": "stdout",
     "output_type": "stream",
     "text": [
      "Error rates for Juan's Batch 0\n",
      "False Positive: 0.03080872913992298\n",
      "True Positive: 0.9847036328871893\n",
      "False Negative: 0.015296367112810707\n",
      "True Negative: 0.9691912708600771\n",
      "Precision: 0.9147424511545293\n",
      "Recall: 0.9847036328871893\n"
     ]
    }
   ],
   "source": [
    "#Juan's Error Analysis\n",
    "fplist=[key for key in JuanConfirmed if key not in JSconfirmed]\n",
    "tplist=[key for key in JuanConfirmed if key in JSconfirmed]\n",
    "fnlist=[key for key in JuanDenied if key not in JSdenied]\n",
    "tnlist=[key for key in JuanDenied if key in JSdenied]\n",
    "fp=len(fplist)/(len(fplist)+len(tnlist))\n",
    "tp=len(tplist)/(len(tplist)+len(fnlist))\n",
    "fn=len(fnlist)/(len(fnlist)+len(tplist))\n",
    "tn=len(tnlist)/(len(tnlist)+len(fplist))\n",
    "p=len(tplist)/(len(tplist)+len(fplist))\n",
    "r=len(tplist)/(len(tplist)+len(fnlist))\n",
    "print('Error rates for Juan\\'s Batch',JSbatch)\n",
    "print('False Positive:',fp)\n",
    "print('True Positive:',tp)\n",
    "print('False Negative:',fn)\n",
    "print('True Negative:',tn)\n",
    "print('Precision:',p)\n",
    "print('Recall:',r)"
   ]
  },
  {
   "cell_type": "code",
   "execution_count": null,
   "id": "fb7ea565",
   "metadata": {},
   "outputs": [],
   "source": [
    "JSMap=wf.interactive.MapApp()\n",
    "JSMap.clear_layers()\n",
    "JSMap.center=(22.3094, 83.4160)\n",
    "JSMap.zoom=6\n",
    "def showPopup(event,feature,properties):\n",
    "    JSMap.add_layer(Popup(location=(dl.scenes.DLTile.from_key(properties['style']['key']).geometry.centroid.xy[1][0],dl.scenes.DLTile.from_key(properties['style']['key']).geometry.centroid.xy[0][0]),child=HTML(value='Key: '+properties['style']['key']+'<br>Description: '+properties['style']['description']),close_button=True))"
   ]
  },
  {
   "cell_type": "code",
   "execution_count": null,
   "id": "9b9ce8f4",
   "metadata": {},
   "outputs": [],
   "source": [
    "#FALSE POSITIVES\n",
    "for key in fplist:\n",
    "    gjs=GeoJSON(\n",
    "        data=geojson.FeatureCollection([dl.scenes.DLTile.from_key(key).__geo_interface__]),\n",
    "        style={\"color\":\"red\",\n",
    "            \"fillOpacity\":0,\n",
    "            'weight':4,\n",
    "            'key':key,\n",
    "            'description':'False Positive'},\n",
    "        hover_style={'color':'blue'},\n",
    "    )\n",
    "    gjs.on_click(showPopup)\n",
    "    JSMap.add_layer(gjs)"
   ]
  },
  {
   "cell_type": "code",
   "execution_count": null,
   "id": "23a0284e",
   "metadata": {},
   "outputs": [],
   "source": [
    "JSMap.clear_layers()\n",
    "#FALSE NEGATIVES\n",
    "for key in fnlist:\n",
    "    gjs=GeoJSON(\n",
    "        data=geojson.FeatureCollection([dl.scenes.DLTile.from_key(key).__geo_interface__]),\n",
    "        style={\"color\":\"orange\",\n",
    "            \"fillOpacity\":0,\n",
    "            'weight':4,\n",
    "            'key':key,\n",
    "            'description':'False Negative'},\n",
    "        hover_style={'color':'blue'},\n",
    "    )\n",
    "    gjs.on_click(showPopup)\n",
    "    JSMap.add_layer(gjs)"
   ]
  },
  {
   "cell_type": "code",
   "execution_count": null,
   "id": "259e6d48",
   "metadata": {},
   "outputs": [],
   "source": [
    "JSMap.clear_layers()\n",
    "#TRUE POSITIVE\n",
    "for key in tplist:\n",
    "    gjs=GeoJSON(\n",
    "        data=geojson.FeatureCollection([dl.scenes.DLTile.from_key(key).__geo_interface__]),\n",
    "        style={\"color\":\"green\",\n",
    "            \"fillOpacity\":0,\n",
    "            'weight':4,\n",
    "            'key':key,\n",
    "            'description':'True Positive'},\n",
    "        hover_style={'color':'blue'},\n",
    "    )    \n",
    "    gjs.on_click(showPopup)\n",
    "    JSMap.add_layer(gjs)    "
   ]
  },
  {
   "cell_type": "code",
   "execution_count": null,
   "id": "e47c8632",
   "metadata": {},
   "outputs": [],
   "source": [
    "JSMap.clear_layers()\n",
    "for key in tnlist:\n",
    "    gjs=GeoJSON(\n",
    "        data=geojson.FeatureCollection([dl.scenes.DLTile.from_key(key).__geo_interface__]),\n",
    "        style={\"color\":\"yellow\",\n",
    "            \"fillOpacity\":0,\n",
    "            'weight':4,\n",
    "            'key':key,\n",
    "            'description':'True Negative'},\n",
    "        hover_style={'color':'blue'},\n",
    "    )    \n",
    "    gjs.on_click(showPopup)\n",
    "    JSMap.add_layer(gjs)"
   ]
  },
  {
   "cell_type": "code",
   "execution_count": null,
   "id": "c594700a",
   "metadata": {},
   "outputs": [],
   "source": [
    "JSMap"
   ]
  },
  {
   "cell_type": "markdown",
   "id": "52216593",
   "metadata": {},
   "source": [
    "## Next Dataset!"
   ]
  },
  {
   "cell_type": "code",
   "execution_count": 17,
   "id": "d0427e44",
   "metadata": {},
   "outputs": [
    {
     "name": "stdout",
     "output_type": "stream",
     "text": [
      "Working on  0\n"
     ]
    }
   ],
   "source": [
    "#Initialize the basic variables\n",
    "storage=Storage(auth=Auth(client_id=config.ID,client_secret=config.SECRET))\n",
    "\n",
    "#Juan's Data, can only be 0!\n",
    "JSbatch=random.randint(0,0)\n",
    "print('Working on ',JSbatch)"
   ]
  },
  {
   "cell_type": "markdown",
   "id": "18cfd6bc",
   "metadata": {},
   "source": [
    "## This is Juan's Labeled Dataset!"
   ]
  },
  {
   "cell_type": "code",
   "execution_count": 6,
   "id": "ec6ed008",
   "metadata": {
    "scrolled": true
   },
   "outputs": [
    {
     "name": "stdout",
     "output_type": "stream",
     "text": [
      "Juan's Batch # 0\n",
      "Loading Data\n",
      "Initializing UI!\n",
      "Adding group # 0  to the web app\n",
      "Adding group # 1  to the web app\n",
      "Adding group # 2  to the web app\n",
      "Adding group # 3  to the web app\n",
      "Adding group # 4  to the web app\n",
      "Done!\n"
     ]
    }
   ],
   "source": [
    "print(\"Juan's Batch #\",JSbatch)\n",
    "if datasetName3+'JSErrorConfirmed' not in storage.list():\n",
    "    storage.set(datasetName3+'JSErrorConfirmed',compress(pkl.dumps({})))\n",
    "    JSconfirmed={}\n",
    "else:\n",
    "    JSconfirmed=pkl.loads(decompress(storage.get(datasetName3+'JSErrorConfirmed')))\n",
    "if datasetName3+'JSErrorDenied' not in storage.list():\n",
    "    storage.set(datasetName3+'JSErrorDenied',compress(pkl.dumps({})))\n",
    "    JSdenied={}\n",
    "else:    \n",
    "    JSdenied=pkl.loads(decompress(storage.get(datasetName3+'JSErrorDenied')))\n",
    "JSUI=InitiateUI(JSconfirmed,JSdenied,pkl.loads(decompress(storage.get(datasetName3+'GroupBatch'+str(JSbatch)))),JSbatch,datasetName3)"
   ]
  },
  {
   "cell_type": "code",
   "execution_count": 7,
   "id": "e897de90",
   "metadata": {},
   "outputs": [
    {
     "data": {
      "application/vnd.jupyter.widget-view+json": {
       "model_id": "fc74997bdeae4614be9cdae8815c3e0b",
       "version_major": 2,
       "version_minor": 0
      },
      "text/plain": [
       "VBox(children=(VBox(children=(Box(children=(\n",
       "`ipyleaflet` and/or `ipywidgets` Jupyter extensions are not insta…"
      ]
     },
     "metadata": {},
     "output_type": "display_data"
    }
   ],
   "source": [
    "#Call the result to display in the below cell, continue until images no longer load.\n",
    "JSUI"
   ]
  },
  {
   "cell_type": "markdown",
   "id": "d7cf3f49",
   "metadata": {},
   "source": [
    "## Create separate datasets for Juan and Jihyeon from their labeled data"
   ]
  },
  {
   "cell_type": "code",
   "execution_count": 18,
   "id": "e8bdf6f0",
   "metadata": {},
   "outputs": [],
   "source": [
    "#Get separate Batch datasets for Juan and Jihyeon!\n",
    "Combinedconfirmed=pkl.loads(decompress(storage.get(datasetName3+'Confirmed'))).keys()\n",
    "Combineddenied=pkl.loads(decompress(storage.get(datasetName3+'Denied'))).keys()\n",
    "JuanBatch=pkl.loads(decompress(storage.get(datasetName3+'GroupBatch'+str(JSbatch))))\n",
    "JuanBatchKeys=[]\n",
    "for x in JuanBatch:\n",
    "    JuanBatchKeys.extend(JuanBatch[x])\n",
    "\n",
    "JuanConfirmed={key for key in JuanBatchKeys if key in Combinedconfirmed}\n",
    "JuanDenied={key for key in JuanBatchKeys if key in Combineddenied}"
   ]
  },
  {
   "cell_type": "code",
   "execution_count": 19,
   "id": "9c03cb0d",
   "metadata": {},
   "outputs": [
    {
     "name": "stdout",
     "output_type": "stream",
     "text": [
      "414\n",
      "414\n"
     ]
    }
   ],
   "source": [
    "#Print number to ensure all data has been loaded and separated\n",
    "print(len(JuanConfirmed)+len(JuanDenied))\n",
    "print(len(JuanBatchKeys))"
   ]
  },
  {
   "cell_type": "markdown",
   "id": "bc411f78",
   "metadata": {},
   "source": [
    "## Calculate the Error Rates for Juan's and Jihyeon's batch using the finished confirmed and denied lists "
   ]
  },
  {
   "cell_type": "code",
   "execution_count": 20,
   "id": "2e21c019",
   "metadata": {},
   "outputs": [],
   "source": [
    "JSconfirmed=pkl.loads(decompress(storage.get(datasetName3+'JSErrorConfirmed')))\n",
    "JSdenied=pkl.loads(decompress(storage.get(datasetName3+'JSErrorDenied')))"
   ]
  },
  {
   "cell_type": "code",
   "execution_count": 21,
   "id": "13581f6e",
   "metadata": {},
   "outputs": [
    {
     "name": "stdout",
     "output_type": "stream",
     "text": [
      "Error rates for Juan's Batch 0\n",
      "False Positive: 0.0030581039755351682\n",
      "True Positive: 0.9885057471264368\n",
      "False Negative: 0.011494252873563218\n",
      "True Negative: 0.9969418960244648\n",
      "Precision: 0.9885057471264368\n",
      "Recall: 0.9885057471264368\n"
     ]
    }
   ],
   "source": [
    "#Juan's Error Analysis\n",
    "fplist=[key for key in JuanConfirmed if key not in JSconfirmed]\n",
    "tplist=[key for key in JuanConfirmed if key in JSconfirmed]\n",
    "fnlist=[key for key in JuanDenied if key not in JSdenied]\n",
    "tnlist=[key for key in JuanDenied if key in JSdenied]\n",
    "fp=len(fplist)/(len(fplist)+len(tnlist))\n",
    "tp=len(tplist)/(len(tplist)+len(fnlist))\n",
    "fn=len(fnlist)/(len(fnlist)+len(tplist))\n",
    "tn=len(tnlist)/(len(tnlist)+len(fplist))\n",
    "p=len(tplist)/(len(tplist)+len(fplist))\n",
    "r=len(tplist)/(len(tplist)+len(fnlist))\n",
    "print('Error rates for Juan\\'s Batch',JSbatch)\n",
    "print('False Positive:',fp)\n",
    "print('True Positive:',tp)\n",
    "print('False Negative:',fn)\n",
    "print('True Negative:',tn)\n",
    "print('Precision:',p)\n",
    "print('Recall:',r)"
   ]
  },
  {
   "cell_type": "code",
   "execution_count": null,
   "id": "25abb182",
   "metadata": {},
   "outputs": [],
   "source": [
    "JSMap=wf.interactive.MapApp()\n",
    "JSMap.clear_layers()\n",
    "JSMap.center=(22.3094, 83.4160)\n",
    "JSMap.zoom=6\n",
    "def showPopup(event,feature,properties):\n",
    "    JSMap.add_layer(Popup(location=(dl.scenes.DLTile.from_key(properties['style']['key']).geometry.centroid.xy[1][0],dl.scenes.DLTile.from_key(properties['style']['key']).geometry.centroid.xy[0][0]),child=HTML(value='Key: '+properties['style']['key']+'<br>Description: '+properties['style']['description']),close_button=True))"
   ]
  },
  {
   "cell_type": "code",
   "execution_count": null,
   "id": "206322aa",
   "metadata": {},
   "outputs": [],
   "source": [
    "#FALSE POSITIVES\n",
    "for key in fplist:\n",
    "    gjs=GeoJSON(\n",
    "        data=geojson.FeatureCollection([dl.scenes.DLTile.from_key(key).__geo_interface__]),\n",
    "        style={\"color\":\"red\",\n",
    "            \"fillOpacity\":0,\n",
    "            'weight':4,\n",
    "            'key':key,\n",
    "            'description':'False Positive'},\n",
    "        hover_style={'color':'blue'},\n",
    "    )\n",
    "    gjs.on_click(showPopup)\n",
    "    JSMap.add_layer(gjs)"
   ]
  },
  {
   "cell_type": "code",
   "execution_count": null,
   "id": "be18112c",
   "metadata": {},
   "outputs": [],
   "source": [
    "JSMap.clear_layers()\n",
    "#FALSE NEGATIVES\n",
    "for key in fnlist:\n",
    "    gjs=GeoJSON(\n",
    "        data=geojson.FeatureCollection([dl.scenes.DLTile.from_key(key).__geo_interface__]),\n",
    "        style={\"color\":\"orange\",\n",
    "            \"fillOpacity\":0,\n",
    "            'weight':4,\n",
    "            'key':key,\n",
    "            'description':'False Negative'},\n",
    "        hover_style={'color':'blue'},\n",
    "    )\n",
    "    gjs.on_click(showPopup)\n",
    "    JSMap.add_layer(gjs)"
   ]
  },
  {
   "cell_type": "code",
   "execution_count": null,
   "id": "6dbc3586",
   "metadata": {},
   "outputs": [],
   "source": [
    "JSMap.clear_layers()\n",
    "#TRUE POSITIVE\n",
    "for key in tplist:\n",
    "    gjs=GeoJSON(\n",
    "        data=geojson.FeatureCollection([dl.scenes.DLTile.from_key(key).__geo_interface__]),\n",
    "        style={\"color\":\"green\",\n",
    "            \"fillOpacity\":0,\n",
    "            'weight':4,\n",
    "            'key':key,\n",
    "            'description':'True Positive'},\n",
    "        hover_style={'color':'blue'},\n",
    "    )    \n",
    "    gjs.on_click(showPopup)\n",
    "    JSMap.add_layer(gjs)    "
   ]
  },
  {
   "cell_type": "code",
   "execution_count": null,
   "id": "90f217e9",
   "metadata": {},
   "outputs": [],
   "source": [
    "JSMap.clear_layers()\n",
    "for key in tnlist:\n",
    "    gjs=GeoJSON(\n",
    "        data=geojson.FeatureCollection([dl.scenes.DLTile.from_key(key).__geo_interface__]),\n",
    "        style={\"color\":\"yellow\",\n",
    "            \"fillOpacity\":0,\n",
    "            'weight':4,\n",
    "            'key':key,\n",
    "            'description':'True Negative'},\n",
    "        hover_style={'color':'blue'},\n",
    "    )    \n",
    "    gjs.on_click(showPopup)\n",
    "    JSMap.add_layer(gjs)"
   ]
  },
  {
   "cell_type": "code",
   "execution_count": null,
   "id": "b99a8a55",
   "metadata": {},
   "outputs": [],
   "source": [
    "JSMap"
   ]
  },
  {
   "cell_type": "code",
   "execution_count": null,
   "id": "873cea22",
   "metadata": {},
   "outputs": [],
   "source": [
    "print('hi')"
   ]
  }
 ],
 "metadata": {
  "kernelspec": {
   "display_name": "Python 3 (ipykernel)",
   "language": "python",
   "name": "python3"
  },
  "language_info": {
   "codemirror_mode": {
    "name": "ipython",
    "version": 3
   },
   "file_extension": ".py",
   "mimetype": "text/x-python",
   "name": "python",
   "nbconvert_exporter": "python",
   "pygments_lexer": "ipython3",
   "version": "3.7.12"
  }
 },
 "nbformat": 4,
 "nbformat_minor": 5
}
