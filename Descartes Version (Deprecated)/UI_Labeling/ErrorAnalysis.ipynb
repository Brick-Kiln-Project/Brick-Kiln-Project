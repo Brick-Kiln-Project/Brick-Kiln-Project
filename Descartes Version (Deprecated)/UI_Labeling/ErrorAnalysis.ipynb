{
 "cells": [
  {
   "cell_type": "code",
   "execution_count": 1,
   "id": "81f8c244",
   "metadata": {},
   "outputs": [
    {
     "name": "stderr",
     "output_type": "stream",
     "text": [
      "/opt/conda/lib/python3.7/site-packages/descarteslabs/_dl_modules/common/workflows/arrow_serialization/context.py:57: FutureWarning: 'pyarrow.SerializationContext' is deprecated and will be removed in a future version. Use pickle or the pyarrow IPC functionality instead.\n",
      "  serialization_context = pa.SerializationContext()\n",
      "/opt/conda/lib/python3.7/site-packages/descarteslabs/_dl_modules/common/workflows/arrow_serialization/context.py:58: FutureWarning: 'pyarrow.register_default_serialization_handlers' is deprecated as of 2.0.0 and will be removed in a future version. Use pickle or the pyarrow IPC functionality instead.\n",
      "  pa.register_default_serialization_handlers(serialization_context)\n"
     ]
    }
   ],
   "source": [
    "#Import relevant Classes and make matplotlib inline to avoid loading plots at runtime\n",
    "import descarteslabs as dl\n",
    "import descarteslabs.workflows as wf\n",
    "import config\n",
    "import pandas as pd\n",
    "import pickle as pkl\n",
    "from gzip import compress, decompress\n",
    "from descarteslabs import Storage, Auth"
   ]
  },
  {
   "cell_type": "code",
   "execution_count": 2,
   "id": "1ecdcbb2",
   "metadata": {},
   "outputs": [],
   "source": [
    "#Name of the current dataset, change as needed\n",
    "datasetName='high_sampledworried_kitten'"
   ]
  },
  {
   "cell_type": "code",
   "execution_count": 3,
   "id": "21737b94",
   "metadata": {},
   "outputs": [],
   "source": [
    "#Initiate Storage\n",
    "storage=Storage(auth=Auth(client_id=config.ID,client_secret=config.SECRET))\n",
    "confirmed=pkl.loads(decompress(storage.get(datasetName+'Confirmed')))\n",
    "denied=pkl.loads(decompress(storage.get(datasetName+'Denied')))"
   ]
  },
  {
   "cell_type": "code",
   "execution_count": 16,
   "id": "2265e3b5",
   "metadata": {},
   "outputs": [
    {
     "data": {
      "text/plain": [
       "\"\\ntotalDataset=pd.read_csv('../Predicted_Datasets/'+datasetName+'_results.csv').to_dict()\\ncountryCount={}\\ncountryMax={}\\nfor x in totalDataset['area']:\\n    if totalDataset['area'][x] in countryMax.keys():\\n        countryMax[totalDataset['area'][x]]+=1\\n    else:\\n        countryMax[totalDataset['area'][x]]=1\\n    \\nfor x in confirmed:\\n    idx=list(totalDataset['tile_key'].values()).index(str(x))\\n    country=totalDataset['area'][idx]\\n    if country in countryCount.keys():\\n        countryCount[country]+=1\\n    else:\\n        countryCount[country]=1\\n\\nfor x in countryCount.keys():\\n    print(x,countryCount[x],countryMax[x])\\n\""
      ]
     },
     "execution_count": 16,
     "metadata": {},
     "output_type": "execute_result"
    }
   ],
   "source": [
    "\"\"\"\n",
    "totalDataset=pd.read_csv('../Predicted_Datasets/'+datasetName+'_results.csv').to_dict()\n",
    "countryCount={}\n",
    "countryMax={}\n",
    "for x in totalDataset['area']:\n",
    "    if totalDataset['area'][x] in countryMax.keys():\n",
    "        countryMax[totalDataset['area'][x]]+=1\n",
    "    else:\n",
    "        countryMax[totalDataset['area'][x]]=1\n",
    "    \n",
    "for x in confirmed:\n",
    "    idx=list(totalDataset['tile_key'].values()).index(str(x))\n",
    "    country=totalDataset['area'][idx]\n",
    "    if country in countryCount.keys():\n",
    "        countryCount[country]+=1\n",
    "    else:\n",
    "        countryCount[country]=1\n",
    "\n",
    "for x in countryCount.keys():\n",
    "    print(x,countryCount[x],countryMax[x])\n",
    "\"\"\""
   ]
  },
  {
   "cell_type": "code",
   "execution_count": 17,
   "id": "9cc436a2",
   "metadata": {},
   "outputs": [
    {
     "data": {
      "text/plain": [
       "'\\ncount=0\\nwhile len(storage.list(prefix=datasetName))>1 and count <5:\\n    print(datasetName)\\n    count+=1\\n'"
      ]
     },
     "execution_count": 17,
     "metadata": {},
     "output_type": "execute_result"
    }
   ],
   "source": [
    "\"\"\"\n",
    "count=0\n",
    "while len(storage.list(prefix=datasetName))>1 and count <5:\n",
    "    print(datasetName)\n",
    "    count+=1\n",
    "\"\"\""
   ]
  },
  {
   "cell_type": "code",
   "execution_count": 18,
   "id": "d53f9836",
   "metadata": {},
   "outputs": [],
   "source": [
    "#Make a unified group list with each key\n",
    "totalGroups=[]\n",
    "for groupBatch in list(storage.list(datasetName+'Group'))[:]:\n",
    "    group=pkl.loads(decompress(storage.get(groupBatch)))\n",
    "    for idx in group:\n",
    "        totalGroups.extend(group[idx])"
   ]
  },
  {
   "cell_type": "code",
   "execution_count": 19,
   "id": "48aedcfb",
   "metadata": {},
   "outputs": [],
   "source": [
    "#Initiate the result dictionary\n",
    "totalDataset=pd.read_csv('../Predicted_Datasets/'+datasetName+'_results.csv').to_dict()"
   ]
  },
  {
   "cell_type": "code",
   "execution_count": 20,
   "id": "9af03f8a",
   "metadata": {},
   "outputs": [],
   "source": [
    "#Create a predictions dict with key:prediction pairs\n",
    "confirmedPred=[key for key in totalGroups if totalDataset['prediction'][list(totalDataset['tile_key'].values()).index(key)] >= .999]\n",
    "deniedPred=[key for key in totalGroups if totalDataset['prediction'][list(totalDataset['tile_key'].values()).index(key)] < .999]\n",
    "userConfirmed=[key for key in confirmed if key in totalGroups]\n",
    "userDenied=[key for key in denied if key in totalGroups]"
   ]
  },
  {
   "cell_type": "code",
   "execution_count": 21,
   "id": "c03da921",
   "metadata": {},
   "outputs": [
    {
     "name": "stdout",
     "output_type": "stream",
     "text": [
      "1100\n",
      "1100\n",
      "1048\n",
      "52\n",
      "1100\n"
     ]
    }
   ],
   "source": [
    "print(len(totalGroups))\n",
    "print(len(confirmedPred)+len(deniedPred))\n",
    "print(len(userDenied))\n",
    "print(len(userConfirmed))\n",
    "print(len(userDenied)+len(userConfirmed))"
   ]
  },
  {
   "cell_type": "code",
   "execution_count": 22,
   "id": "243c6758",
   "metadata": {},
   "outputs": [
    {
     "name": "stdout",
     "output_type": "stream",
     "text": [
      "False Positive: 0.6526717557251909 Len: 684\n",
      "True Positive: 0.7115384615384616 Len: 37\n",
      "False Negative: 0.28846153846153844 Len: 15\n",
      "True Negative: 0.3473282442748092 Len: 364\n",
      "Precision: 0.05131761442441054\n",
      "Recall: 0.7115384615384616\n"
     ]
    }
   ],
   "source": [
    "#Do Error Analysis!\n",
    "fplist=[key for key in confirmedPred if key not in userConfirmed]\n",
    "tplist=[key for key in confirmedPred if key in userConfirmed]\n",
    "fnlist=[key for key in deniedPred if key not in userDenied]\n",
    "tnlist=[key for key in deniedPred if key in userDenied]\n",
    "fp=len(fplist)/(len(fplist)+len(tnlist))\n",
    "tp=len(tplist)/(len(tplist)+len(fnlist))\n",
    "fn=len(fnlist)/(len(fnlist)+len(tplist))\n",
    "tn=len(tnlist)/(len(tnlist)+len(fplist))\n",
    "p=len(tplist)/(len(tplist)+len(fplist))\n",
    "r=len(tplist)/(len(tplist)+len(fnlist))\n",
    "print('False Positive:',fp,'Len:',len(fplist))\n",
    "print('True Positive:',tp,'Len:',len(tplist))\n",
    "print('False Negative:',fn,'Len:',len(fnlist))\n",
    "print('True Negative:',tn,'Len:',len(tnlist))\n",
    "print('Precision:',p)\n",
    "print('Recall:',r)"
   ]
  },
  {
   "cell_type": "code",
   "execution_count": null,
   "id": "914a2873",
   "metadata": {},
   "outputs": [],
   "source": []
  }
 ],
 "metadata": {
  "kernelspec": {
   "display_name": "Python 3 (ipykernel)",
   "language": "python",
   "name": "python3"
  },
  "language_info": {
   "codemirror_mode": {
    "name": "ipython",
    "version": 3
   },
   "file_extension": ".py",
   "mimetype": "text/x-python",
   "name": "python",
   "nbconvert_exporter": "python",
   "pygments_lexer": "ipython3",
   "version": "3.7.12"
  }
 },
 "nbformat": 4,
 "nbformat_minor": 5
}
