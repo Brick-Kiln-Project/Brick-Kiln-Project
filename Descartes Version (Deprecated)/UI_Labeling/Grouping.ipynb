{
 "cells": [
  {
   "cell_type": "markdown",
   "id": "5725b63b",
   "metadata": {},
   "source": [
    "## Initialize Main Function and Global Variables"
   ]
  },
  {
   "cell_type": "code",
   "execution_count": 1,
   "id": "f6bc5fea",
   "metadata": {},
   "outputs": [
    {
     "name": "stderr",
     "output_type": "stream",
     "text": [
      "/opt/conda/lib/python3.7/site-packages/descarteslabs/_dl_modules/common/workflows/arrow_serialization/context.py:57: FutureWarning: 'pyarrow.SerializationContext' is deprecated and will be removed in a future version. Use pickle or the pyarrow IPC functionality instead.\n",
      "  serialization_context = pa.SerializationContext()\n",
      "/opt/conda/lib/python3.7/site-packages/descarteslabs/_dl_modules/common/workflows/arrow_serialization/context.py:58: FutureWarning: 'pyarrow.register_default_serialization_handlers' is deprecated as of 2.0.0 and will be removed in a future version. Use pickle or the pyarrow IPC functionality instead.\n",
      "  pa.register_default_serialization_handlers(serialization_context)\n"
     ]
    },
    {
     "name": "stdout",
     "output_type": "stream",
     "text": [
      "Looking in indexes: https://pypi.org/simple, https://packagecloud.io/github/git-lfs/pypi/simple\n",
      "Requirement already satisfied: kneed in /opt/conda/lib/python3.7/site-packages (0.8.1)\n",
      "Requirement already satisfied: scipy>=1.0.0 in /opt/conda/lib/python3.7/site-packages (from kneed) (1.7.3)\n",
      "Requirement already satisfied: numpy>=1.14.2 in /opt/conda/lib/python3.7/site-packages (from kneed) (1.21.6)\n"
     ]
    }
   ],
   "source": [
    "#Import relevant Classes!\n",
    "import descarteslabs as dl\n",
    "import descarteslabs.workflows as wf\n",
    "import numpy as np\n",
    "import copy\n",
    "import math\n",
    "import matplotlib.pyplot as plt\n",
    "import pandas as pd\n",
    "import pickle as pkl\n",
    "import config\n",
    "from gzip import compress, decompress\n",
    "from descarteslabs import Storage,Auth\n",
    "from descarteslabs.workflows.models.exceptions import JobTimeoutError\n",
    "from multiprocessing.pool import ThreadPool\n",
    "from descarteslabs.scenes import AOI\n",
    "from keras.applications.vgg16 import VGG16\n",
    "from keras.applications.vgg16 import preprocess_input \n",
    "from keras.models import Model\n",
    "from sklearn.cluster import KMeans\n",
    "from sklearn.decomposition import IncrementalPCA\n",
    "import sys\n",
    "!{sys.executable} -m pip install kneed\n",
    "from kneed import KneeLocator\n",
    "from shapely.wkt import loads\n",
    "import random\n",
    "from tqdm.notebook import tqdm\n",
    "sys.path.append('../Predicted_Datasets/')"
   ]
  },
  {
   "cell_type": "code",
   "execution_count": 2,
   "id": "7c279603",
   "metadata": {},
   "outputs": [],
   "source": [
    "#Set a number of global parameters for the entire form, edit this to specifications\n",
    "#Size of input image for the vggmodel initialization\n",
    "LOWIMGSHAPE=64\n",
    "#Number of images to be put into the Kmeans algorithm.  Active memory limited to 2500 with a pair of 64*64*3 and 640*640*3 satellite images and a feature set of 2*2*512, test or adjust at will\n",
    "BATCHSIZE=2250\n",
    "#Maximum number of groups to separate images into during the kmeans step.  Usually between 5-10 but this depends on input image and the feature extraction process, test or adjust at will \n",
    "KMEANSSIZE=50\n",
    "#Time alloted for satellite image query in seconds. Increase or decrease at will, recommended to ensure a timeout to prevent lockout during the threadpooling.\n",
    "TIMEOUT=420\n",
    "#Name of the current dataset, change as needed\n",
    "datasetName='updatedModel_state_sampled_happy_cow'"
   ]
  },
  {
   "cell_type": "code",
   "execution_count": 3,
   "id": "5ed81b5f",
   "metadata": {},
   "outputs": [
    {
     "data": {
      "text/plain": [
       "'\\nThe initiate model is a function that takes a set of descartelabs geospatial keys and queries the s2 and ab satellites for a low and high resolution image\\nusing threadpooling and consequently extracts features from the lower resolution image using the keras VGG model.  The images are then saved into a descarteslabs\\nstorage as gzip compressed pickle dumps and the features are then passed onto a PCA, optimizing on number of features before being passed onto a KMeans clustering\\nwhich optimizes over the number of clusters and finally creating a gzip pickle dumped dictionary of groupings with keys as values into the storage item.\\n\\nINPUT\\n    randomKeyPairs->\\n        list[...,string(),string(),string(),...]\\n        Takes as input a list of strings representing descarteslabs keys, incorrect keys or initialization is not tested\\n    batch->\\n        int()\\n        Takes as input an integer representing the current batch this randomKeyPairs represents in the dataset, serves to name the storage objects to keep track of\\n        the current dictionary.  Repeated use of the same batch integer results in overwriting existing datasets, ensure the datasetName is accurate and the batch\\n        correct or previous data is not important.\\nRETURNS\\n    None\\n        Has no return but does save onto an initialized descartes labs storage object three gzip compressed pickle dumped dictionaries.\\n           -datasetName+\\'GroupBatch\\'+str(batch) -> ex \\'worried_puppyGroupBatch0\\'\\n            Represents the key to a dictionary that has stringified integers as keys for lists of string descarteslabs keys\\n                dict{\\n                    ...,\\n                    string(int()):list[...,string(),string(),string()...],\\n                    string(int()):list[...,string(),string(),string()...],\\n                    ...\\n                }\\n           -datasetName+\\'HrBatch\\'+str(batch) -> ex \\'worried_puppyHrBatch0\\'\\n            Represnts the key to a dictionary that has string descarteslabs keys as keys and numpy ndarrays, of a shape dictated by the satellite initiated,\\n            with UINT8 values ranging from (0-255)\\n                dict{\\n                    ...,\\n                    string():numpy.ndarray[],\\n                    string():numpy.ndarray[],\\n                    ...\\n                }\\n           -datasetName+\\'LrBatch\\'+str(batch) -> ex \\'worried_puppyLrBatch0\\'\\n            Identical to the HrBatch dictionary but filled with the lower resolution images\\nWORKFLOW\\n   -Create empty pair of dictionaries for High and Low Resolution Images intialized to each descarteslabs Key provided in randomKeyPairs with None\\n   -Initiate VGG model with input shape as defined in the globals above, and pair of satellites ab and s2 with RGB bands\\n   -Separate the randomKeyPairs dictionary into 20 batches and feed those groupings to the gethrimage function and iterate through them to display progress between\\n    threadpooling\\n       -gethrimage-Create a DLTile from the key provided and attempt to obtain a 0-255 ndarray representation of the High and Low resolution images and then saving \\n        those to their respective dictionaries.  Finally, pass the lower resolution image to the extract features function and save the features to a dictionary.\\n        Images that fail to load in the alloted TIMEOUT time or return a None type ndarray are skipped and continue to be None in both their dictionaries\\n           -extract_features-Reshape the image ndarray to (1,64,64,3) and use the preprocess_input function of the keras model and pass that through the initialized\\n            VGG16 model, returning the features in shape (2,2,512).\\n   -Save the dictionaries as compressed gzip pickle dumped bytes under the above names and clear the dictionaries to save some active memory\\n   -Pass and reshape the features (numSuccessfulKeys,2048) stored in data to the PCA and optimize using the value of features with the highest sequential variance\\n    difference.  Run the PCA one more time using that value and extract the shortened feature list and clear the original feature list.\\n   -Iterate through KMEANSSIZE number of Kmeans algorithm groupings to obtain the inertia values of the PCA shortened feature set optimized into x groups.  Use kneed\\n    to locate the best number of groupings to intialize for this dataset and run one more Kmeans algorithm at that value.\\n   -Create the grouping dictionary setting each key to its respective Kmeans grouping and upload its gzip compressed pickle dumped bytes to the storage object\\nKNOWN_ISSUES\\n   -This function is highly limited by active memory size since each high resolution image is 10x the size of the low res image and storing these in dictionaries is\\n    memory intensive, more optimal ways of storing these images would be beneficial\\n   -The acquisition of images from the Tiles has several known issues:\\n       -For some reason, certain specific images are known to never actively return anything from the compute function, keeping the thread locked for all eternity.\\n        This is currently solved using a TIMEOUT value during the compute process to early terminate the thread but this:\\n           -Cuts off images that would otherwise normally terminate and return an actual image\\n           -Creates issues with descartelabs satellites being momentarily down or images being put in the QUEUE system which would eventually actually run\\n       -Certain keys are known to return None type values in the ndarray section of the ImageResult which must be individually tested with it\\'s high or low resolution\\n        companion to ensure proper storage and avoid clashing during the labeling step of the process.  This might be due to no available images being created using\\n        the specified satellite parameters but it\\'s not clear, investigate at will but not actively detrimental with larger datasets\\n       -Certain keys are known to return half-loaded/cut-off images for the higher resolution, often leaving a large black void in the bottom of the image, no known\\n        solution or understanding why given the completeness of low resolution images\\n   -Sheer size of feature sets have been known to highly limit the active memory allowed crashing the kernel.  Currently solved by actively erasing and clearing\\n    unecessary dictionaries and data structures as well as, and most importantly, using the lower resolution images for the VGG model.  This can be limiting for the \\n    feature extraction step and may not give fantastic grouping results for the Kmeans algorithm, further testing and may be necessary to better fit the data.\\n   -This function is incredibly time intensive, taking about an hour and some change to run through a 2500 batch of keys.  The issue arises from descartes workflows\\n    limiting the time a given job is allowed to run and on larger datasets creating unexpected stopping points.  Additionally, on occasion extra kernels are known to\\n    crash this kernel and create unexpected stopping points.  This is currently offset by manually restarting from the last batch during initialization but can create\\n    large wastes of time if the program is not supervised.\\n   -Memory shortages are also known to create crashes but the current parameters are known to work indefinitely, any changes should be noted and balanced alongside\\n    each other to ensure \"smooth\" usage.\\n   -It has been confirmed that descarteslabs limits the size and number of entries allowed in its storage.  The maximal size of an entry is not known but has resulted\\n    in using compression to ensure proper size limitations which may change given the data\\'s compressionability and the size of the data.  Under current parameters no\\n    issues are known but altering values may result in meeting these limits.  Additionally descarteslabs storage has an entry limit of 1000 and with 3 entries being\\n    created per batch, it should be known that currently the storage will run out in 333 batches in a clear storage and likely less if other values/factors are being\\n    stored in there.  This should also be known if the batchsize is altered and to ensure a proper accumulation of data.  That is to say clear the storage on occassion\\n    or use some other form of data storage and beware any changes made here.\\n'"
      ]
     },
     "execution_count": 3,
     "metadata": {},
     "output_type": "execute_result"
    }
   ],
   "source": [
    "\"\"\"\n",
    "The initiate model is a function that takes a set of descartelabs geospatial keys and queries the s2 and ab satellites for a low and high resolution image\n",
    "using threadpooling and consequently extracts features from the lower resolution image using the keras VGG model.  The images are then saved into a descarteslabs\n",
    "storage as gzip compressed pickle dumps and the features are then passed onto a PCA, optimizing on number of features before being passed onto a KMeans clustering\n",
    "which optimizes over the number of clusters and finally creating a gzip pickle dumped dictionary of groupings with keys as values into the storage item.\n",
    "\n",
    "INPUT\n",
    "    randomKeyPairs->\n",
    "        list[...,string(),string(),string(),...]\n",
    "        Takes as input a list of strings representing descarteslabs keys, incorrect keys or initialization is not tested\n",
    "    batch->\n",
    "        int()\n",
    "        Takes as input an integer representing the current batch this randomKeyPairs represents in the dataset, serves to name the storage objects to keep track of\n",
    "        the current dictionary.  Repeated use of the same batch integer results in overwriting existing datasets, ensure the datasetName is accurate and the batch\n",
    "        correct or previous data is not important.\n",
    "RETURNS\n",
    "    None\n",
    "        Has no return but does save onto an initialized descartes labs storage object three gzip compressed pickle dumped dictionaries.\n",
    "           -datasetName+'GroupBatch'+str(batch) -> ex 'worried_puppyGroupBatch0'\n",
    "            Represents the key to a dictionary that has stringified integers as keys for lists of string descarteslabs keys\n",
    "                dict{\n",
    "                    ...,\n",
    "                    string(int()):list[...,string(),string(),string()...],\n",
    "                    string(int()):list[...,string(),string(),string()...],\n",
    "                    ...\n",
    "                }\n",
    "           -datasetName+'HrBatch'+str(batch) -> ex 'worried_puppyHrBatch0'\n",
    "            Represnts the key to a dictionary that has string descarteslabs keys as keys and numpy ndarrays, of a shape dictated by the satellite initiated,\n",
    "            with UINT8 values ranging from (0-255)\n",
    "                dict{\n",
    "                    ...,\n",
    "                    string():numpy.ndarray[],\n",
    "                    string():numpy.ndarray[],\n",
    "                    ...\n",
    "                }\n",
    "           -datasetName+'LrBatch'+str(batch) -> ex 'worried_puppyLrBatch0'\n",
    "            Identical to the HrBatch dictionary but filled with the lower resolution images\n",
    "WORKFLOW\n",
    "   -Create empty pair of dictionaries for High and Low Resolution Images intialized to each descarteslabs Key provided in randomKeyPairs with None\n",
    "   -Initiate VGG model with input shape as defined in the globals above, and pair of satellites ab and s2 with RGB bands\n",
    "   -Separate the randomKeyPairs dictionary into 20 batches and feed those groupings to the gethrimage function and iterate through them to display progress between\n",
    "    threadpooling\n",
    "       -gethrimage-Create a DLTile from the key provided and attempt to obtain a 0-255 ndarray representation of the High and Low resolution images and then saving \n",
    "        those to their respective dictionaries.  Finally, pass the lower resolution image to the extract features function and save the features to a dictionary.\n",
    "        Images that fail to load in the alloted TIMEOUT time or return a None type ndarray are skipped and continue to be None in both their dictionaries\n",
    "           -extract_features-Reshape the image ndarray to (1,64,64,3) and use the preprocess_input function of the keras model and pass that through the initialized\n",
    "            VGG16 model, returning the features in shape (2,2,512).\n",
    "   -Save the dictionaries as compressed gzip pickle dumped bytes under the above names and clear the dictionaries to save some active memory\n",
    "   -Pass and reshape the features (numSuccessfulKeys,2048) stored in data to the PCA and optimize using the value of features with the highest sequential variance\n",
    "    difference.  Run the PCA one more time using that value and extract the shortened feature list and clear the original feature list.\n",
    "   -Iterate through KMEANSSIZE number of Kmeans algorithm groupings to obtain the inertia values of the PCA shortened feature set optimized into x groups.  Use kneed\n",
    "    to locate the best number of groupings to intialize for this dataset and run one more Kmeans algorithm at that value.\n",
    "   -Create the grouping dictionary setting each key to its respective Kmeans grouping and upload its gzip compressed pickle dumped bytes to the storage object\n",
    "KNOWN_ISSUES\n",
    "   -This function is highly limited by active memory size since each high resolution image is 10x the size of the low res image and storing these in dictionaries is\n",
    "    memory intensive, more optimal ways of storing these images would be beneficial\n",
    "   -The acquisition of images from the Tiles has several known issues:\n",
    "       -For some reason, certain specific images are known to never actively return anything from the compute function, keeping the thread locked for all eternity.\n",
    "        This is currently solved using a TIMEOUT value during the compute process to early terminate the thread but this:\n",
    "           -Cuts off images that would otherwise normally terminate and return an actual image\n",
    "           -Creates issues with descartelabs satellites being momentarily down or images being put in the QUEUE system which would eventually actually run\n",
    "       -Certain keys are known to return None type values in the ndarray section of the ImageResult which must be individually tested with it's high or low resolution\n",
    "        companion to ensure proper storage and avoid clashing during the labeling step of the process.  This might be due to no available images being created using\n",
    "        the specified satellite parameters but it's not clear, investigate at will but not actively detrimental with larger datasets\n",
    "       -Certain keys are known to return half-loaded/cut-off images for the higher resolution, often leaving a large black void in the bottom of the image, no known\n",
    "        solution or understanding why given the completeness of low resolution images\n",
    "   -Sheer size of feature sets have been known to highly limit the active memory allowed crashing the kernel.  Currently solved by actively erasing and clearing\n",
    "    unecessary dictionaries and data structures as well as, and most importantly, using the lower resolution images for the VGG model.  This can be limiting for the \n",
    "    feature extraction step and may not give fantastic grouping results for the Kmeans algorithm, further testing and may be necessary to better fit the data.\n",
    "   -This function is incredibly time intensive, taking about an hour and some change to run through a 2500 batch of keys.  The issue arises from descartes workflows\n",
    "    limiting the time a given job is allowed to run and on larger datasets creating unexpected stopping points.  Additionally, on occasion extra kernels are known to\n",
    "    crash this kernel and create unexpected stopping points.  This is currently offset by manually restarting from the last batch during initialization but can create\n",
    "    large wastes of time if the program is not supervised.\n",
    "   -Memory shortages are also known to create crashes but the current parameters are known to work indefinitely, any changes should be noted and balanced alongside\n",
    "    each other to ensure \"smooth\" usage.\n",
    "   -It has been confirmed that descarteslabs limits the size and number of entries allowed in its storage.  The maximal size of an entry is not known but has resulted\n",
    "    in using compression to ensure proper size limitations which may change given the data's compressionability and the size of the data.  Under current parameters no\n",
    "    issues are known but altering values may result in meeting these limits.  Additionally descarteslabs storage has an entry limit of 1000 and with 3 entries being\n",
    "    created per batch, it should be known that currently the storage will run out in 333 batches in a clear storage and likely less if other values/factors are being\n",
    "    stored in there.  This should also be known if the batchsize is altered and to ensure a proper accumulation of data.  That is to say clear the storage on occassion\n",
    "    or use some other form of data storage and beware any changes made here.\n",
    "\"\"\""
   ]
  },
  {
   "cell_type": "code",
   "execution_count": 4,
   "id": "ab850a58",
   "metadata": {},
   "outputs": [],
   "source": [
    "def InitiateModel(randomKeyPairs,batch):\n",
    "    #Initialize image dictionaries with keys and None\n",
    "    randomKeyImageDict={}\n",
    "    data={}\n",
    "    for x in randomKeyPairs:\n",
    "        randomKeyImageDict[x]=None\n",
    "    randomKeyHrImgDict=copy.deepcopy(randomKeyImageDict)\n",
    "    \n",
    "    #create VGGmodel\n",
    "    model = VGG16(include_top=False,input_shape=(LOWIMGSHAPE,LOWIMGSHAPE,3))\n",
    "    model = Model(inputs = model.inputs, outputs = model.layers[-1].output)\n",
    "    \n",
    "    #Create extract_features function which takes the image and retrieves features from the vgg model\n",
    "    def extract_features(img):\n",
    "        img=np.swapaxes(img,0,2)\n",
    "        reshaped_img=img.reshape(1,LOWIMGSHAPE,LOWIMGSHAPE,3)\n",
    "        copied=copy.deepcopy(reshaped_img)\n",
    "        imgx=preprocess_input(copied)\n",
    "        features=model.predict(imgx,use_multiprocessing=True,verbose=0)\n",
    "        return features\n",
    "    \n",
    "    #Create gethrimage function which tries to obtain the satellite imagery of s2 and ab as uint8 arrays scaled to 0-255 for future plts, limited to TIMEOUT time in seconds.\n",
    "    def gethrimage(keyPair):\n",
    "        tileKey2=keyPair\n",
    "        tile_area2=dl.scenes.DLTile.from_key(tileKey2)\n",
    "        try:\n",
    "            img_data=s2_bands.scale_values(0,255).compute(tile_area2,progress_bar=False,timeout=TIMEOUT)\n",
    "        except JobTimeoutError:\n",
    "            print('Low Res Time Out, key:',tileKey2)\n",
    "            return\n",
    "        aoi = AOI(tile_area2.geometry,resolution=1,crs=tile_area2.crs)\n",
    "        try:\n",
    "            img_data2=ab_bands.scale_values(0,255).compute(aoi,progress_bar=False,timeout=TIMEOUT)\n",
    "        except JobTimeoutError:\n",
    "            print('High Res Time Out, key:',tileKey2)\n",
    "            return\n",
    "        if (img_data is not None and img_data2 is not None):\n",
    "            if (img_data.ndarray is not None and img_data2.ndarray is not None):\n",
    "                randomKeyImageDict[tileKey2]=img_data.ndarray.astype('uint8').data\n",
    "                randomKeyHrImgDict[tileKey2]=img_data2.ndarray.astype('uint8').data\n",
    "                data[tileKey2]=extract_features(img_data.ndarray.data)\n",
    "\n",
    "    #Initialize satellites\n",
    "    bands = \"red green blue\"\n",
    "\n",
    "    s2=wf.ImageCollection.from_id(\n",
    "        \"esa:sentinel-2:l2a:v1\",\n",
    "        start_datetime='2018-11-01',\n",
    "        end_datetime='2019-03-01',\n",
    "    )\n",
    "\n",
    "    s2_bands = s2.pick_bands(bands)\n",
    "    s2_bands = s2_bands.filter(lambda img: img.properties[\"cloud_fraction\"]<0.1)\n",
    "    s2_bands = s2_bands.median(axis=\"images\")\n",
    "    \n",
    "    ab=wf.ImageCollection.from_id(\n",
    "        \"airbus:oneatlas:spot:v2\",\n",
    "        start_datetime='2018-11-01',\n",
    "        end_datetime='2020-03-01',\n",
    "    )\n",
    "\n",
    "    ab_bands = ab.pick_bands(bands)\n",
    "    ab_bands = ab_bands.filter(lambda img: img.properties[\"cloud_fraction\"]<0.1)\n",
    "    ab_bands = ab_bands.median(axis=\"images\")\n",
    "\n",
    "\n",
    "    #Get all of the low res images using some threadpooling and extract features from the VGG model\n",
    "    print('Getting Images!') \n",
    "    with ThreadPool(processes=64) as pool:\n",
    "        with tqdm(total=len(randomKeyPairs)) as pbar:\n",
    "            for _ in pool.imap_unordered(gethrimage, randomKeyPairs):\n",
    "                pbar.update()\n",
    "    print('Done!')\n",
    "    \n",
    "    #Upload the batch of images to the storage for later retrieval and clear the dictionaries\n",
    "    print('Saving Image Dicts to Storage!')\n",
    "    storage.set(datasetName+'LrBatch'+str(batch),compress(pkl.dumps(randomKeyImageDict)))\n",
    "    storage.set(datasetName+'HrBatch'+str(batch),compress(pkl.dumps(randomKeyHrImgDict)))\n",
    "    randomKeyImageDict.clear()\n",
    "    randomKeyHrImgDict.clear()\n",
    "            \n",
    "    #initiate and run kmeans on a transformed feature set\n",
    "    feat = np.array(list(data.values()))\n",
    "    feat = feat.reshape(-1,2048)\n",
    "\n",
    "    #Optimize the number of reduced features for groupings and run a final time on the most optimal\n",
    "    print(\"Optimizing Features\")\n",
    "    pca = IncrementalPCA(n_components=20,batch_size=20)\n",
    "    pca.fit(feat)\n",
    "    varianceDiff = [x - pca.explained_variance_ratio_[i - 1] for i, x in enumerate(pca.explained_variance_ratio_)][1:]\n",
    "    minVarianceIndex=varianceDiff.index(min(varianceDiff))+1\n",
    "\n",
    "    pca = IncrementalPCA(n_components=minVarianceIndex,batch_size=20)\n",
    "    pca.fit(feat)\n",
    "    \n",
    "    x=pca.transform(feat)\n",
    "    feat=[]\n",
    "    inertia=[]\n",
    "    \n",
    "    #Optimize Kmeans grouping by running it over a range of groups and run a final time on the most optimal\n",
    "    print(\"Optimizing clusters\")\n",
    "    for y in range(1,KMEANSSIZE):\n",
    "        kmeans=KMeans(n_clusters=y)\n",
    "        kmeans.fit(x)\n",
    "        inertia.append(kmeans.inertia_)\n",
    "        \n",
    "    plt.plot(range(1,KMEANSSIZE),inertia,'-o',color='black')\n",
    "    \n",
    "    kl = KneeLocator(range(1,KMEANSSIZE), inertia,direction='decreasing', curve=\"convex\")\n",
    "    kl.plot_knee()\n",
    "    \n",
    "    kmeans=KMeans(n_clusters=kl.knee)\n",
    "    kmeans.fit(x)\n",
    "    \n",
    "    \n",
    "    #Create Cluster Groups from KMeans results\n",
    "    print(\"Creating groups!\")\n",
    "    groups={}\n",
    "    for key, cluster in zip(np.array(list(data.keys())),kmeans.labels_):\n",
    "        if str(cluster) not in groups.keys():\n",
    "            groups[str(cluster)]=[]\n",
    "            groups[str(cluster)].append(key)\n",
    "        else:\n",
    "            groups[str(cluster)].append(key)\n",
    "    \n",
    "    #Upload the final grouping of the batch\n",
    "    print(\"Uploading Batched Group to Storage!\")\n",
    "    storage.set(datasetName+'GroupBatch'+str(batch),compress(pkl.dumps(groups)))\n"
   ]
  },
  {
   "cell_type": "markdown",
   "id": "56acd2bd",
   "metadata": {},
   "source": [
    "## Look over these next cells and edit/change or initialize any necessary values"
   ]
  },
  {
   "cell_type": "code",
   "execution_count": 5,
   "id": "3c209e42",
   "metadata": {},
   "outputs": [],
   "source": [
    "#Initialize storage, \n",
    "storage=Storage(auth=Auth(client_id=config.ID,client_secret=config.SECRET))"
   ]
  },
  {
   "cell_type": "code",
   "execution_count": 6,
   "id": "8147d0d8",
   "metadata": {},
   "outputs": [],
   "source": [
    "#Load model results and separate the test set\n",
    "totalDataset=pd.read_csv('../Predicted_Datasets/'+datasetName+'_results.csv').to_dict()\n",
    "randomKeyPairs=[]\n",
    "for predictionKey in totalDataset['prediction']:\n",
    "    randomKeyPairs.append(totalDataset['tile_key'][predictionKey])\n",
    "random.shuffle(randomKeyPairs)\n",
    "totalDataset.clear()"
   ]
  },
  {
   "cell_type": "code",
   "execution_count": 7,
   "id": "66e5a071",
   "metadata": {},
   "outputs": [],
   "source": [
    "#Create number of batches by set BATCHSIZE\n",
    "batches = math.ceil(len(randomKeyPairs)/BATCHSIZE)"
   ]
  },
  {
   "cell_type": "markdown",
   "id": "b38fe778",
   "metadata": {},
   "source": [
    "## !!!\n",
    "## BEWARE RUNNING THE NEXT CELL WILL OVERWRITE EXISTING DATA IN STORAGE WITH THE SAME DATANAME, ENSURE THE:\n",
    "## DATANAME GLOBAL ABOVE IS ACCURATE\n",
    "## THE INFORMATION THERE IS NOT NECESSARY\n",
    "## REDUNDANCIES EXIST\n",
    "## THE BATCHES ARE STARTING FROM THE NEXT UNSAVED POINT\n",
    "## !!!"
   ]
  },
  {
   "cell_type": "code",
   "execution_count": 8,
   "id": "1fcfa6ce",
   "metadata": {},
   "outputs": [
    {
     "name": "stdout",
     "output_type": "stream",
     "text": [
      "Batch # 0  of  0 \n",
      "\n",
      "\n"
     ]
    },
    {
     "name": "stderr",
     "output_type": "stream",
     "text": [
      "2022-08-19 01:09:27.151722: W tensorflow/stream_executor/platform/default/dso_loader.cc:64] Could not load dynamic library 'libcuda.so.1'; dlerror: libcuda.so.1: cannot open shared object file: No such file or directory; LD_LIBRARY_PATH: /usr/local/nvidia/lib64/\n",
      "2022-08-19 01:09:27.151776: W tensorflow/stream_executor/cuda/cuda_driver.cc:269] failed call to cuInit: UNKNOWN ERROR (303)\n",
      "2022-08-19 01:09:27.151803: I tensorflow/stream_executor/cuda/cuda_diagnostics.cc:156] kernel driver does not appear to be running on this host (jupyter-juan-2esosa76880-40gmail-2ecom): /proc/driver/nvidia/version does not exist\n",
      "2022-08-19 01:09:27.152105: I tensorflow/core/platform/cpu_feature_guard.cc:193] This TensorFlow binary is optimized with oneAPI Deep Neural Network Library (oneDNN) to use the following CPU instructions in performance-critical operations:  AVX2 AVX512F FMA\n",
      "To enable them in other operations, rebuild TensorFlow with the appropriate compiler flags.\n"
     ]
    },
    {
     "name": "stdout",
     "output_type": "stream",
     "text": [
      "Getting Images!\n"
     ]
    },
    {
     "data": {
      "application/vnd.jupyter.widget-view+json": {
       "model_id": "2aef84e8fe2c4ac783344f51c13ea288",
       "version_major": 2,
       "version_minor": 0
      },
      "text/plain": [
       "  0%|          | 0/604 [00:00<?, ?it/s]"
      ]
     },
     "metadata": {},
     "output_type": "display_data"
    },
    {
     "name": "stderr",
     "output_type": "stream",
     "text": [
      "/opt/conda/lib/python3.7/site-packages/descarteslabs/_dl_modules/workflows/models/job.py:376: FutureWarning: 'pyarrow.deserialize' is deprecated as of 2.0.0 and will be removed in a future version. Use pickle or the pyarrow IPC functionality instead.\n",
      "  return handler(self)\n"
     ]
    },
    {
     "name": "stdout",
     "output_type": "stream",
     "text": [
      "Done!\n",
      "Saving Image Dicts to Storage!\n",
      "Optimizing Features\n"
     ]
    },
    {
     "name": "stderr",
     "output_type": "stream",
     "text": [
      "/opt/conda/lib/python3.7/site-packages/sklearn/decomposition/_incremental_pca.py:316: RuntimeWarning: Mean of empty slice.\n",
      "  explained_variance[self.n_components_:].mean()\n",
      "/opt/conda/lib/python3.7/site-packages/numpy/core/_methods.py:189: RuntimeWarning: invalid value encountered in true_divide\n",
      "  ret = ret.dtype.type(ret / rcount)\n"
     ]
    },
    {
     "name": "stdout",
     "output_type": "stream",
     "text": [
      "Optimizing clusters\n",
      "Creating groups!\n",
      "Uploading Batched Group to Storage!\n"
     ]
    },
    {
     "data": {
      "image/png": "[encoded data removed]",
      "text/plain": [
       "<Figure size 432x288 with 1 Axes>"
      ]
     },
     "metadata": {
      "needs_background": "light"
     },
     "output_type": "display_data"
    },
    {
     "data": {
      "image/png": "[encoded data removed]",
      "text/plain": [
       "<Figure size 432x432 with 1 Axes>"
      ]
     },
     "metadata": {
      "needs_background": "light"
     },
     "output_type": "display_data"
    }
   ],
   "source": [
    "#Iterate through each batch of BATCHSIZE and Initiate and upload the groupings\n",
    "for batch in range(0,batches):\n",
    "    print(\"Batch #\",batch,\" of \", batches-1, \"\\n\\n\")\n",
    "    InitiateModel(randomKeyPairs[batch*BATCHSIZE:(batch+1)*BATCHSIZE],batch)"
   ]
  },
  {
   "cell_type": "code",
   "execution_count": 9,
   "id": "7aa0684e",
   "metadata": {},
   "outputs": [
    {
     "name": "stdout",
     "output_type": "stream",
     "text": [
      "['updatedModel_state_sampled_happy_cowGroupBatch0', 'updatedModel_state_sampled_happy_cowHrBatch0', 'updatedModel_state_sampled_happy_cowLrBatch0']\n"
     ]
    }
   ],
   "source": [
    "#Confirm uploads\n",
    "print(storage.list(datasetName))"
   ]
  },
  {
   "cell_type": "code",
   "execution_count": 10,
   "id": "611a5b08",
   "metadata": {},
   "outputs": [
    {
     "name": "stdout",
     "output_type": "stream",
     "text": [
      "1453\n"
     ]
    }
   ],
   "source": [
    "\"\"\"\n",
    "b=0\n",
    "check = pkl.loads(decompress(storage.get('high_sampledworried_puppyGroupBatch2')))\n",
    "for a in check:\n",
    "    b+=len(check[a])\n",
    "print(b)\n",
    "#\"\"\""
   ]
  },
  {
   "cell_type": "code",
   "execution_count": 11,
   "id": "2c169037",
   "metadata": {},
   "outputs": [
    {
     "name": "stdout",
     "output_type": "stream",
     "text": [
      "hi\n"
     ]
    }
   ],
   "source": [
    "print('hi')"
   ]
  }
 ],
 "metadata": {
  "kernelspec": {
   "display_name": "Python 3 (ipykernel)",
   "language": "python",
   "name": "python3"
  },
  "language_info": {
   "codemirror_mode": {
    "name": "ipython",
    "version": 3
   },
   "file_extension": ".py",
   "mimetype": "text/x-python",
   "name": "python",
   "nbconvert_exporter": "python",
   "pygments_lexer": "ipython3",
   "version": "3.7.12"
  }
 },
 "nbformat": 4,
 "nbformat_minor": 5
}
