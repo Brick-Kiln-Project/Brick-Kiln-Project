{
 "cells": [
  {
   "cell_type": "code",
   "execution_count": 1,
   "id": "01db6052",
   "metadata": {},
   "outputs": [
    {
     "name": "stderr",
     "output_type": "stream",
     "text": [
      "/opt/conda/lib/python3.7/site-packages/descarteslabs/_dl_modules/common/workflows/arrow_serialization/context.py:57: FutureWarning: 'pyarrow.SerializationContext' is deprecated and will be removed in a future version. Use pickle or the pyarrow IPC functionality instead.\n",
      "  serialization_context = pa.SerializationContext()\n",
      "/opt/conda/lib/python3.7/site-packages/descarteslabs/_dl_modules/common/workflows/arrow_serialization/context.py:58: FutureWarning: 'pyarrow.register_default_serialization_handlers' is deprecated as of 2.0.0 and will be removed in a future version. Use pickle or the pyarrow IPC functionality instead.\n",
      "  pa.register_default_serialization_handlers(serialization_context)\n"
     ]
    }
   ],
   "source": [
    "import pandas as pd\n",
    "import descarteslabs.workflows as wf\n",
    "import geojson\n",
    "import descarteslabs as dl\n",
    "import sys\n",
    "from ipyleaflet import GeoJSON\n",
    "from tqdm.notebook import tqdm\n",
    "sys.path.append('Predicted_Datasets/')"
   ]
  },
  {
   "cell_type": "code",
   "execution_count": 2,
   "id": "92138c7c",
   "metadata": {},
   "outputs": [],
   "source": [
    "datasetName='happy_cow'"
   ]
  },
  {
   "cell_type": "code",
   "execution_count": 3,
   "id": "289c6956",
   "metadata": {},
   "outputs": [],
   "source": [
    "totalDataset=pd.read_csv('Predicted_Datasets/'+datasetName+'_results.csv').to_dict()\n",
    "m=wf.interactive.MapApp()"
   ]
  },
  {
   "cell_type": "code",
   "execution_count": 4,
   "id": "884b3937",
   "metadata": {},
   "outputs": [
    {
     "name": "stdout",
     "output_type": "stream",
     "text": [
      "296960\n"
     ]
    }
   ],
   "source": [
    "print(len(totalDataset['prediction']))"
   ]
  },
  {
   "cell_type": "markdown",
   "id": "2c368eb8",
   "metadata": {},
   "source": [
    "## View coverage of the entire country"
   ]
  },
  {
   "cell_type": "code",
   "execution_count": 9,
   "id": "2ec892d4",
   "metadata": {},
   "outputs": [
    {
     "name": "stdout",
     "output_type": "stream",
     "text": [
      "North West Corner Acquisition\n"
     ]
    },
    {
     "data": {
      "application/vnd.jupyter.widget-view+json": {
       "model_id": "46843f0a72d8414683574041b9688cd5",
       "version_major": 2,
       "version_minor": 0
      },
      "text/plain": [
       "  0%|          | 0/290 [00:00<?, ?it/s]"
      ]
     },
     "metadata": {},
     "output_type": "display_data"
    },
    {
     "name": "stdout",
     "output_type": "stream",
     "text": [
      "South East Corner Acquisition\n"
     ]
    },
    {
     "data": {
      "application/vnd.jupyter.widget-view+json": {
       "model_id": "1fcbaf09b55c475db2893765017de0cd",
       "version_major": 2,
       "version_minor": 0
      },
      "text/plain": [
       "  0%|          | 0/290 [00:00<?, ?it/s]"
      ]
     },
     "metadata": {},
     "output_type": "display_data"
    },
    {
     "data": {
      "text/plain": [
       "'\\nprint(\\'South West Corner Acquisition\\')\\nfor predictionKey in list(totalDataset[\\'prediction\\'].keys())[992::1024]:\\n    #if totalDataset[\\'prediction\\'][predictionKey]>=.99:\\n        key = totalDataset[\\'tile_key\\'][predictionKey]\\n        subtilegjs=GeoJSON(\\n                data=geojson.FeatureCollection([dl.scenes.DLTile.from_key(key).__geo_interface__]),\\n                style={\"color\":\"red\",\\n                      \"fillOpacity\":0}\\n        )\\n        m.add_layer(subtilegjs)\\n'"
      ]
     },
     "execution_count": 9,
     "metadata": {},
     "output_type": "execute_result"
    }
   ],
   "source": [
    "print(\"North West Corner Acquisition\")\n",
    "for predictionKey in tqdm(list(totalDataset['prediction'].keys())[::1024]):\n",
    "    #if totalDataset['prediction'][predictionKey]>=.99:\n",
    "        key = totalDataset['tile_key'][predictionKey]\n",
    "        subtilegjs=GeoJSON(\n",
    "                data=geojson.FeatureCollection([dl.scenes.DLTile.from_key(key).__geo_interface__]),\n",
    "                style={\"color\":\"red\",\n",
    "                      \"fillOpacity\":0}\n",
    "        )\n",
    "        m.add_layer(subtilegjs)\n",
    "\"\"\"\n",
    "print(\"North East Corner Acquisition\")\n",
    "for predictionKey in list(totalDataset['prediction'].keys())[31::1024]:\n",
    "    #if totalDataset['prediction'][predictionKey]>=.99:\n",
    "        key = totalDataset['tile_key'][predictionKey]\n",
    "        subtilegjs=GeoJSON(\n",
    "                data=geojson.FeatureCollection([dl.scenes.DLTile.from_key(key).__geo_interface__]),\n",
    "                style={\"color\":\"red\",\n",
    "                      \"fillOpacity\":0}\n",
    "        )\n",
    "        m.add_layer(subtilegjs)\n",
    "\"\"\"\n",
    "print('South East Corner Acquisition')\n",
    "for predictionKey in tqdm(list(totalDataset['prediction'].keys())[1023::1024]):\n",
    "    #if totalDataset['prediction'][predictionKey]>=.99:\n",
    "        key = totalDataset['tile_key'][predictionKey]\n",
    "        subtilegjs=GeoJSON(\n",
    "                data=geojson.FeatureCollection([dl.scenes.DLTile.from_key(key).__geo_interface__]),\n",
    "                style={\"color\":\"red\",\n",
    "                      \"fillOpacity\":0}\n",
    "        )\n",
    "        m.add_layer(subtilegjs)\n",
    "\"\"\"\n",
    "print('South West Corner Acquisition')\n",
    "for predictionKey in list(totalDataset['prediction'].keys())[992::1024]:\n",
    "    #if totalDataset['prediction'][predictionKey]>=.99:\n",
    "        key = totalDataset['tile_key'][predictionKey]\n",
    "        subtilegjs=GeoJSON(\n",
    "                data=geojson.FeatureCollection([dl.scenes.DLTile.from_key(key).__geo_interface__]),\n",
    "                style={\"color\":\"red\",\n",
    "                      \"fillOpacity\":0}\n",
    "        )\n",
    "        m.add_layer(subtilegjs)\n",
    "\"\"\""
   ]
  },
  {
   "cell_type": "code",
   "execution_count": 10,
   "id": "280b83cd",
   "metadata": {},
   "outputs": [
    {
     "data": {
      "application/vnd.jupyter.widget-view+json": {
       "model_id": "73c149d744e349a1ba8bd18e4a453a23",
       "version_major": 2,
       "version_minor": 0
      },
      "text/plain": [
       "\n",
       "`ipyleaflet` and/or `ipywidgets` Jupyter extensions are not installed! (or you're not in a Jupyter notebook.)\n",
       "To install for JupyterLab, run this in a cell:\n",
       "    !jupyter labextension install jupyter-leaflet @jupyter-widgets/jupyterlab-manager\n",
       "To install for plain Jupyter Notebook, run this in a cell:\n",
       "    !jupyter nbextension enable --py --sys-prefix ipyleaflet\n",
       "Then, restart the kernel and refresh the webpage.\n"
      ]
     },
     "metadata": {},
     "output_type": "display_data"
    }
   ],
   "source": [
    "m"
   ]
  },
  {
   "cell_type": "code",
   "execution_count": 6,
   "id": "3d7f0ec0",
   "metadata": {},
   "outputs": [
    {
     "data": {
      "text/plain": [
       "'\\nm=wf.interactive.MapApp()\\nkey=\\'2048:0:10.0:42:8:140\\'\\nsubtilegjs=GeoJSON(\\n    data=geojson.FeatureCollection([dl.scenes.DLTile.from_key(key).__geo_interface__]),\\n    style={\"color\":\"red\",\\n          \"fillOpacity\":0}\\n    )\\nm.add_layer(subtilegjs)\\n\\nm\\n'"
      ]
     },
     "execution_count": 6,
     "metadata": {},
     "output_type": "execute_result"
    }
   ],
   "source": [
    "\"\"\"\n",
    "m=wf.interactive.MapApp()\n",
    "key='2048:0:10.0:42:8:140'\n",
    "subtilegjs=GeoJSON(\n",
    "    data=geojson.FeatureCollection([dl.scenes.DLTile.from_key(key).__geo_interface__]),\n",
    "    style={\"color\":\"red\",\n",
    "          \"fillOpacity\":0}\n",
    "    )\n",
    "m.add_layer(subtilegjs)\n",
    "\n",
    "m\n",
    "\"\"\""
   ]
  },
  {
   "cell_type": "markdown",
   "id": "0cc8f2b7",
   "metadata": {},
   "source": [
    "## View the most accurate tiles in the country"
   ]
  },
  {
   "cell_type": "code",
   "execution_count": 7,
   "id": "db5a4ee2",
   "metadata": {},
   "outputs": [
    {
     "name": "stdout",
     "output_type": "stream",
     "text": [
      "163\n"
     ]
    }
   ],
   "source": [
    "m=wf.interactive.MapApp()\n",
    "tally=0\n",
    "for predictionKey in list(totalDataset['prediction'].keys()):\n",
    "    if totalDataset['prediction'][predictionKey]>=.99:\n",
    "        tally+=1\n",
    "        key = totalDataset['tile_key'][predictionKey]\n",
    "        subtilegjs=GeoJSON(\n",
    "                data=geojson.FeatureCollection([dl.scenes.DLTile.from_key(key).__geo_interface__]),\n",
    "                style={\"color\":\"red\",\n",
    "                      \"fillOpacity\":0}\n",
    "        )\n",
    "        m.add_layer(subtilegjs)\n",
    "print(tally)"
   ]
  },
  {
   "cell_type": "code",
   "execution_count": 8,
   "id": "6bec3734",
   "metadata": {},
   "outputs": [
    {
     "data": {
      "application/vnd.jupyter.widget-view+json": {
       "model_id": "73c149d744e349a1ba8bd18e4a453a23",
       "version_major": 2,
       "version_minor": 0
      },
      "text/plain": [
       "\n",
       "`ipyleaflet` and/or `ipywidgets` Jupyter extensions are not installed! (or you're not in a Jupyter notebook.)\n",
       "To install for JupyterLab, run this in a cell:\n",
       "    !jupyter labextension install jupyter-leaflet @jupyter-widgets/jupyterlab-manager\n",
       "To install for plain Jupyter Notebook, run this in a cell:\n",
       "    !jupyter nbextension enable --py --sys-prefix ipyleaflet\n",
       "Then, restart the kernel and refresh the webpage.\n"
      ]
     },
     "metadata": {},
     "output_type": "display_data"
    }
   ],
   "source": [
    "m"
   ]
  },
  {
   "cell_type": "markdown",
   "id": "f7013df3",
   "metadata": {},
   "source": [
    "## View the maximal and minimal predicted values"
   ]
  },
  {
   "cell_type": "code",
   "execution_count": 7,
   "id": "ba9e11d9",
   "metadata": {},
   "outputs": [
    {
     "name": "stdout",
     "output_type": "stream",
     "text": [
      "0.9999971389770508\n",
      "0.0\n"
     ]
    }
   ],
   "source": [
    "print(max(totalDataset['prediction'].values()))\n",
    "print(min(totalDataset['prediction'].values()))"
   ]
  },
  {
   "cell_type": "code",
   "execution_count": null,
   "id": "bfa517a4",
   "metadata": {},
   "outputs": [],
   "source": [
    "print('hi')"
   ]
  },
  {
   "cell_type": "code",
   "execution_count": null,
   "id": "8626eb2b",
   "metadata": {},
   "outputs": [],
   "source": []
  }
 ],
 "metadata": {
  "kernelspec": {
   "display_name": "Python 3 (ipykernel)",
   "language": "python",
   "name": "python3"
  },
  "language_info": {
   "codemirror_mode": {
    "name": "ipython",
    "version": 3
   },
   "file_extension": ".py",
   "mimetype": "text/x-python",
   "name": "python",
   "nbconvert_exporter": "python",
   "pygments_lexer": "ipython3",
   "version": "3.7.12"
  }
 },
 "nbformat": 4,
 "nbformat_minor": 5
}
