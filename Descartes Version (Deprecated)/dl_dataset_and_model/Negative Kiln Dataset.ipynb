{
 "cells": [
  {
   "cell_type": "code",
   "execution_count": 17,
   "id": "15bdee1a",
   "metadata": {},
   "outputs": [],
   "source": [
    "import pandas as pd\n",
    "from tqdm.notebook import tqdm\n",
    "import csv\n",
    "import random"
   ]
  },
  {
   "cell_type": "code",
   "execution_count": 27,
   "id": "e6b611ae",
   "metadata": {},
   "outputs": [],
   "source": [
    "dataset='../Predicted_Datasets/cheeky_snake'\n",
    "df = pd.read_csv(dataset+'_results.csv').to_dict()"
   ]
  },
  {
   "cell_type": "code",
   "execution_count": 28,
   "id": "d93a8ae9",
   "metadata": {},
   "outputs": [
    {
     "name": "stdout",
     "output_type": "stream",
     "text": [
      "dict_keys(['tile_key', 'geometry', 'prediction'])\n",
      "425984\n"
     ]
    }
   ],
   "source": [
    "print(df.keys())\n",
    "print(len(df['prediction']))"
   ]
  },
  {
   "cell_type": "code",
   "execution_count": 29,
   "id": "6a29acdf",
   "metadata": {},
   "outputs": [
    {
     "data": {
      "application/vnd.jupyter.widget-view+json": {
       "model_id": "f35ff29bc60a47de940dd2833c8dab90",
       "version_major": 2,
       "version_minor": 0
      },
      "text/plain": [
       "  0%|          | 0/425984 [00:00<?, ?it/s]"
      ]
     },
     "metadata": {},
     "output_type": "display_data"
    }
   ],
   "source": [
    "negatives=[]\n",
    "for idx in tqdm(df['prediction']):\n",
    "    if df['prediction'][idx] <.99:\n",
    "        negatives.append([df['tile_key'][idx],df['geometry'][idx],0,'n/a'])\n",
    "rows = random.sample(negatives,5000)\n",
    "rows.insert(0,['tile_key','geometry','prediction','area'])\n",
    "with open('../Predicted_Datasets/negative_sampled_cheeky_snake.csv','w') as outfile:\n",
    "    writer = csv.writer(outfile)\n",
    "    writer.writerows(rows)\n",
    "    "
   ]
  },
  {
   "cell_type": "code",
   "execution_count": null,
   "id": "c82d12ca",
   "metadata": {},
   "outputs": [],
   "source": []
  }
 ],
 "metadata": {
  "kernelspec": {
   "display_name": "Python 3 (ipykernel)",
   "language": "python",
   "name": "python3"
  },
  "language_info": {
   "codemirror_mode": {
    "name": "ipython",
    "version": 3
   },
   "file_extension": ".py",
   "mimetype": "text/x-python",
   "name": "python",
   "nbconvert_exporter": "python",
   "pygments_lexer": "ipython3",
   "version": "3.7.12"
  }
 },
 "nbformat": 4,
 "nbformat_minor": 5
}
