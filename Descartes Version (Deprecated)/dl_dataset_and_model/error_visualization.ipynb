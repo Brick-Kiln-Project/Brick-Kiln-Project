{
 "cells": [
  {
   "cell_type": "code",
   "execution_count": 1,
   "id": "7a54afb0",
   "metadata": {},
   "outputs": [
    {
     "name": "stdout",
     "output_type": "stream",
     "text": [
      "Looking in indexes: https://pypi.org/simple, https://packagecloud.io/github/git-lfs/pypi/simple\n",
      "Requirement already satisfied: torchsummary in /opt/conda/lib/python3.7/site-packages (1.5.1)\n",
      "Note: you may need to restart the kernel to use updated packages.\n",
      "Looking in indexes: https://pypi.org/simple, https://packagecloud.io/github/git-lfs/pypi/simple\n",
      "Requirement already satisfied: torchcam in /opt/conda/lib/python3.7/site-packages (0.3.2)\n",
      "Requirement already satisfied: torch<2.0.0,>=1.7.0 in /opt/conda/lib/python3.7/site-packages (from torchcam) (1.7.1+cpu)\n",
      "Requirement already satisfied: Pillow>=8.3.2 in /opt/conda/lib/python3.7/site-packages (from torchcam) (9.2.0)\n",
      "Requirement already satisfied: numpy<2.0.0,>=1.14.0 in /opt/conda/lib/python3.7/site-packages (from torchcam) (1.21.6)\n",
      "Requirement already satisfied: matplotlib<4.0.0,>=3.0.0 in /opt/conda/lib/python3.7/site-packages (from torchcam) (3.5.2)\n",
      "Requirement already satisfied: fonttools>=4.22.0 in /opt/conda/lib/python3.7/site-packages (from matplotlib<4.0.0,>=3.0.0->torchcam) (4.34.4)\n",
      "Requirement already satisfied: packaging>=20.0 in /opt/conda/lib/python3.7/site-packages (from matplotlib<4.0.0,>=3.0.0->torchcam) (21.3)\n",
      "Requirement already satisfied: pyparsing>=2.2.1 in /opt/conda/lib/python3.7/site-packages (from matplotlib<4.0.0,>=3.0.0->torchcam) (3.0.9)\n",
      "Requirement already satisfied: cycler>=0.10 in /opt/conda/lib/python3.7/site-packages (from matplotlib<4.0.0,>=3.0.0->torchcam) (0.11.0)\n",
      "Requirement already satisfied: python-dateutil>=2.7 in /opt/conda/lib/python3.7/site-packages (from matplotlib<4.0.0,>=3.0.0->torchcam) (2.8.2)\n",
      "Requirement already satisfied: kiwisolver>=1.0.1 in /opt/conda/lib/python3.7/site-packages (from matplotlib<4.0.0,>=3.0.0->torchcam) (1.4.4)\n",
      "Requirement already satisfied: typing-extensions in /opt/conda/lib/python3.7/site-packages (from torch<2.0.0,>=1.7.0->torchcam) (4.3.0)\n",
      "Requirement already satisfied: six>=1.5 in /opt/conda/lib/python3.7/site-packages (from python-dateutil>=2.7->matplotlib<4.0.0,>=3.0.0->torchcam) (1.16.0)\n",
      "Note: you may need to restart the kernel to use updated packages.\n"
     ]
    }
   ],
   "source": [
    "# try the imports\n",
    "import os\n",
    "import torch\n",
    "import math\n",
    "import numpy as np\n",
    "import pandas as pd\n",
    "import sys\n",
    "import random\n",
    "import matplotlib.pyplot as plt\n",
    "import skimage\n",
    "from descarteslabs import Storage, Auth\n",
    "%pip install torchsummary\n",
    "from torchsummary import summary\n",
    "sys.path.append(\"../\")\n",
    "import constants\n",
    "from tqdm.notebook import tqdm\n",
    "sys.path.append('../UI_Labeling')\n",
    "import config\n",
    "from torch.utils.data import Dataset, DataLoader\n"
   ]
  },
  {
   "cell_type": "code",
   "execution_count": 2,
   "id": "20a6024e",
   "metadata": {},
   "outputs": [
    {
     "name": "stdout",
     "output_type": "stream",
     "text": [
      "1.7.1+cpu\n"
     ]
    }
   ],
   "source": [
    "print(torch.__version__)"
   ]
  },
  {
   "cell_type": "code",
   "execution_count": 3,
   "id": "83a431a9",
   "metadata": {},
   "outputs": [],
   "source": [
    "#Variables\n",
    "model_name = \"b_i_hsi\""
   ]
  },
  {
   "cell_type": "code",
   "execution_count": 4,
   "id": "ca92952d",
   "metadata": {},
   "outputs": [],
   "source": [
    "device = \"cuda\" if torch.cuda.is_available() else \"cpu\"\n",
    "class Combo_BI_Dataset(Dataset):\n",
    "    \"\"\"\n",
    "    Dataset for country/ies DL Sentinel2 10-channel imagery.\n",
    "    \"\"\"\n",
    "    def __init__(self, DS_Name, balance=False, limit=0, mode=\"full\"):\n",
    "        super(Combo_BI_Dataset, self).__init__()\n",
    "        self.df=pd.DataFrame()\n",
    "        \n",
    "        def add_dataset(dataset_name):\n",
    "            df=pd.read_csv(\"Image_Datasets/\"+dataset_name+'/metadata.csv')\n",
    "            positives=0\n",
    "            negatives=0\n",
    "            if balance:\n",
    "                confirmed={'Image':{},'Label':{},'Geometry':{}}\n",
    "                denied={'Image':{},'Label':{},'Geometry':{}}\n",
    "                for idx in df['Label'].keys():\n",
    "                    if df['Label'][idx]:\n",
    "                        positives+=1\n",
    "                        confirmed['Image'][idx]=df['Image'][idx]\n",
    "                        confirmed['Label'][idx]=df['Label'][idx]\n",
    "                        confirmed['Geometry'][idx]=df['Geometry'][idx]\n",
    "                    else:\n",
    "                        negatives+=1\n",
    "                        denied['Image'][idx]=df['Image'][idx]\n",
    "                        denied['Label'][idx]=df['Label'][idx]\n",
    "                        denied['Geometry'][idx]=df['Geometry'][idx]\n",
    "                print('positives:',positives,'negatives:',negatives)    \n",
    "                if limit:\n",
    "                    random.seed(constants.RANDOM_STATE)\n",
    "                    sample_keys=random.sample(list(confirmed['Image'].keys()),min([len(confirmed['Image']),limit]))\n",
    "                    confirmed={'Image':{},'Label':{},'Geometry':{}}\n",
    "                    for idx in sample_keys:\n",
    "                        confirmed['Image'][idx]=df['Image'][idx]\n",
    "                        confirmed['Label'][idx]=df['Label'][idx]\n",
    "                        confirmed['Geometry'][idx]=df['Geometry'][idx]\n",
    "                random.seed(constants.RANDOM_STATE)\n",
    "                sample_keys=random.sample(list(denied['Image'].keys()),min([len(denied['Image']),math.ceil((len(confirmed['Image'])*3))]))\n",
    "                denied={'Image':{},'Label':{},'Geometry':{}}\n",
    "                for idx in sample_keys:\n",
    "                    denied['Image'][idx]=df['Image'][idx]\n",
    "                    denied['Label'][idx]=df['Label'][idx]\n",
    "                    denied['Geometry'][idx]=df['Geometry'][idx]\n",
    "                confirmed['Image'].update(denied['Image'])\n",
    "                confirmed['Label'].update(denied['Label'])\n",
    "                confirmed['Geometry'].update(denied['Geometry'])\n",
    "                df=pd.DataFrame().from_dict(confirmed)\n",
    "            #\"\"\"\n",
    "            df[\"Image\"]='Image_Datasets/'+dataset_name+'/'+df[\"Image\"]\n",
    "            df=df[['Image','Label']]\n",
    "            return df\n",
    "            \n",
    "    # ADD DATASETS HERE FOR TRAINING\n",
    "        \n",
    "        self.df = pd.concat([self.df,add_dataset(DS_Name)])\n",
    "        \n",
    "    # END EDITABLES\n",
    "        \n",
    "        self.df = self.df.sample(frac=1, random_state=constants.RANDOM_STATE)\n",
    "        \n",
    "        if mode == \"tiny\":\n",
    "            self.df = self.df.sample(frac=.05, random_state=constants.RANDOM_STATE)\n",
    "        \n",
    "    \n",
    "    def __getitem__(self, idx):\n",
    "        file_name, label = self.df.iloc[idx]\n",
    "        img = torch.Tensor(np.load(file_name)).to(device)\n",
    "        label = torch.Tensor([label]).to(device)\n",
    "        \n",
    "        return img, label\n",
    "        \n",
    "        \n",
    "    def __len__(self):\n",
    "        return len(self.df)\n"
   ]
  },
  {
   "cell_type": "code",
   "execution_count": 5,
   "id": "5142f0e8",
   "metadata": {},
   "outputs": [],
   "source": [
    "from torchvision.models import resnet18\n",
    "import torch.nn as nn\n",
    "\n",
    "class Resnet(torch.nn.Module):\n",
    "    def __init__(self, num_channels, image_width, device=None, pretrained=False):\n",
    "        super(Resnet, self).__init__()\n",
    "        self.device = device        \n",
    "        self.resnet = resnet18(pretrained=pretrained)\n",
    "        self.resnet.conv1 = torch.nn.Conv2d(num_channels, image_width, kernel_size=(7, 7), stride=(2, 2), padding=(3, 3), bias=False)\n",
    "        self.resnet.fc = torch.nn.Linear(self.resnet.fc.in_features, 256).to(device)\n",
    "        self.final_fc = torch.nn.Linear(256, 1).to(device)\n",
    "        \n",
    "        self.resnet = self.resnet.to(device)\n",
    "        \n",
    "        self.sigmoid = nn.Sigmoid()\n",
    "        \n",
    "    def forward(self, x):\n",
    "        resnet_output = self.resnet(x)\n",
    "        outputs = self.final_fc(resnet_output)\n",
    "        outputs = self.sigmoid(outputs)\n",
    "        return outputs\n",
    "    "
   ]
  },
  {
   "cell_type": "code",
   "execution_count": 6,
   "id": "0aa4001c",
   "metadata": {},
   "outputs": [],
   "source": [
    "def train_one_epoch(model, train_loader, optimizer, criterion):\n",
    "    model.train()\n",
    "    running_loss = 0.0\n",
    "    for batch_iter, (inputs, labels) in enumerate(train_loader):\n",
    "        optimizer.zero_grad()\n",
    "        outputs = model(inputs)\n",
    "        \n",
    "        loss = criterion(outputs, labels)\n",
    "        \n",
    "        running_loss += loss.item()\n",
    "\n",
    "        loss.backward()\n",
    "        optimizer.step()\n",
    "        torch.cuda.empty_cache()\n",
    "    \n",
    "    return running_loss / batch_iter\n",
    "        \n",
    "        \n",
    "def evaluate_model(model, val_loader):\n",
    "    model.eval()\n",
    "    running_loss = 0.0\n",
    "    #with torch.no_grad():\n",
    "    all_labels = []\n",
    "    all_preds = []\n",
    "    all_outputs = []\n",
    "    all_inputs=[]\n",
    "    for batch_iter, (inputs, labels) in enumerate(val_loader):\n",
    "        all_inputs.append(inputs)\n",
    "        outputs = model(inputs)\n",
    "        loss = criterion(outputs, labels)\n",
    "        running_loss += loss.item()\n",
    "\n",
    "        outputs = outputs.cpu().detach().numpy()\n",
    "        labels = labels.cpu().detach().numpy()\n",
    "        preds = (outputs > .5).astype('int')\n",
    "\n",
    "        all_labels.append(labels)\n",
    "        all_preds.append(preds)\n",
    "        all_outputs.append(outputs)\n",
    "\n",
    "    all_labels = np.array([label for vec in all_labels for label in vec])\n",
    "    all_preds = np.stack([pred for vec in all_preds for pred in vec])\n",
    "    all_outputs = np.stack([output for vec in all_outputs for output in vec])\n",
    "    val_acc = np.mean((all_labels == all_preds).astype('int'))\n",
    "\n",
    "    return val_acc, running_loss / batch_iter, all_labels, all_outputs,all_inputs\n",
    "\n",
    "def save_checkpoint(logdir, model, optimizer, epoch, loss, lr, best=None):\n",
    "    \"\"\"\n",
    "    Saves model checkpoint after each epoch\n",
    "    logdir: Log directory\n",
    "    model: model to save\n",
    "    optimizer: optimizer to save\n",
    "    epoch: epoch to save on\n",
    "    loss: loss to log\n",
    "    lr: learning rate to log\n",
    "    best: An optional string used to specify which validation method this best\n",
    "    checkpoint is for\n",
    "    \"\"\"\n",
    "    checkpoint_dir = os.path.join(logdir, \"checkpoints\")\n",
    "    os.makedirs(checkpoint_dir, exist_ok=True)\n",
    "    if best:\n",
    "        print(f\"Saving checkpoint, {best}.\")\n",
    "        checkpoint_path = \"{}/best_{}.pth\".format(checkpoint_dir, best)\n",
    "    else:\n",
    "        checkpoint_path = \"{}/lr{}_epoch{}.pth\".format(checkpoint_dir, lr, epoch)\n",
    "\n",
    "    torch.save({\n",
    "            'epoch': epoch,\n",
    "            'model_state_dict': model.state_dict(),\n",
    "            'optimizer_state_dict': optimizer.state_dict(),\n",
    "            'loss': loss,\n",
    "            }, checkpoint_path)\n",
    "\n",
    "    if not best:\n",
    "        print(\"Saving checkpoint to lr{}_epoch{}\".format(lr, epoch))\n",
    "        \n",
    "\n",
    "def load_checkpoint(model_checkpoint, model, device, optimizer=None):\n",
    "    \"\"\"\n",
    "    Loads a pretrained checkpoint to continue training\n",
    "    model_checkpoint: Path of the model_checkpoint that ends with .pth\n",
    "    model: model to load to\n",
    "    device: devide to load on (gpu/cpu)\n",
    "    optimizer (optional): optimize to load state to\n",
    "    \"\"\"\n",
    "    checkpoint = torch.load(model_checkpoint, map_location=device)\n",
    "    print('Loaded best state dict from epoch: {}'.format(checkpoint[\"epoch\"]))\n",
    "    model.load_state_dict(checkpoint[\"model_state_dict\"])\n",
    "    if optimizer is not None:\n",
    "        optimizer.load_state_dict(checkpoint['optimizer_state_dict'])\n",
    "    model.to(device)\n",
    "    return model"
   ]
  },
  {
   "cell_type": "code",
   "execution_count": 7,
   "id": "bb87e9ef",
   "metadata": {},
   "outputs": [
    {
     "name": "stdout",
     "output_type": "stream",
     "text": [
      "positives: 653 negatives: 1739\n",
      "1913 training examples and 479 validation examples.\n"
     ]
    }
   ],
   "source": [
    "dataset=[]\n",
    "train_dset=None\n",
    "val_dset=None\n",
    "#Commend or uncomment for datasets you'd like to add.\n",
    "#dataset.append(Combo_BI_Dataset('bangladesh_dl_dataset',True,858))\n",
    "#dataset.append(Combo_BI_Dataset('india_dl_dataset',True,858))\n",
    "#dataset.append(Combo_BI_Dataset('high_sampledindia_dl_dataset',True,858))\n",
    "dataset.append(Combo_BI_Dataset('updatedModel_state_sampled_pakistan_dl_dataset',True,858))\n",
    "#dataset.append(Combo_BI_Dataset('updatedModel_state_sampled_nepal_dl_dataset',True,858))\n",
    "\n",
    "for dset in dataset:\n",
    "    train, val = torch.utils.data.random_split(\n",
    "        dset, \n",
    "        [len(dset)*8//10, len(dset)-len(dset)*8//10], # 80-10% split\n",
    "        generator=torch.Generator().manual_seed(constants.RANDOM_STATE)\n",
    "    )\n",
    "    if train_dset is None and val_dset is None:\n",
    "        train_dset=train\n",
    "        val_dset=val\n",
    "    else:\n",
    "        train_dset=torch.utils.data.ConcatDataset([train_dset,train])\n",
    "        val_dset=torch.utils.data.ConcatDataset([val_dset,val])\n",
    "print(f\"{len(train_dset)} training examples and {len(val_dset)} validation examples.\")\n",
    "train_loader = DataLoader(train_dset, batch_size=32,shuffle=True)\n",
    "val_loader = DataLoader(val_dset, batch_size=32,shuffle=True)"
   ]
  },
  {
   "cell_type": "code",
   "execution_count": 8,
   "id": "339dc5db",
   "metadata": {},
   "outputs": [],
   "source": [
    "# let's give it a whirl\n",
    "\n",
    "# some things to try for speedups:\n",
    "# torch.cuda.empty_cache()\n",
    "# change number of workers, use detach instead of just \n",
    "N_EPOCHS = 50\n",
    "model = Resnet(10, 64, device=device)\n",
    "lr = 1e-4\n",
    "optimizer = torch.optim.Adam(model.parameters(), lr=lr)\n",
    "criterion = nn.BCELoss()\n",
    "\n",
    "best_val_loss = None\n",
    "\n",
    "logdir = \"model_log_dl/\"+model_name+\"_50_training_steps/\"\n"
   ]
  },
  {
   "cell_type": "code",
   "execution_count": 9,
   "id": "719d86b5",
   "metadata": {},
   "outputs": [
    {
     "name": "stdout",
     "output_type": "stream",
     "text": [
      "Loaded best state dict from epoch: 8\n",
      "Loaded best state dict from epoch: 49\n"
     ]
    }
   ],
   "source": [
    "#let's test this bad boy\n",
    "best_val_model = Resnet(10, 64, device=device)\n",
    "final_epoch_model = Resnet(10, 64, device=device)\n",
    "\n",
    "best_val_model = load_checkpoint(f\"{logdir}/checkpoints/best_dl_best.pth\", \n",
    "                                 best_val_model, \n",
    "                                 device)\n",
    "\n",
    "#best_val_model = load_checkpoint('kiln_prod_weights.pth',best_val_model,device)\n",
    "final_epoch_model = load_checkpoint(f\"{logdir}/checkpoints/lr0.0001_epoch49.pth\", \n",
    "                                    final_epoch_model, \n",
    "                                    device)\n"
   ]
  },
  {
   "cell_type": "code",
   "execution_count": 92,
   "id": "9ee0d1e1",
   "metadata": {},
   "outputs": [
    {
     "name": "stdout",
     "output_type": "stream",
     "text": [
      "----------------------------------------------------------------\n",
      "        Layer (type)               Output Shape         Param #\n",
      "================================================================\n",
      "            Conv2d-1           [-1, 64, 32, 32]          31,360\n",
      "       BatchNorm2d-2           [-1, 64, 32, 32]             128\n",
      "              ReLU-3           [-1, 64, 32, 32]               0\n",
      "         MaxPool2d-4           [-1, 64, 16, 16]               0\n",
      "            Conv2d-5           [-1, 64, 16, 16]          36,864\n",
      "       BatchNorm2d-6           [-1, 64, 16, 16]             128\n",
      "              ReLU-7           [-1, 64, 16, 16]               0\n",
      "            Conv2d-8           [-1, 64, 16, 16]          36,864\n",
      "       BatchNorm2d-9           [-1, 64, 16, 16]             128\n",
      "             ReLU-10           [-1, 64, 16, 16]               0\n",
      "       BasicBlock-11           [-1, 64, 16, 16]               0\n",
      "           Conv2d-12           [-1, 64, 16, 16]          36,864\n",
      "      BatchNorm2d-13           [-1, 64, 16, 16]             128\n",
      "             ReLU-14           [-1, 64, 16, 16]               0\n",
      "           Conv2d-15           [-1, 64, 16, 16]          36,864\n",
      "      BatchNorm2d-16           [-1, 64, 16, 16]             128\n",
      "             ReLU-17           [-1, 64, 16, 16]               0\n",
      "       BasicBlock-18           [-1, 64, 16, 16]               0\n",
      "           Conv2d-19            [-1, 128, 8, 8]          73,728\n",
      "      BatchNorm2d-20            [-1, 128, 8, 8]             256\n",
      "             ReLU-21            [-1, 128, 8, 8]               0\n",
      "           Conv2d-22            [-1, 128, 8, 8]         147,456\n",
      "      BatchNorm2d-23            [-1, 128, 8, 8]             256\n",
      "           Conv2d-24            [-1, 128, 8, 8]           8,192\n",
      "      BatchNorm2d-25            [-1, 128, 8, 8]             256\n",
      "             ReLU-26            [-1, 128, 8, 8]               0\n",
      "       BasicBlock-27            [-1, 128, 8, 8]               0\n",
      "           Conv2d-28            [-1, 128, 8, 8]         147,456\n",
      "      BatchNorm2d-29            [-1, 128, 8, 8]             256\n",
      "             ReLU-30            [-1, 128, 8, 8]               0\n",
      "           Conv2d-31            [-1, 128, 8, 8]         147,456\n",
      "      BatchNorm2d-32            [-1, 128, 8, 8]             256\n",
      "             ReLU-33            [-1, 128, 8, 8]               0\n",
      "       BasicBlock-34            [-1, 128, 8, 8]               0\n",
      "           Conv2d-35            [-1, 256, 4, 4]         294,912\n",
      "      BatchNorm2d-36            [-1, 256, 4, 4]             512\n",
      "             ReLU-37            [-1, 256, 4, 4]               0\n",
      "           Conv2d-38            [-1, 256, 4, 4]         589,824\n",
      "      BatchNorm2d-39            [-1, 256, 4, 4]             512\n",
      "           Conv2d-40            [-1, 256, 4, 4]          32,768\n",
      "      BatchNorm2d-41            [-1, 256, 4, 4]             512\n",
      "             ReLU-42            [-1, 256, 4, 4]               0\n",
      "       BasicBlock-43            [-1, 256, 4, 4]               0\n",
      "           Conv2d-44            [-1, 256, 4, 4]         589,824\n",
      "      BatchNorm2d-45            [-1, 256, 4, 4]             512\n",
      "             ReLU-46            [-1, 256, 4, 4]               0\n",
      "           Conv2d-47            [-1, 256, 4, 4]         589,824\n",
      "      BatchNorm2d-48            [-1, 256, 4, 4]             512\n",
      "             ReLU-49            [-1, 256, 4, 4]               0\n",
      "       BasicBlock-50            [-1, 256, 4, 4]               0\n",
      "           Conv2d-51            [-1, 512, 2, 2]       1,179,648\n",
      "      BatchNorm2d-52            [-1, 512, 2, 2]           1,024\n",
      "             ReLU-53            [-1, 512, 2, 2]               0\n",
      "           Conv2d-54            [-1, 512, 2, 2]       2,359,296\n",
      "      BatchNorm2d-55            [-1, 512, 2, 2]           1,024\n",
      "           Conv2d-56            [-1, 512, 2, 2]         131,072\n",
      "      BatchNorm2d-57            [-1, 512, 2, 2]           1,024\n",
      "             ReLU-58            [-1, 512, 2, 2]               0\n",
      "       BasicBlock-59            [-1, 512, 2, 2]               0\n",
      "           Conv2d-60            [-1, 512, 2, 2]       2,359,296\n",
      "      BatchNorm2d-61            [-1, 512, 2, 2]           1,024\n",
      "             ReLU-62            [-1, 512, 2, 2]               0\n",
      "           Conv2d-63            [-1, 512, 2, 2]       2,359,296\n",
      "      BatchNorm2d-64            [-1, 512, 2, 2]           1,024\n",
      "             ReLU-65            [-1, 512, 2, 2]               0\n",
      "       BasicBlock-66            [-1, 512, 2, 2]               0\n",
      "================================================================\n",
      "Total params: 11,198,464\n",
      "Trainable params: 11,198,464\n",
      "Non-trainable params: 0\n",
      "----------------------------------------------------------------\n",
      "Input size (MB): 0.16\n",
      "Forward/backward pass size (MB): 5.12\n",
      "Params size (MB): 42.72\n",
      "Estimated Total Size (MB): 48.00\n",
      "----------------------------------------------------------------\n",
      "None\n"
     ]
    }
   ],
   "source": [
    "#print(summary(best_val_model,(10,64,64)))\n",
    "final=best_val_model._modules['resnet']\n",
    "final_cam=nn.Sequential(*list(final.children())[:-2])\n",
    "print(summary(final_cam,(10,64,64)))\n",
    "def evaluate_cam_model(model, val_loader):\n",
    "    model.eval()\n",
    "    running_loss = 0.0\n",
    "    with torch.no_grad():\n",
    "        all_labels = []\n",
    "        all_preds = []\n",
    "        all_outputs = []\n",
    "        all_inputs=[]\n",
    "        for batch_iter, (inputs, labels) in enumerate(val_loader):\n",
    "            all_inputs.append(inputs)\n",
    "            outputs = model(inputs)\n",
    "            \n",
    "            outputs = outputs.cpu().detach().numpy()\n",
    "            labels = labels.cpu().detach().numpy()\n",
    "            \n",
    "            all_labels.append(labels)\n",
    "            all_outputs.append(outputs)\n",
    "        \n",
    "        all_labels = np.array([label for vec in all_labels for label in vec])\n",
    "        all_outputs = np.stack([output for vec in all_outputs for output in vec])\n",
    "            \n",
    "    return all_labels, all_outputs, all_inputs\n",
    "final_cam_labels,final_cam_outputs,final_cam_inputs=evaluate_cam_model(final_cam, val_loader)\n",
    "\n"
   ]
  },
  {
   "cell_type": "code",
   "execution_count": 81,
   "id": "fbb0c775",
   "metadata": {},
   "outputs": [],
   "source": [
    "best_val_acc, best_val_loss, best_labels, best_outputs, best_inputs= evaluate_model(best_val_model, \n",
    "                                                                        val_loader)\n",
    "final_val_acc, final_val_loss, final_labels, final_outputs, final_inputs = evaluate_model(final_epoch_model, \n",
    "                                                                            val_loader)\n"
   ]
  },
  {
   "cell_type": "code",
   "execution_count": null,
   "id": "49e6b51d",
   "metadata": {},
   "outputs": [],
   "source": [
    "check=[]\n",
    "for idx in range(len(best_outputs)):\n",
    "    if best_labels[idx] and best_outputs[idx]:\n",
    "        check.append(idx)\n",
    "print(check)"
   ]
  },
  {
   "cell_type": "code",
   "execution_count": 97,
   "id": "fe407e6d",
   "metadata": {},
   "outputs": [
    {
     "data": {
      "text/plain": [
       "<matplotlib.image.AxesImage at 0x7f6c56c8ff10>"
      ]
     },
     "execution_count": 97,
     "metadata": {},
     "output_type": "execute_result"
    },
    {
     "data": {
      "image/png": "[encoded data removed]",
      "text/plain": [
       "<Figure size 432x288 with 1 Axes>"
      ]
     },
     "metadata": {
      "needs_background": "light"
     },
     "output_type": "display_data"
    },
    {
     "data": {
      "image/png": "[encoded data removed]",
      "text/plain": [
       "<Figure size 432x288 with 1 Axes>"
      ]
     },
     "metadata": {
      "needs_background": "light"
     },
     "output_type": "display_data"
    }
   ],
   "source": [
    "idx=5\n",
    "batch=int(np.floor(idx/32))\n",
    "best_input_rgb=best_inputs[batch][idx%32][1:4,:,:][[2,1,0],:,:]\n",
    "plt.figure()\n",
    "plt.imshow(np.transpose(best_input_rgb,(1,2,0))*3)\n",
    "plt.figure()\n",
    "plt.imshow(np.swapaxes(best_input_rgb,0,2)*3)\n",
    "plt.imshow(skimage.transform.resize(final_cam_outputs[idx].reshape(32,32,2), (64,64,1)), alpha=.15, cmap='jet')\n"
   ]
  },
  {
   "cell_type": "code",
   "execution_count": null,
   "id": "e50fafc0",
   "metadata": {},
   "outputs": [],
   "source": [
    "print(list(best_labels).count([1.]))"
   ]
  },
  {
   "cell_type": "code",
   "execution_count": null,
   "id": "574e1592",
   "metadata": {},
   "outputs": [],
   "source": [
    "tp=0\n",
    "fp=0\n",
    "tn=0\n",
    "fn=0\n",
    "for idx in range(len(best_outputs)):\n",
    "    if math.floor(best_outputs[idx]/.99) != int(best_labels[idx][0]) and int(best_labels[idx][0])==0:\n",
    "        fp+=1\n",
    "    elif math.floor(best_outputs[idx]/.99) != int(best_labels[idx][0]) and int(best_labels[idx][0])==1:\n",
    "        fn+=1\n",
    "    elif math.floor(best_outputs[idx]/.99) == int(best_labels[idx][0]) and int(best_labels[idx][0])==0:\n",
    "        tn+=1\n",
    "    elif math.floor(best_outputs[idx]/.99) == int(best_labels[idx][0]) and int(best_labels[idx][0])==1:\n",
    "        tp+=1\n",
    "print('tp',tp,'fp',fp,'tn',tn,'fn',fn)"
   ]
  },
  {
   "cell_type": "code",
   "execution_count": null,
   "id": "98d01ada",
   "metadata": {},
   "outputs": [],
   "source": [
    "plt.clf()\n",
    "test=[math.floor(best_outputs[idx]/.99) for idx in range(len(best_outputs))]\n",
    "errors= [idx for idx in range(len(best_outputs)) if test[idx]!=int(best_labels[idx][0])]\n",
    "for x in errors:\n",
    "    batch = math.floor(x/32)\n",
    "    idx = x % 32\n",
    "    rgb_image=best_inputs[batch][idx][1:4]\n",
    "    buff0=rgb_image[0]\n",
    "    buff1=rgb_image[2]\n",
    "    rgb_image[0]=buff1\n",
    "    rgb_image[2]=buff0\n",
    "    plt.figure()\n",
    "    plt.imshow(np.swapaxes(rgb_image*3,0,2))\n",
    "    plt.title('Label'+str(best_labels[x])+'Output'+str(test[x]))"
   ]
  },
  {
   "cell_type": "code",
   "execution_count": null,
   "id": "19ab8aad",
   "metadata": {},
   "outputs": [],
   "source": [
    "plt.clf()"
   ]
  },
  {
   "cell_type": "code",
   "execution_count": null,
   "id": "a30eaf56",
   "metadata": {},
   "outputs": [],
   "source": [
    "print('Best:',best_val_acc, best_val_loss)\n",
    "print('Last:',final_val_acc, final_val_loss)"
   ]
  },
  {
   "cell_type": "code",
   "execution_count": null,
   "id": "1e982327",
   "metadata": {},
   "outputs": [],
   "source": []
  }
 ],
 "metadata": {
  "kernelspec": {
   "display_name": "Python 3 (ipykernel)",
   "language": "python",
   "name": "python3"
  },
  "language_info": {
   "codemirror_mode": {
    "name": "ipython",
    "version": 3
   },
   "file_extension": ".py",
   "mimetype": "text/x-python",
   "name": "python",
   "nbconvert_exporter": "python",
   "pygments_lexer": "ipython3",
   "version": "3.7.12"
  }
 },
 "nbformat": 4,
 "nbformat_minor": 5
}
