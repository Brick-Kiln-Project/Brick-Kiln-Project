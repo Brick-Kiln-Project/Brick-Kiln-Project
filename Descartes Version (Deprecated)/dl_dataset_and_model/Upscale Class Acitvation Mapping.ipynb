{
 "cells": [
  {
   "cell_type": "code",
   "execution_count": 1,
   "id": "47912f4a",
   "metadata": {},
   "outputs": [
    {
     "name": "stdout",
     "output_type": "stream",
     "text": [
      "Looking in indexes: https://pypi.org/simple, https://packagecloud.io/github/git-lfs/pypi/simple\n",
      "Requirement already satisfied: torchsummary in /opt/conda/lib/python3.7/site-packages (1.5.1)\n",
      "Note: you may need to restart the kernel to use updated packages.\n",
      "Looking in indexes: https://pypi.org/simple, https://packagecloud.io/github/git-lfs/pypi/simple\n",
      "Requirement already satisfied: opencv-contrib-python in /opt/conda/lib/python3.7/site-packages (4.6.0.66)\n",
      "Requirement already satisfied: numpy>=1.14.5 in /opt/conda/lib/python3.7/site-packages (from opencv-contrib-python) (1.21.6)\n"
     ]
    },
    {
     "name": "stderr",
     "output_type": "stream",
     "text": [
      "/opt/conda/lib/python3.7/site-packages/descarteslabs/_dl_modules/common/workflows/arrow_serialization/context.py:57: FutureWarning: 'pyarrow.SerializationContext' is deprecated and will be removed in a future version. Use pickle or the pyarrow IPC functionality instead.\n",
      "  serialization_context = pa.SerializationContext()\n",
      "/opt/conda/lib/python3.7/site-packages/descarteslabs/_dl_modules/common/workflows/arrow_serialization/context.py:58: FutureWarning: 'pyarrow.register_default_serialization_handlers' is deprecated as of 2.0.0 and will be removed in a future version. Use pickle or the pyarrow IPC functionality instead.\n",
      "  pa.register_default_serialization_handlers(serialization_context)\n"
     ]
    }
   ],
   "source": [
    "# try the imports\n",
    "import os\n",
    "import torch\n",
    "import math\n",
    "import numpy as np\n",
    "import pandas as pd\n",
    "import sys\n",
    "import random\n",
    "import matplotlib.pyplot as plt\n",
    "import skimage\n",
    "from descarteslabs import Storage, Auth\n",
    "%pip install torchsummary\n",
    "from torchsummary import summary\n",
    "sys.path.append(\"../\")\n",
    "import constants\n",
    "from tqdm.notebook import tqdm\n",
    "sys.path.append('../UI_Labeling')\n",
    "import config\n",
    "from torch.utils.data import Dataset, DataLoader\n",
    "\n",
    "import io\n",
    "from PIL import Image\n",
    "from torchvision import models, transforms\n",
    "from torch.autograd import Variable\n",
    "from torch.nn import functional as F\n",
    "!{sys.executable} -m pip install opencv-contrib-python\n",
    "import cv2\n",
    "import json\n",
    "import torchvision.transforms as T\n",
    "from torchvision import transforms\n",
    "\n",
    "from shapely.wkt import loads\n",
    "import geopandas\n",
    "from descarteslabs.scenes import DLTile\n",
    "import geojson\n",
    "import descarteslabs.workflows as wf\n",
    "from ipyleaflet import GeoJSON\n",
    "import json\n",
    "from descarteslabs.scenes import AOI\n",
    "from descarteslabs.workflows.models.exceptions import JobTimeoutError\n",
    "import torch\n",
    "from scipy import signal\n",
    "from scipy import ndimage"
   ]
  },
  {
   "cell_type": "code",
   "execution_count": 2,
   "id": "07f2b968",
   "metadata": {},
   "outputs": [],
   "source": [
    "device = \"cuda\" if torch.cuda.is_available() else \"cpu\"\n",
    "class Combo_BI_Dataset(Dataset):\n",
    "    \"\"\"\n",
    "    Dataset for country/ies DL Sentinel2 10-channel imagery.\n",
    "    \"\"\"\n",
    "    def __init__(self, DS_Name, balance=False, limit=0, mode=\"full\",transform=None):\n",
    "        super(Combo_BI_Dataset, self).__init__()\n",
    "        self.df=pd.DataFrame()\n",
    "        self.upsampled=True\n",
    "        self.transform=transform\n",
    "        \n",
    "        def add_dataset(dataset_name):\n",
    "            df=pd.read_csv(\"Image_Datasets/\"+dataset_name+'/metadata.csv')\n",
    "            if dataset_name == 'bangladesh_dl_dataset' or dataset_name == 'india_dl_dataset':\n",
    "                self.upsampled=False\n",
    "                \n",
    "            positives=0\n",
    "            negatives=0\n",
    "            if balance:\n",
    "                confirmed={'Image':{},'Label':{},'Geometry':{}}\n",
    "                denied={'Image':{},'Label':{},'Geometry':{}}\n",
    "                for idx in df['Label'].keys():\n",
    "                    if df['Label'][idx]:\n",
    "                        positives+=1\n",
    "                        confirmed['Image'][idx]=df['Image'][idx]\n",
    "                        confirmed['Label'][idx]=df['Label'][idx]\n",
    "                        confirmed['Geometry'][idx]=df['Geometry'][idx]\n",
    "                    else:\n",
    "                        negatives+=1\n",
    "                        denied['Image'][idx]=df['Image'][idx]\n",
    "                        denied['Label'][idx]=df['Label'][idx]\n",
    "                        denied['Geometry'][idx]=df['Geometry'][idx]\n",
    "                print('positives:',positives,'negatives:',negatives)    \n",
    "                if limit:\n",
    "                    random.seed(constants.RANDOM_STATE)\n",
    "                    sample_keys=random.sample(list(confirmed['Image'].keys()),min([len(confirmed['Image']),limit]))\n",
    "                    confirmed={'Image':{},'Label':{},'Geometry':{}}\n",
    "                    for idx in sample_keys:\n",
    "                        confirmed['Image'][idx]=df['Image'][idx]\n",
    "                        confirmed['Label'][idx]=df['Label'][idx]\n",
    "                        confirmed['Geometry'][idx]=df['Geometry'][idx]\n",
    "                random.seed(constants.RANDOM_STATE)\n",
    "                sample_keys=random.sample(list(denied['Image'].keys()),min([len(denied['Image']),math.ceil((len(confirmed['Image'])*3))]))\n",
    "                denied={'Image':{},'Label':{},'Geometry':{}}\n",
    "                for idx in sample_keys:\n",
    "                    denied['Image'][idx]=df['Image'][idx]\n",
    "                    denied['Label'][idx]=df['Label'][idx]\n",
    "                    denied['Geometry'][idx]=df['Geometry'][idx]\n",
    "                confirmed['Image'].update(denied['Image'])\n",
    "                confirmed['Label'].update(denied['Label'])\n",
    "                confirmed['Geometry'].update(denied['Geometry'])\n",
    "                df=pd.DataFrame().from_dict(confirmed)\n",
    "            #\"\"\"\n",
    "            df[\"Image\"]='Image_Datasets/'+dataset_name+'/'+df[\"Image\"]\n",
    "            df=df[['Image','Label']]\n",
    "            return df\n",
    "            \n",
    "    # ADD DATASETS HERE FOR TRAINING\n",
    "        \n",
    "        self.df = pd.concat([self.df,add_dataset(DS_Name)])\n",
    "        \n",
    "    # END EDITABLES\n",
    "        \n",
    "        self.df = self.df.sample(frac=1, random_state=constants.RANDOM_STATE)\n",
    "        \n",
    "        if mode == \"tiny\":\n",
    "            self.df = self.df.sample(frac=.05, random_state=constants.RANDOM_STATE)\n",
    "        \n",
    "    \n",
    "    def __getitem__(self, idx):\n",
    "        file_name, label = self.df.iloc[idx]\n",
    "        if not self.upsampled:\n",
    "            img = np.load(file_name)[1:4]\n",
    "            sr=cv2.dnn_superres.DnnSuperResImpl_create()\n",
    "            path=\"ESPCN_x4.pb\"\n",
    "            sr.readModel(path)\n",
    "            sr.setModel('espcn',4)\n",
    "            rgb=np.transpose(img)\n",
    "            rgb=rgb-np.min(rgb)\n",
    "            rgb=rgb/np.max(rgb)\n",
    "            rgb = np.uint8(255 * rgb)\n",
    "            result=sr.upsample(rgb)\n",
    "            img = torch.Tensor(result/256).float().to(device)\n",
    "        else:\n",
    "            img = torch.Tensor(np.load(file_name)/256).float().to(device)\n",
    "        label = torch.tensor([label]).to(device)\n",
    "        \n",
    "        if self.transform:\n",
    "            img=self.transform(np.transpose(img,(2,0,1)))\n",
    "            img= np.transpose(img,(1,2,0))*256\n",
    "        else:\n",
    "            img=img*256\n",
    "        img=img.int()\n",
    "        return img, label, file_name\n",
    "        \n",
    "        \n",
    "    def __len__(self):\n",
    "        return len(self.df)\n"
   ]
  },
  {
   "cell_type": "code",
   "execution_count": null,
   "id": "20b5d845",
   "metadata": {},
   "outputs": [],
   "source": [
    "transformList=None\n",
    "\"\"\"\n",
    "transformList=transforms.RandomApply(torch.nn.ModuleList([\n",
    "    transforms.ColorJitter(hue=.1,contrast=.25,saturation=.5,brightness=.5),\n",
    "    transforms.RandomAffine(15),\n",
    "]),p=.25)\n",
    "#\"\"\""
   ]
  },
  {
   "cell_type": "code",
   "execution_count": null,
   "id": "2266436a",
   "metadata": {},
   "outputs": [],
   "source": [
    "dataset=[]\n",
    "train_dset=None\n",
    "val_dset=None\n",
    "#Commend or uncomment for datasets you'd like to add.\n",
    "dataset.append(Combo_BI_Dataset('Upsampled_bangladesh_dl_dataset',True,858))\n",
    "dataset.append(Combo_BI_Dataset('Upsampled_india_dl_dataset',True,858))\n",
    "dataset.append(Combo_BI_Dataset('v2_Upsampled_high_sampled_india_dl_dataset',True,858,transform=transformList))\n",
    "dataset.append(Combo_BI_Dataset('v2_Upsampled_updatedModel_state_sampled_pakistan_dl_dataset',True,858,transform=transformList))\n",
    "dataset.append(Combo_BI_Dataset('v2_Upsampled_updatedModel_state_sampled_nepal_dl_dataset',True,858,transform=transformList))\n",
    "\n",
    "for dset in dataset:\n",
    "    train, val = torch.utils.data.random_split(\n",
    "        dset, \n",
    "        [len(dset)*8//10, len(dset)-len(dset)*8//10], # 80-10% split\n",
    "        generator=torch.Generator().manual_seed(constants.RANDOM_STATE)\n",
    "    )\n",
    "    if train_dset is None and val_dset is None:\n",
    "        train_dset=train\n",
    "        val_dset=val\n",
    "    else:\n",
    "        train_dset=torch.utils.data.ConcatDataset([train_dset,train])\n",
    "        val_dset=torch.utils.data.ConcatDataset([val_dset,val])\n",
    "print(f\"{len(train_dset)} training examples and {len(val_dset)} validation examples.\")\n",
    "train_loader = DataLoader(train_dset, batch_size=64,shuffle=True)\n",
    "val_loader = DataLoader(val_dset, batch_size=64,shuffle=True)"
   ]
  },
  {
   "cell_type": "code",
   "execution_count": null,
   "id": "723fa8b0",
   "metadata": {},
   "outputs": [],
   "source": [
    "from torchvision.models import resnet18\n",
    "import torch.nn as nn\n",
    "\n",
    "class Resnet(torch.nn.Module):\n",
    "    def __init__(self, num_channels, image_width, device=None, pretrained=False):\n",
    "        super(Resnet, self).__init__()\n",
    "        self.device = device        \n",
    "        self.resnet = resnet18(pretrained=pretrained)\n",
    "        self.resnet.conv1 = torch.nn.Conv2d(num_channels, image_width, kernel_size=(7, 7), stride=(2, 2), padding=(3, 3), bias=False)\n",
    "        self.resnet.fc = torch.nn.Linear(self.resnet.fc.in_features, 256).to(device)\n",
    "        self.final_fc = torch.nn.Linear(256, 1).to(device)\n",
    "        \n",
    "        self.resnet = self.resnet.to(device)\n",
    "        \n",
    "        self.sigmoid = nn.Sigmoid()\n",
    "        \n",
    "    def forward(self, x):\n",
    "        resnet_output = self.resnet(x)\n",
    "        outputs = self.final_fc(resnet_output)\n",
    "        outputs = self.sigmoid(outputs)\n",
    "        return outputs\n",
    "\n",
    "def load_checkpoint(model_checkpoint, model, device, optimizer=None):\n",
    "    \"\"\"\n",
    "    Loads a pretrained checkpoint to continue training\n",
    "    model_checkpoint: Path of the model_checkpoint that ends with .pth\n",
    "    model: model to load to\n",
    "    device: devide to load on (gpu/cpu)\n",
    "    optimizer (optional): optimize to load state to\n",
    "    \"\"\"\n",
    "    checkpoint = torch.load(model_checkpoint, map_location=device)\n",
    "    print('Loaded best state dict from epoch: {}'.format(checkpoint[\"epoch\"]))\n",
    "    model.load_state_dict(checkpoint[\"model_state_dict\"])\n",
    "    if optimizer is not None:\n",
    "        optimizer.load_state_dict(checkpoint['optimizer_state_dict'])\n",
    "    model.to(device)\n",
    "    return model"
   ]
  },
  {
   "cell_type": "code",
   "execution_count": null,
   "id": "66fd2895",
   "metadata": {},
   "outputs": [],
   "source": [
    "#Variables\n",
    "model_name = \"Upsampled_AugmentedTrain_bipn_v7\""
   ]
  },
  {
   "cell_type": "code",
   "execution_count": null,
   "id": "57c7a892",
   "metadata": {},
   "outputs": [],
   "source": [
    "device = \"cuda\" if torch.cuda.is_available() else \"cpu\"\n",
    "logdir = \"model_log_dl/\"+model_name+\"_50_training_steps/\"\n",
    "net = Resnet(3,64, device=device)\n",
    "net = load_checkpoint(f\"{logdir}/checkpoints/best_dl_best.pth\", \n",
    "                                 net, \n",
    "                                 device)\n",
    "\n",
    "finalconv_name='layer4'\n",
    "torch.nn.Upsample()\n",
    "net.eval()"
   ]
  },
  {
   "cell_type": "code",
   "execution_count": 8,
   "id": "5cf07cf4",
   "metadata": {},
   "outputs": [
    {
     "data": {
      "text/plain": [
       "<torch.utils.hooks.RemovableHandle at 0x7f4bd3a175d0>"
      ]
     },
     "execution_count": 8,
     "metadata": {},
     "output_type": "execute_result"
    }
   ],
   "source": [
    "features_blobs = []\n",
    "def hook_feature(module, input, output):\n",
    "    features_blobs.append(output.data.cpu().numpy())\n",
    "    \n",
    "net._modules.get('resnet')._modules.get(finalconv_name).register_forward_hook(hook_feature)"
   ]
  },
  {
   "cell_type": "code",
   "execution_count": 9,
   "id": "da996ddd",
   "metadata": {},
   "outputs": [],
   "source": [
    "params = list(net.parameters())\n",
    "weight_softmax = [np.dot(np.squeeze(params[-2].data.numpy()),(np.squeeze(params[-4].data.numpy())))]"
   ]
  },
  {
   "cell_type": "code",
   "execution_count": 10,
   "id": "31f43c48",
   "metadata": {},
   "outputs": [],
   "source": [
    "from scipy import signal"
   ]
  },
  {
   "cell_type": "code",
   "execution_count": 11,
   "id": "b815e1d2",
   "metadata": {},
   "outputs": [],
   "source": [
    "def returnOriginalCAM(feature_conv, weight_softmax, class_idx):\n",
    "    # generate the class activation maps upsample to 256x256\n",
    "    size_upsample = (256, 256)\n",
    "    bz, nc, h, w = feature_conv.shape\n",
    "    output_cam = []\n",
    "    labeled=[]\n",
    "    nr_objects=[]\n",
    "    centers=[]\n",
    "    for idx in class_idx:\n",
    "        cam = (weight_softmax[idx]).dot(feature_conv.reshape((nc, h*w)))\n",
    "        cam = cam.reshape(h, w)\n",
    "        \n",
    "        #normalize\n",
    "        cam = cam - np.min(cam)\n",
    "        cam = cam / np.max(cam)\n",
    "        \n",
    "        #print(cam)\n",
    "        #calculate mean and convolute using large mask\n",
    "        \"\"\"\n",
    "        mean = np.mean(cam[np.nonzero(cam)])\n",
    "        cam = cam-mean\n",
    "        cam = np.clip(cam,0,None)\n",
    "        cam = cv2.GaussianBlur(cam,(5,5),0)\n",
    "        \n",
    "        #convolve=signal.convolve2d(cam,mask1)\n",
    "        #cam=convolve\n",
    "        #\"\"\"\n",
    "        \n",
    "        #calculate mean and convolute using medium mask\n",
    "        \"\"\"\n",
    "        mean = np.mean(cam[np.nonzero(cam)])\n",
    "        cam = cam-mean\n",
    "        cam = np.clip(cam,0,None)\n",
    "        #cam = cv2.GaussianBlur(cam,(3,3),0)\n",
    "        \n",
    "        #convolve=signal.convolve2d(cam,mask3)\n",
    "        #cam=convolve\n",
    "        #\"\"\"\n",
    "        \n",
    "        #calculate mean and convolute using small mask\n",
    "        #\"\"\"\n",
    "        #mean = np.mean(cam[np.nonzero(cam)])\n",
    "        #cam = cam-mean\n",
    "        #cam = np.clip(cam,0,None)\n",
    "        #cam = cv2.GaussianBlur(cam,(3,3),0)\n",
    "        #\"\"\"\n",
    "        \n",
    "        #calculate mean and send the final cam\n",
    "        \"\"\"\n",
    "        mean = np.mean(cam[np.nonzero(cam)])\n",
    "        cam = cam-mean\n",
    "        #cam = np.clip(cam,0,None)\n",
    "        #mean = np.mean(cam[np.nonzero(cam)])\n",
    "        #cam = cam-mean\n",
    "        #\"\"\"\n",
    "        \n",
    "        cam_img = np.clip(cam,0,None)\n",
    "        cam_img=cv2.resize(cam_img, size_upsample)\n",
    "        cam_img = np.uint8(255 * cam_img)\n",
    "        output_cam.append(cam_img)\n",
    "        labeled1,nr_objects1=ndimage.label(output_cam)\n",
    "        labeled.append(labeled1)\n",
    "        nr_objects.append(nr_objects1)\n",
    "        centers1=ndimage.measurements.center_of_mass(output_cam[-1].squeeze(),labeled[-1].squeeze(),range(1,nr_objects1+1))\n",
    "        centers.append(centers1)\n",
    "    return output_cam,labeled,nr_objects,centers\n",
    "\n",
    "def returnCAM(feature_conv, weight_softmax, class_idx):\n",
    "    # generate the class activation maps upsample to 256x256\n",
    "    size_upsample = (256, 256)\n",
    "    bz, nc, h, w = feature_conv.shape\n",
    "    output_cam = []\n",
    "    labeled=[]\n",
    "    nr_objects=[]\n",
    "    centers=[]\n",
    "    for idx in class_idx:\n",
    "        cam = weight_softmax[idx].dot(feature_conv.reshape((nc, h*w)))\n",
    "        cam = cam.reshape(h, w)\n",
    "        \n",
    "        #normalize\n",
    "        cam = cam - np.min(cam)\n",
    "        cam = cam / np.max(cam)\n",
    "        \n",
    "        #print(cam)\n",
    "        #calculate mean and convolute using large mask\n",
    "        #\"\"\"\n",
    "        mean = np.mean(cam[np.nonzero(cam)])\n",
    "        cam = cam-mean\n",
    "        cam = np.clip(cam,0,None)\n",
    "        cam = cv2.GaussianBlur(cam,(5,5),0)\n",
    "        \n",
    "        #convolve=signal.convolve2d(cam,mask1)\n",
    "        #cam=convolve\n",
    "        #\"\"\"\n",
    "        \n",
    "        #calculate mean and convolute using medium mask\n",
    "        #\"\"\"\n",
    "        mean = np.mean(cam[np.nonzero(cam)])\n",
    "        cam = cam-mean\n",
    "        cam = np.clip(cam,0,None)\n",
    "        #cam = cv2.GaussianBlur(cam,(3,3),0)\n",
    "        \n",
    "        #convolve=signal.convolve2d(cam,mask3)\n",
    "        #cam=convolve\n",
    "        #\"\"\"\n",
    "        \n",
    "        #calculate mean and convolute using small mask\n",
    "        #\"\"\"\n",
    "        #mean = np.mean(cam[np.nonzero(cam)])\n",
    "        #cam = cam-mean\n",
    "        #cam = np.clip(cam,0,None)\n",
    "        #cam = cv2.GaussianBlur(cam,(3,3),0)\n",
    "        #\"\"\"\n",
    "        \n",
    "        #calculate mean and send the final cam\n",
    "        #\"\"\"\n",
    "        mean = np.mean(cam[np.nonzero(cam)])\n",
    "        cam = cam-mean\n",
    "        #cam = np.clip(cam,0,None)\n",
    "        #mean = np.mean(cam[np.nonzero(cam)])\n",
    "        #cam = cam-mean\n",
    "        #\"\"\"\n",
    "        \n",
    "        cam_img = np.clip(cam,0,None)\n",
    "        cam_img=cv2.resize(cam_img, size_upsample)\n",
    "        cam_img = np.uint8(255 * cam_img)\n",
    "        output_cam.append(cam_img)\n",
    "        labeled1,nr_objects1=ndimage.label(output_cam)\n",
    "        labeled.append(labeled1)\n",
    "        nr_objects.append(nr_objects1)\n",
    "        centers1=ndimage.measurements.center_of_mass(output_cam[-1].squeeze(),labeled[-1].squeeze(),range(1,nr_objects1+1))\n",
    "        centers.append(centers1)\n",
    "    return output_cam,labeled,nr_objects,centers"
   ]
  },
  {
   "cell_type": "code",
   "execution_count": 12,
   "id": "1daf2c24",
   "metadata": {},
   "outputs": [],
   "source": [
    "bands = \"red green blue\"\n",
    "s2=wf.ImageCollection.from_id(\n",
    "    \"esa:sentinel-2:l2a:v1\",\n",
    "    start_datetime='2018-11-01',\n",
    "    end_datetime='2019-03-01',\n",
    ")\n",
    "\n",
    "s2_bands = s2.pick_bands(bands)\n",
    "s2_bands = s2_bands.filter(lambda img: img.properties[\"cloud_fraction\"]<0.1)\n",
    "s2_bands = s2_bands.median(axis=\"images\")"
   ]
  },
  {
   "cell_type": "code",
   "execution_count": 13,
   "id": "10f1189a",
   "metadata": {},
   "outputs": [
    {
     "data": {
      "application/vnd.jupyter.widget-view+json": {
       "model_id": "dd1fd2aab6c84d85b961ac9690014437",
       "version_major": 2,
       "version_minor": 0
      },
      "text/plain": [
       "  0%|          | 0/2183 [00:00<?, ?it/s]"
      ]
     },
     "metadata": {},
     "output_type": "display_data"
    },
    {
     "data": {
      "text/plain": [
       "<Figure size 432x288 with 0 Axes>"
      ]
     },
     "metadata": {},
     "output_type": "display_data"
    },
    {
     "data": {
      "image/png": "[encoded data removed]",
      "text/plain": [
       "<Figure size 432x288 with 1 Axes>"
      ]
     },
     "metadata": {
      "needs_background": "light"
     },
     "output_type": "display_data"
    },
    {
     "name": "stdout",
     "output_type": "stream",
     "text": [
      "Val False: [1098.  188.   78.   42.   35.   25.   12.    8.   13.   11.    5.    6.\n",
      "    2.    5.    5.    5.    4.    0.    5.    7.]\n",
      "Val True: [ 34.  19.  20.  15.  10.  13.   7.   9.  14.   9.  14.  11.  18.  17.\n",
      "  19.  18.  32.  32.  65. 253.]\n"
     ]
    }
   ],
   "source": [
    "#Show Distribution of Prediction Probabilities\n",
    "#\"\"\"\n",
    "plt.clf()\n",
    "distribution=[]\n",
    "ef=np.zeros(20)\n",
    "et=np.zeros(20)\n",
    "fpositives=[]\n",
    "fnegatives=[]\n",
    "temp_blobs=[]\n",
    "\n",
    "for x in tqdm(range(len(val_dset))):\n",
    "    img=val_dset[x][0]\n",
    "    img_variable = Variable(img.unsqueeze(0).float())\n",
    "    logit = net(img_variable).detach().numpy()[0]\n",
    "    valuation=val_dset[x][1].detach().numpy()\n",
    "    ix=math.floor(logit/.05)\n",
    "    if ix >= 20:\n",
    "        ix = 19\n",
    "    if valuation:\n",
    "        et[ix]+=1\n",
    "    else:\n",
    "        ef[ix]+=1\n",
    "    \n",
    "    if np.logical_xor(logit>=.9,valuation==1.0):\n",
    "        if logit>=.9:\n",
    "            fpositives.append([img,logit,valuation,x])\n",
    "        else:\n",
    "            fnegatives.append([img,logit,valuation,x])\n",
    "            \n",
    "temp_blobs=features_blobs\n",
    "stack=np.vstack([ef,et])\n",
    "fig, ax = plt.subplots()\n",
    "ax.stackplot(np.arange(0,100,5), stack)\n",
    "plt.legend(['Val False', 'Val True'])\n",
    "plt.show()\n",
    "print('Val False:',stack[0])\n",
    "print('Val True:',stack[1])\n",
    "#\"\"\""
   ]
  },
  {
   "cell_type": "code",
   "execution_count": 14,
   "id": "4258a8b5",
   "metadata": {},
   "outputs": [
    {
     "name": "stdout",
     "output_type": "stream",
     "text": [
      "False Negativse: 311\n",
      "False Positives: 12\n"
     ]
    },
    {
     "name": "stderr",
     "output_type": "stream",
     "text": [
      "/opt/conda/lib/python3.7/site-packages/ipykernel_launcher.py:2: FutureWarning: In a future version of pandas all arguments of DataFrame.sort_values except for the argument 'by' will be keyword-only\n",
      "  \n",
      "/opt/conda/lib/python3.7/site-packages/ipykernel_launcher.py:5: FutureWarning: In a future version of pandas all arguments of DataFrame.sort_values except for the argument 'by' will be keyword-only\n",
      "  \"\"\"\n"
     ]
    }
   ],
   "source": [
    "fneg=pd.DataFrame(fnegatives,columns=['img','logit','valuation','x'])\n",
    "fneg=fneg.sort_values(['logit'],0)\n",
    "\n",
    "fpos=pd.DataFrame(fpositives,columns=['img','logit','valuation','x'])\n",
    "fpos=fpos.sort_values(['logit'],0)\n",
    "\n",
    "fnsamples=fneg.head(min([len(fneg),10]))\n",
    "fntailsamples=None\n",
    "\n",
    "fpsamples=fpos.head(min([len(fpos),10]))\n",
    "fptailsamples=None\n",
    "\n",
    "if len(fneg)>10:\n",
    "    fntailsamples=fneg.tail(min([10,len(fneg)-10]))\n",
    "\n",
    "if len(fpos)>10:\n",
    "    fptailsamples=fpos.tail(min([10,len(fpos)-10]))\n",
    "print('False Negativse:',len(fnegatives))\n",
    "print('False Positives:',len(fpositives))"
   ]
  },
  {
   "cell_type": "code",
   "execution_count": 15,
   "id": "6a7a724d",
   "metadata": {},
   "outputs": [
    {
     "data": {
      "application/vnd.jupyter.widget-view+json": {
       "model_id": "a9c7bb0050f94d8eb1b530fa884797c7",
       "version_major": 2,
       "version_minor": 0
      },
      "text/plain": [
       "Canvas(toolbar=Toolbar(toolitems=[('Home', 'Reset original view', 'home', 'home'), ('Back', 'Back to previous …"
      ]
     },
     "metadata": {},
     "output_type": "display_data"
    },
    {
     "data": {
      "application/vnd.jupyter.widget-view+json": {
       "model_id": "785f668e319d456e8908bc26f128f7a2",
       "version_major": 2,
       "version_minor": 0
      },
      "text/plain": [
       "Canvas(toolbar=Toolbar(toolitems=[('Home', 'Reset original view', 'home', 'home'), ('Back', 'Back to previous …"
      ]
     },
     "metadata": {},
     "output_type": "display_data"
    },
    {
     "data": {
      "application/vnd.jupyter.widget-view+json": {
       "model_id": "743f48ee90ca45a291aaf19d1b40971c",
       "version_major": 2,
       "version_minor": 0
      },
      "text/plain": [
       "Canvas(toolbar=Toolbar(toolitems=[('Home', 'Reset original view', 'home', 'home'), ('Back', 'Back to previous …"
      ]
     },
     "metadata": {},
     "output_type": "display_data"
    },
    {
     "data": {
      "application/vnd.jupyter.widget-view+json": {
       "model_id": "5e45bc50d44e41c78d7d54d907cc31fa",
       "version_major": 2,
       "version_minor": 0
      },
      "text/plain": [
       "Canvas(toolbar=Toolbar(toolitems=[('Home', 'Reset original view', 'home', 'home'), ('Back', 'Back to previous …"
      ]
     },
     "metadata": {},
     "output_type": "display_data"
    }
   ],
   "source": [
    "%matplotlib widget\n",
    "title=['Lowest Prob False Positives','Highest Prob False Positives','Lowest Prob False Negatives','Highest Prob False Negatives']\n",
    "for y,section in enumerate([fpsamples,fptailsamples,fnsamples,fntailsamples]):\n",
    "    if section is not None and len(section)>0:\n",
    "        lfig= plt.figure(title[y])\n",
    "        subfigs = lfig.subfigures(3,4)\n",
    "        for x,idx in enumerate(section.index):\n",
    "            sample=section.loc[idx].values.flatten()\n",
    "\n",
    "            CAMs,labeled,nr_objects,centers = returnCAM(temp_blobs[sample[3]], weight_softmax, [0])\n",
    "            oCAMs,olabeled,onr_objects,ocenters = returnOriginalCAM(temp_blobs[sample[3]],weight_softmax,[0])\n",
    "            subplot=subfigs[math.floor(x/4)][x%4].subplots(2,2)\n",
    "            subfigs[math.floor(x/4)][x%4].suptitle('Pred:'+str(sample[1])+' Label:'+str(sample[2]))\n",
    "            subplot[0,0].imshow(oCAMs[-1])\n",
    "            subplot[0,0].axis('off')\n",
    "            subplot[0,1].imshow(CAMs[-1])\n",
    "            subplot[0,1].axis('off')    \n",
    "            subplot[1,0].imshow(np.transpose(labeled[-1],(1,2,0)))\n",
    "            subplot[1,0].axis('off')\n",
    "            subplot[1,1].imshow(np.transpose(sample[0].int(),(1,2,0)))\n",
    "            subplot[1,1].axis('off')\n"
   ]
  },
  {
   "cell_type": "code",
   "execution_count": null,
   "id": "7599c681",
   "metadata": {},
   "outputs": [],
   "source": []
  }
 ],
 "metadata": {
  "kernelspec": {
   "display_name": "Python 3 (ipykernel)",
   "language": "python",
   "name": "python3"
  },
  "language_info": {
   "codemirror_mode": {
    "name": "ipython",
    "version": 3
   },
   "file_extension": ".py",
   "mimetype": "text/x-python",
   "name": "python",
   "nbconvert_exporter": "python",
   "pygments_lexer": "ipython3",
   "version": "3.10.6"
  }
 },
 "nbformat": 4,
 "nbformat_minor": 5
}
