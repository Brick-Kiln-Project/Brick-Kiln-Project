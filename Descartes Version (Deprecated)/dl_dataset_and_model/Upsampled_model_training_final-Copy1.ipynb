{
 "cells": [
  {
   "cell_type": "markdown",
   "id": "9affbf38",
   "metadata": {},
   "source": [
    "## Rewrite and re-train fully supervised NN on DL imagery\n",
    "- Can't use old code because it was written for Torch 1.10, and DL supports up to 1.7\n",
    "\n",
    "### Components: \n",
    "1. Dataloader\n",
    "2. Neural net backbone\n",
    "3. Training loop\n",
    "4. Analytics/model logging"
   ]
  },
  {
   "cell_type": "code",
   "execution_count": 1,
   "id": "9cfc952b",
   "metadata": {},
   "outputs": [
    {
     "name": "stdout",
     "output_type": "stream",
     "text": [
      "Looking in indexes: https://pypi.org/simple, https://packagecloud.io/github/git-lfs/pypi/simple\n",
      "Collecting opencv-contrib-python\n",
      "  Using cached opencv_contrib_python-4.6.0.66-cp36-abi3-manylinux_2_17_x86_64.manylinux2014_x86_64.whl (67.1 MB)\n",
      "Requirement already satisfied: numpy>=1.14.5 in /opt/conda/lib/python3.7/site-packages (from opencv-contrib-python) (1.21.6)\n",
      "Installing collected packages: opencv-contrib-python\n",
      "Successfully installed opencv-contrib-python-4.6.0.66\n"
     ]
    }
   ],
   "source": [
    "# try the imports\n",
    "import os\n",
    "import torch\n",
    "import math\n",
    "import numpy as np\n",
    "import pandas as pd\n",
    "import sys\n",
    "import random\n",
    "from descarteslabs import Storage, Auth\n",
    "sys.path.append(\"../\")\n",
    "import constants\n",
    "from tqdm.notebook import tqdm\n",
    "sys.path.append('../UI_Labeling')\n",
    "import config\n",
    "from torch.utils.data import Dataset, DataLoader\n",
    "from torchvision import transforms\n",
    "\n",
    "!{sys.executable} -m pip install opencv-contrib-python\n",
    "import cv2"
   ]
  },
  {
   "cell_type": "code",
   "execution_count": 2,
   "id": "7b6559ee",
   "metadata": {},
   "outputs": [
    {
     "name": "stdout",
     "output_type": "stream",
     "text": [
      "1.7.1+cpu\n"
     ]
    }
   ],
   "source": [
    "print(torch.__version__)"
   ]
  },
  {
   "cell_type": "code",
   "execution_count": 21,
   "id": "0e5c0c12",
   "metadata": {},
   "outputs": [],
   "source": [
    "#Variables\n",
    "model_name = \"Upsampled_Train_bipn\""
   ]
  },
  {
   "cell_type": "code",
   "execution_count": 22,
   "id": "010a8912",
   "metadata": {},
   "outputs": [
    {
     "data": {
      "text/plain": [
       "'\\ntransformList=transforms.RandomApply(torch.nn.ModuleList([\\n    transforms.ColorJitter(hue=.1,contrast=.25,saturation=.25,brightness=.25),\\n    transforms.RandomAffine(15),\\n]),p=.25)\\n#'"
      ]
     },
     "execution_count": 22,
     "metadata": {},
     "output_type": "execute_result"
    }
   ],
   "source": [
    "#Transformations\n",
    "transformList=None\n",
    "\"\"\"\n",
    "transformList=transforms.RandomApply(torch.nn.ModuleList([\n",
    "    transforms.ColorJitter(hue=.1,contrast=.25,saturation=.25,brightness=.25),\n",
    "    transforms.RandomAffine(15),\n",
    "]),p=.25)\n",
    "#\"\"\""
   ]
  },
  {
   "cell_type": "code",
   "execution_count": 23,
   "id": "20020317",
   "metadata": {},
   "outputs": [],
   "source": [
    "device = \"cuda\" if torch.cuda.is_available() else \"cpu\"\n",
    "class Combo_BI_Dataset(Dataset):\n",
    "    \"\"\"\n",
    "    Dataset for country/ies DL Sentinel2 10-channel imagery.\n",
    "    \"\"\"\n",
    "    def __init__(self, DS_Name, balance=False, limit=0, mode=\"full\",transform=None):\n",
    "        super(Combo_BI_Dataset, self).__init__()\n",
    "        self.df=pd.DataFrame()\n",
    "        self.upsampled=True\n",
    "        self.transform=transform\n",
    "        \n",
    "        def add_dataset(dataset_name):\n",
    "            df=pd.read_csv(\"Image_Datasets/\"+dataset_name+'/metadata.csv')\n",
    "            if dataset_name == 'bangladesh_dl_dataset' or dataset_name == 'india_dl_dataset':\n",
    "                self.upsampled=False\n",
    "                \n",
    "            if balance:\n",
    "                confirmed={'Image':{},'Label':{},'Geometry':{}}\n",
    "                denied={'Image':{},'Label':{},'Geometry':{}}\n",
    "                for idx in df['Label'].keys():\n",
    "                    if df['Label'][idx]:\n",
    "                        confirmed['Image'][idx]=df['Image'][idx]\n",
    "                        confirmed['Label'][idx]=df['Label'][idx]\n",
    "                        confirmed['Geometry'][idx]=df['Geometry'][idx]\n",
    "                    else:\n",
    "                        denied['Image'][idx]=df['Image'][idx]\n",
    "                        denied['Label'][idx]=df['Label'][idx]\n",
    "                        denied['Geometry'][idx]=df['Geometry'][idx]\n",
    "                        \n",
    "                if limit:\n",
    "                    random.seed(constants.RANDOM_STATE)\n",
    "                    sample_keys=random.sample(list(confirmed['Image'].keys()),min([len(confirmed['Image']),limit]))\n",
    "                    confirmed={'Image':{},'Label':{},'Geometry':{}}\n",
    "                    for idx in sample_keys:\n",
    "                        confirmed['Image'][idx]=df['Image'][idx]\n",
    "                        confirmed['Label'][idx]=df['Label'][idx]\n",
    "                        confirmed['Geometry'][idx]=df['Geometry'][idx]\n",
    "                random.seed(constants.RANDOM_STATE)\n",
    "                sample_keys=random.sample(list(denied['Image'].keys()),min([len(denied['Image']),math.ceil((len(confirmed['Image'])*3))]))\n",
    "                denied={'Image':{},'Label':{},'Geometry':{}}\n",
    "                for idx in sample_keys:\n",
    "                    denied['Image'][idx]=df['Image'][idx]\n",
    "                    denied['Label'][idx]=df['Label'][idx]\n",
    "                    denied['Geometry'][idx]=df['Geometry'][idx]\n",
    "                confirmed['Image'].update(denied['Image'])\n",
    "                confirmed['Label'].update(denied['Label'])\n",
    "                confirmed['Geometry'].update(denied['Geometry'])\n",
    "                df=pd.DataFrame().from_dict(confirmed)\n",
    "            #\"\"\"\n",
    "            df[\"Image\"]='Image_Datasets/'+dataset_name+'/'+df[\"Image\"]\n",
    "            df=df[['Image','Label']]\n",
    "            return df\n",
    "            \n",
    "    # ADD DATASETS HERE FOR TRAINING\n",
    "        \n",
    "        self.df = pd.concat([self.df,add_dataset(DS_Name)])\n",
    "        \n",
    "    # END EDITABLES\n",
    "        \n",
    "        self.df = self.df.sample(frac=1, random_state=constants.RANDOM_STATE)\n",
    "        \n",
    "        if mode == \"tiny\":\n",
    "            self.df = self.df.sample(frac=.05, random_state=constants.RANDOM_STATE)\n",
    "        \n",
    "    \n",
    "    def __getitem__(self, idx):\n",
    "        file_name, label = self.df.iloc[idx]\n",
    "        if not self.upsampled:\n",
    "            img = np.load(file_name)[1:4]\n",
    "            sr=cv2.dnn_superres.DnnSuperResImpl_create()\n",
    "            path=\"ESPCN_x4.pb\"\n",
    "            sr.readModel(path)\n",
    "            sr.setModel('espcn',4)\n",
    "            rgb=np.transpose(img)\n",
    "            rgb=rgb-np.min(rgb)\n",
    "            rgb=rgb/np.max(rgb)\n",
    "            rgb = np.uint8(255 * rgb)\n",
    "            result=sr.upsample(rgb)\n",
    "            img = torch.Tensor(result/256).to(device)\n",
    "        else:\n",
    "            img = torch.Tensor(np.load(file_name)/256).to(device)\n",
    "        \n",
    "        if self.transform:\n",
    "            img=self.transform(img)\n",
    "            img=img*256\n",
    "        else:\n",
    "            img=img*256\n",
    "        img.int()\n",
    "            \n",
    "        label = torch.Tensor([label]).to(device)\n",
    "        \n",
    "        return img, label\n",
    "        \n",
    "        \n",
    "    def __len__(self):\n",
    "        return len(self.df)\n"
   ]
  },
  {
   "cell_type": "code",
   "execution_count": 24,
   "id": "748a7c1e",
   "metadata": {},
   "outputs": [],
   "source": [
    "from torchvision.models import resnet18\n",
    "import torch.nn as nn\n",
    "\n",
    "class Resnet(torch.nn.Module):\n",
    "    def __init__(self, num_channels, image_width=64, device=None, pretrained=False):\n",
    "        super(Resnet, self).__init__()\n",
    "        self.device = device        \n",
    "        self.resnet = resnet18(pretrained=pretrained)\n",
    "        self.resnet.conv1 = torch.nn.Conv2d(num_channels, image_width, kernel_size=(7, 7), stride=(2, 2), padding=(3, 3), bias=False)\n",
    "        self.resnet.fc = torch.nn.Linear(self.resnet.fc.in_features, 256).to(device)\n",
    "        self.final_fc = torch.nn.Linear(256, 1).to(device)\n",
    "        \n",
    "        self.resnet = self.resnet.to(device)\n",
    "        \n",
    "        self.sigmoid = nn.Sigmoid()\n",
    "        \n",
    "    def forward(self, x):\n",
    "        resnet_output = self.resnet(x)\n",
    "        outputs = self.final_fc(resnet_output)\n",
    "        outputs = self.sigmoid(outputs)\n",
    "        return outputs\n",
    "    "
   ]
  },
  {
   "cell_type": "code",
   "execution_count": 25,
   "id": "310aa243",
   "metadata": {},
   "outputs": [],
   "source": [
    "def train_one_epoch(model, train_loader, optimizer, criterion):\n",
    "    model.train()\n",
    "    running_loss = 0.0\n",
    "    for batch_iter, (inputs, labels) in enumerate(train_loader):\n",
    "        optimizer.zero_grad()\n",
    "        outputs = model(np.transpose(inputs,(0,1,2,3)))\n",
    "        \n",
    "        loss = criterion(outputs, labels)\n",
    "        \n",
    "        running_loss += loss.item()\n",
    "\n",
    "        loss.backward()\n",
    "        optimizer.step()\n",
    "        torch.cuda.empty_cache()\n",
    "    \n",
    "    return running_loss / batch_iter\n",
    "        \n",
    "        \n",
    "def evaluate_model(model, val_loader):\n",
    "    model.eval()\n",
    "    running_loss = 0.0\n",
    "    with torch.no_grad():\n",
    "        all_labels = []\n",
    "        all_preds = []\n",
    "        all_outputs = []\n",
    "        for batch_iter, (inputs, labels) in enumerate(val_loader):\n",
    "\n",
    "            outputs = model(np.transpose(inputs,(0,1,2,3)))\n",
    "            loss = criterion(outputs, labels)\n",
    "            running_loss += loss.item()\n",
    "            \n",
    "            outputs = outputs.cpu().detach().numpy()\n",
    "            labels = labels.cpu().detach().numpy()\n",
    "            preds = (outputs > .5).astype('int')\n",
    "            \n",
    "            all_labels.append(labels)\n",
    "            all_preds.append(preds)\n",
    "            all_outputs.append(outputs)\n",
    "        \n",
    "        all_labels = np.array([label for vec in all_labels for label in vec])\n",
    "        all_preds = np.stack([pred for vec in all_preds for pred in vec])\n",
    "        all_outputs = np.stack([output for vec in all_outputs for output in vec])\n",
    "        val_acc = np.mean((all_labels == all_preds).astype('int'))\n",
    "            \n",
    "    return val_acc, running_loss / batch_iter, all_labels, all_outputs\n",
    "\n",
    "def save_checkpoint(logdir, model, optimizer, epoch, loss, lr, best=None,last=None):\n",
    "    \"\"\"\n",
    "    Saves model checkpoint after each epoch\n",
    "    logdir: Log directory\n",
    "    model: model to save\n",
    "    optimizer: optimizer to save\n",
    "    epoch: epoch to save on\n",
    "    loss: loss to log\n",
    "    lr: learning rate to log\n",
    "    best: An optional string used to specify which validation method this best\n",
    "    checkpoint is for\n",
    "    \"\"\"\n",
    "    checkpoint_dir = os.path.join(logdir, \"checkpoints\")\n",
    "    os.makedirs(checkpoint_dir, exist_ok=True)\n",
    "    if best:\n",
    "        print(f\"Saving checkpoint, {best}.\")\n",
    "        checkpoint_path = \"{}/best_{}.pth\".format(checkpoint_dir, best)\n",
    "    elif last:\n",
    "        print(f\"Saving last, {last}.\")\n",
    "        checkpoint_path = \"{}/last_{}.pth\".format(checkpoint_dir,last)\n",
    "    else:\n",
    "        checkpoint_path = \"{}/lr{}_epoch{}.pth\".format(checkpoint_dir, lr, epoch)\n",
    "\n",
    "    torch.save({\n",
    "            'epoch': epoch,\n",
    "            'model_state_dict': model.state_dict(),\n",
    "            'optimizer_state_dict': optimizer.state_dict(),\n",
    "            'loss': loss,\n",
    "            }, checkpoint_path)\n",
    "\n",
    "    if not best:\n",
    "        print(\"Saving checkpoint to lr{}_epoch{}\".format(lr, epoch))\n",
    "        \n",
    "\n",
    "def load_checkpoint(model_checkpoint, model, device, optimizer=None):\n",
    "    \"\"\"\n",
    "    Loads a pretrained checkpoint to continue training\n",
    "    model_checkpoint: Path of the model_checkpoint that ends with .pth\n",
    "    model: model to load to\n",
    "    device: devide to load on (gpu/cpu)\n",
    "    optimizer (optional): optimize to load state to\n",
    "    \"\"\"\n",
    "    checkpoint = torch.load(model_checkpoint, map_location=device)\n",
    "    print('Loaded best state dict from epoch: {}'.format(checkpoint[\"epoch\"]))\n",
    "    model.load_state_dict(checkpoint[\"model_state_dict\"])\n",
    "    if optimizer is not None:\n",
    "        optimizer.load_state_dict(checkpoint['optimizer_state_dict'])\n",
    "    model.to(device)\n",
    "    return model"
   ]
  },
  {
   "cell_type": "code",
   "execution_count": 26,
   "id": "32157ea2",
   "metadata": {},
   "outputs": [
    {
     "name": "stdout",
     "output_type": "stream",
     "text": [
      "8717 training examples and 2183 validation examples.\n"
     ]
    }
   ],
   "source": [
    "dataset=[]\n",
    "train_dset=None\n",
    "val_dset=None\n",
    "#Commend or uncomment for datasets you'd like to add.\n",
    "dataset.append(Combo_BI_Dataset('Upsampled_bangladesh_dl_dataset',True,858,transform=transformList))\n",
    "dataset.append(Combo_BI_Dataset('Upsampled_india_dl_dataset',True,858,transform=transformList))\n",
    "dataset.append(Combo_BI_Dataset('v2_Upsampled_high_sampled_india_dl_dataset',True,858,transform=transformList))\n",
    "dataset.append(Combo_BI_Dataset('v2_Upsampled_updatedModel_state_sampled_pakistan_dl_dataset',True,858,transform=transformList))\n",
    "dataset.append(Combo_BI_Dataset('v2_Upsampled_updatedModel_state_sampled_nepal_dl_dataset',True,858,transform=transformList))\n",
    "\n",
    "for dset in dataset:\n",
    "    train, val = torch.utils.data.random_split(\n",
    "        dset, \n",
    "        [len(dset)*8//10, len(dset)-len(dset)*8//10], # 80-10% split\n",
    "        generator=torch.Generator().manual_seed(constants.RANDOM_STATE)\n",
    "    )\n",
    "    if train_dset is None and val_dset is None:\n",
    "        train_dset=train\n",
    "        val_dset=val\n",
    "    else:\n",
    "        train_dset=torch.utils.data.ConcatDataset([train_dset,train])\n",
    "        val_dset=torch.utils.data.ConcatDataset([val_dset,val])\n",
    "print(f\"{len(train_dset)} training examples and {len(val_dset)} validation examples.\")\n",
    "train_loader = DataLoader(train_dset, batch_size=64,shuffle=True)\n",
    "val_loader = DataLoader(val_dset, batch_size=64,shuffle=True)"
   ]
  },
  {
   "cell_type": "code",
   "execution_count": 27,
   "id": "c3954dc0",
   "metadata": {},
   "outputs": [],
   "source": [
    "# let's give it a whirl\n",
    "\n",
    "# some things to try for speedups:\n",
    "# torch.cuda.empty_cache()\n",
    "# change number of workers, use detach instead of just \n",
    "N_EPOCHS = 50\n",
    "model = Resnet(3, device=device)\n",
    "lr = 1e-4\n",
    "optimizer = torch.optim.Adam(model.parameters(), lr=lr)\n",
    "criterion = nn.BCELoss()\n",
    "\n",
    "best_val_loss = None\n",
    "\n",
    "logdir = \"model_log_dl/\"+model_name+\"_50_training_steps/\"\n"
   ]
  },
  {
   "cell_type": "markdown",
   "id": "39d6ba1d",
   "metadata": {},
   "source": [
    "## BUFFER"
   ]
  },
  {
   "cell_type": "code",
   "execution_count": 28,
   "id": "9dd7ef9b",
   "metadata": {},
   "outputs": [
    {
     "data": {
      "application/vnd.jupyter.widget-view+json": {
       "model_id": "25f338dceb5149dfac51839321f3abc8",
       "version_major": 2,
       "version_minor": 0
      },
      "text/plain": [
       "  0%|          | 0/50 [00:00<?, ?it/s]"
      ]
     },
     "metadata": {},
     "output_type": "display_data"
    },
    {
     "name": "stdout",
     "output_type": "stream",
     "text": [
      "Train_loss: 0.482631, Val-acc: 0.77096, Val-loss: 0.46164\n",
      "Saving checkpoint to lr0.0001_epoch0\n",
      "Early Stop: 0 /7\n",
      "Train_loss: 0.434519, Val-acc: 0.75951, Val-loss: 0.56504\n",
      "Early Stop: 0 /7\n",
      "Train_loss: 0.373672, Val-acc: 0.86212, Val-loss: 0.38630\n",
      "Early Stop: 0 /7\n",
      "Train_loss: 0.289158, Val-acc: 0.90976, Val-loss: 0.28020\n",
      "Early Stop: 0 /7\n",
      "Train_loss: 0.241209, Val-acc: 0.88777, Val-loss: 0.32776\n",
      "Early Stop: 0 /7\n",
      "Train_loss: 0.183905, Val-acc: 0.83509, Val-loss: 0.49070\n",
      "Early Stop: 0 /7\n",
      "Train_loss: 0.111293, Val-acc: 0.87769, Val-loss: 0.36047\n",
      "Best val loss, saving checkpoint!\n",
      "Saving checkpoint, dl_best.\n",
      "Early Stop: 0 /7\n",
      "Train_loss: 0.102964, Val-acc: 0.89922, Val-loss: 0.30536\n",
      "Best val loss, saving checkpoint!\n",
      "Saving checkpoint, dl_best.\n",
      "Early Stop: 0 /7\n",
      "Train_loss: 0.063459, Val-acc: 0.88273, Val-loss: 0.43544\n",
      "Early Stop: 1 /7\n",
      "Train_loss: 0.048900, Val-acc: 0.75813, Val-loss: 1.08177\n",
      "Early Stop: 2 /7\n",
      "Train_loss: 0.049807, Val-acc: 0.89647, Val-loss: 0.39379\n",
      "Early Stop: 3 /7\n",
      "Train_loss: 0.026941, Val-acc: 0.87128, Val-loss: 0.67356\n",
      "Early Stop: 4 /7\n",
      "Train_loss: 0.027678, Val-acc: 0.89281, Val-loss: 0.49988\n",
      "Saving checkpoint to lr0.0001_epoch12\n",
      "Early Stop: 5 /7\n",
      "Train_loss: 0.020641, Val-acc: 0.89556, Val-loss: 0.55032\n",
      "Early Stop: 6 /7\n",
      "Train_loss: 0.016041, Val-acc: 0.89647, Val-loss: 0.56031\n",
      "Early Stop: 7 /7\n",
      "Train_loss: 0.034984, Val-acc: 0.90197, Val-loss: 0.57225\n",
      "Early Stop: 8 /7\n"
     ]
    }
   ],
   "source": [
    "early_stop=0\n",
    "if not os.path.exists(logdir):\n",
    "    os.mkdir(logdir)\n",
    "\n",
    "for epoch in tqdm(range(N_EPOCHS)):\n",
    "    if early_stop > 7:\n",
    "        break;\n",
    "    train_loss = train_one_epoch(model, train_loader, optimizer, criterion)\n",
    "    val_acc, val_loss, _, _ = evaluate_model(model, val_loader)\n",
    "    \n",
    "    print(f\"Train_loss: {train_loss:.6f}, Val-acc: {val_acc:.5f}, Val-loss: {val_loss:.5f}\")\n",
    "    \n",
    "    if epoch > 5 and (best_val_loss is None or val_loss < best_val_loss):\n",
    "        early_stop = 0\n",
    "        best_val_loss = val_loss\n",
    "        print(\"Best val loss, saving checkpoint!\")\n",
    "        save_checkpoint(logdir, model, optimizer, epoch, val_loss, lr, best=\"dl_best\")\n",
    "    elif epoch > 5 and (val_loss >= best_val_loss*1.1):\n",
    "        early_stop+=1\n",
    "    if epoch % 12 == 0:\n",
    "        save_checkpoint(logdir, model, optimizer, epoch, val_loss, lr)\n",
    "    print('Early Stop:',early_stop,'/7')"
   ]
  },
  {
   "cell_type": "code",
   "execution_count": 29,
   "id": "52449681",
   "metadata": {},
   "outputs": [
    {
     "name": "stdout",
     "output_type": "stream",
     "text": [
      "Saving last, dl_last.\n",
      "Saving checkpoint to lr0.0001_epoch16\n"
     ]
    }
   ],
   "source": [
    "save_checkpoint(logdir, model, optimizer, epoch, val_loss, lr,last='dl_last')"
   ]
  },
  {
   "cell_type": "markdown",
   "id": "a592e670",
   "metadata": {},
   "source": [
    "## BUFFER"
   ]
  },
  {
   "cell_type": "code",
   "execution_count": 30,
   "id": "8ed29475",
   "metadata": {},
   "outputs": [
    {
     "name": "stdout",
     "output_type": "stream",
     "text": [
      "Loaded best state dict from epoch: 7\n",
      "Loaded best state dict from epoch: 16\n"
     ]
    }
   ],
   "source": [
    "#let's test this bad boy\n",
    "best_val_model = Resnet(3, device=device)\n",
    "final_epoch_model = Resnet(3, device=device)\n",
    "\n",
    "best_val_model = load_checkpoint(f\"{logdir}/checkpoints/best_dl_best.pth\", \n",
    "                                 best_val_model, \n",
    "                                 device)\n",
    "#best_val_model = load_checkpoint('kiln_prod_weights.pth',best_val_model,device)\n",
    "final_epoch_model = load_checkpoint(f\"{logdir}/checkpoints/last_dl_last.pth\", \n",
    "                                    final_epoch_model, \n",
    "                                    device)\n",
    "\n",
    "#final_epoch_model = load_checkpoint(f\"{logdir}/checkpoints/lr0.0001_epoch49.pth\", \n",
    "#                                    final_epoch_model, \n",
    "#                                    device)\n"
   ]
  },
  {
   "cell_type": "code",
   "execution_count": 31,
   "id": "9e45dafb",
   "metadata": {},
   "outputs": [],
   "source": [
    "best_val_acc, best_val_loss, best_labels, best_outputs = evaluate_model(best_val_model, \n",
    "                                                                        val_loader)\n",
    "final_val_acc, final_val_loss, final_labels, final_outputs = evaluate_model(final_epoch_model, \n",
    "                                                                            val_loader)\n"
   ]
  },
  {
   "cell_type": "code",
   "execution_count": 32,
   "id": "76cada4d",
   "metadata": {},
   "outputs": [
    {
     "name": "stdout",
     "output_type": "stream",
     "text": [
      "Best: 0.8992212551534585 0.322842777651899\n",
      "Last: 0.901969766376546 0.575186060193707\n"
     ]
    }
   ],
   "source": [
    "print('Best:',best_val_acc, best_val_loss)\n",
    "print('Last:',final_val_acc, final_val_loss)"
   ]
  },
  {
   "cell_type": "code",
   "execution_count": 33,
   "id": "163fe69a",
   "metadata": {},
   "outputs": [
    {
     "data": {
      "text/plain": [
       "<sklearn.metrics._plot.roc_curve.RocCurveDisplay at 0x7fb4ce01da50>"
      ]
     },
     "execution_count": 33,
     "metadata": {},
     "output_type": "execute_result"
    },
    {
     "data": {
      "image/png": "[encoded data removed]",
      "text/plain": [
       "<Figure size 432x288 with 1 Axes>"
      ]
     },
     "metadata": {
      "needs_background": "light"
     },
     "output_type": "display_data"
    },
    {
     "data": {
      "image/png": "[encoded data removed]",
      "text/plain": [
       "<Figure size 432x288 with 1 Axes>"
      ]
     },
     "metadata": {
      "needs_background": "light"
     },
     "output_type": "display_data"
    }
   ],
   "source": [
    "import sklearn.metrics as metrics\n",
    "import matplotlib.pyplot as plt\n",
    "\n",
    "# val_roc = roc_auc_score(best_labels, best_outputs)\n",
    "# final_roc = roc_auc_score(final_labels, final_outputs)\n",
    "\n",
    "final_fpr, final_tpr, final_thresholds = metrics.roc_curve(final_labels, final_outputs)\n",
    "final_roc_auc = metrics.auc(final_fpr, final_tpr)\n",
    "display = metrics.RocCurveDisplay(fpr=final_fpr, tpr=final_tpr, roc_auc=final_roc_auc)\n",
    "display.plot()\n",
    "# plt.show()\n",
    "\n",
    "best_fpr, best_tpr, best_thresholds = metrics.roc_curve(best_labels, best_outputs)\n",
    "best_roc_auc = metrics.auc(best_fpr, best_tpr)\n",
    "display = metrics.RocCurveDisplay(fpr=best_fpr, tpr=best_tpr, roc_auc=best_roc_auc)\n",
    "display.plot()"
   ]
  },
  {
   "cell_type": "code",
   "execution_count": 34,
   "id": "a2a8b09a",
   "metadata": {},
   "outputs": [
    {
     "name": "stdout",
     "output_type": "stream",
     "text": [
      "Best: 0.9399344836546744\n",
      "Last: 0.9409641869896241\n"
     ]
    }
   ],
   "source": [
    "print('Best:',best_roc_auc)\n",
    "print('Last:',final_roc_auc)\n"
   ]
  },
  {
   "cell_type": "markdown",
   "id": "b41cdb08",
   "metadata": {},
   "source": [
    "## BUFFER"
   ]
  },
  {
   "cell_type": "code",
   "execution_count": 35,
   "id": "e72f3a21",
   "metadata": {},
   "outputs": [],
   "source": [
    "#Upload best model to storage\n",
    "storage=Storage(auth=Auth(client_id=config.ID,client_secret=config.SECRET))\n",
    "storage.set_file(model_name+'_prod_weights',f\"{logdir}/checkpoints/best_dl_best.pth\")"
   ]
  },
  {
   "cell_type": "code",
   "execution_count": 36,
   "id": "4def1764",
   "metadata": {},
   "outputs": [
    {
     "data": {
      "text/plain": [
       "['HIGH_ipn_prod_weights',\n",
       " 'HIGH_n_prod_weights',\n",
       " 'Upsampled_AugmentedTrain_bipn_v2_prod_weights',\n",
       " 'Upsampled_AugmentedTrain_bipn_v3_prod_weights',\n",
       " 'Upsampled_AugmentedTrain_bipn_v4_prod_weights',\n",
       " 'Upsampled_AugmentedTrain_bipn_v5_prod_weights',\n",
       " 'Upsampled_AugmentedTrain_bipn_v6_prod_weights',\n",
       " 'Upsampled_AugmentedTrain_bipn_v7_prod_weights',\n",
       " 'Upsampled_Augmented_bipn_prod_weights',\n",
       " 'Upsampled_Train_bipn_prod_weights',\n",
       " 'Upsampled_Train_ipn_prod_weights',\n",
       " 'Upsampled_bipn_prod_weights',\n",
       " 'Upsampled_ipn_prod_weights',\n",
       " 'b_i_hsi2_prod_weights',\n",
       " 'b_i_hsi3_prod_weights',\n",
       " 'b_i_hsi_prod_weights',\n",
       " 'b_i_hsi_usn_prod_weights',\n",
       " 'b_i_hsi_usp_prod_weights',\n",
       " 'b_i_hsi_usp_usn_prod_weights',\n",
       " 'b_i_hsip3_prod_weights',\n",
       " 'b_i_hsp3_prod_weights',\n",
       " 'b_i_i+_prod_weights',\n",
       " 'b_i_lhsip_prod_weights',\n",
       " 'b_i_lhsp_prod_weights',\n",
       " 'b_i_si2_prod_weights',\n",
       " 'b_i_si_prod_weights',\n",
       " 'b_i_si_sp_prod_weights',\n",
       " 'b_i_sp2_prod_weights',\n",
       " 'b_i_sp_prod_weights',\n",
       " 'b_i_usn_prod_weights',\n",
       " 'b_i_usp_prod_weights',\n",
       " 'b_i_usp_usn_prod_weights',\n",
       " 'drab_mouseConfirmed',\n",
       " 'drab_mouseDenied',\n",
       " 'drab_mouseGroupBatch0',\n",
       " 'drab_mouseHrBatch0',\n",
       " 'drab_mouseLrBatch0',\n",
       " 'fskinny_ipn_prod_weights',\n",
       " 'high_sampledworried_kittenConfirmed',\n",
       " 'high_sampledworried_kittenDenied',\n",
       " 'high_sampledworried_kittenGroupBatch0',\n",
       " 'high_sampledworried_kittenHrBatch0',\n",
       " 'high_sampledworried_kittenLrBatch0',\n",
       " 'high_sampledworried_puppyConfirmed',\n",
       " 'high_sampledworried_puppyDenied',\n",
       " 'high_sampledworried_puppyGroupBatch0',\n",
       " 'high_sampledworried_puppyGroupBatch1',\n",
       " 'high_sampledworried_puppyGroupBatch2',\n",
       " 'high_sampledworried_puppyHrBatch0',\n",
       " 'high_sampledworried_puppyHrBatch1',\n",
       " 'high_sampledworried_puppyHrBatch2',\n",
       " 'high_sampledworried_puppyJSErrorConfirmed',\n",
       " 'high_sampledworried_puppyJSErrorDenied',\n",
       " 'high_sampledworried_puppyLrBatch0',\n",
       " 'high_sampledworried_puppyLrBatch1',\n",
       " 'high_sampledworried_puppyLrBatch2',\n",
       " 'kiln_prod_weights',\n",
       " 'kiln_prod_weights_v2',\n",
       " 'large_high_sampledworried_kittenConfirmed',\n",
       " 'large_high_sampledworried_kittenDenied',\n",
       " 'large_high_sampledworried_kittenGroupBatch0',\n",
       " 'large_high_sampledworried_kittenHrBatch0',\n",
       " 'large_high_sampledworried_kittenLrBatch0',\n",
       " 'sampledworried_kittenConfirmed',\n",
       " 'sampledworried_kittenDenied',\n",
       " 'sampledworried_kittenGroupBatch0',\n",
       " 'sampledworried_kittenHrBatch0',\n",
       " 'sampledworried_kittenLrBatch0',\n",
       " 'sampledworried_puppyConfirmed',\n",
       " 'sampledworried_puppyDenied',\n",
       " 'sampledworried_puppyGroupBatch0',\n",
       " 'sampledworried_puppyGroupBatch1',\n",
       " 'sampledworried_puppyGroupBatch2',\n",
       " 'sampledworried_puppyHrBatch0',\n",
       " 'sampledworried_puppyHrBatch1',\n",
       " 'sampledworried_puppyHrBatch2',\n",
       " 'sampledworried_puppyJSErrorConfirmed',\n",
       " 'sampledworried_puppyJSErrorDenied',\n",
       " 'sampledworried_puppyLrBatch0',\n",
       " 'sampledworried_puppyLrBatch1',\n",
       " 'sampledworried_puppyLrBatch2',\n",
       " 'skinny_ipn_prod_weights',\n",
       " 'updatedModel_state_sampled_happy_cowConfirmed',\n",
       " 'updatedModel_state_sampled_happy_cowDenied',\n",
       " 'updatedModel_state_sampled_happy_cowGroupBatch0',\n",
       " 'updatedModel_state_sampled_happy_cowHrBatch0',\n",
       " 'updatedModel_state_sampled_happy_cowJSErrorConfirmed',\n",
       " 'updatedModel_state_sampled_happy_cowJSErrorDenied',\n",
       " 'updatedModel_state_sampled_happy_cowLrBatch0',\n",
       " 'updatedModel_state_sampled_slender_gerbilConfirmed',\n",
       " 'updatedModel_state_sampled_slender_gerbilDenied',\n",
       " 'updatedModel_state_sampled_slender_gerbilGroupBatch0',\n",
       " 'updatedModel_state_sampled_slender_gerbilGroupBatch1',\n",
       " 'updatedModel_state_sampled_slender_gerbilHrBatch0',\n",
       " 'updatedModel_state_sampled_slender_gerbilHrBatch1',\n",
       " 'updatedModel_state_sampled_slender_gerbilJSErrorConfirmed',\n",
       " 'updatedModel_state_sampled_slender_gerbilJSErrorDenied',\n",
       " 'updatedModel_state_sampled_slender_gerbilLrBatch0',\n",
       " 'updatedModel_state_sampled_slender_gerbilLrBatch1',\n",
       " 'worried_puppyConfirmed',\n",
       " 'worried_puppyDenied',\n",
       " 'worried_puppyErrorConfirmed',\n",
       " 'worried_puppyErrorDenied',\n",
       " 'worried_puppyGroupBatch0',\n",
       " 'worried_puppyGroupBatch1',\n",
       " 'worried_puppyGroupBatch2',\n",
       " 'worried_puppyGroupBatch3',\n",
       " 'worried_puppyGroupBatch4',\n",
       " 'worried_puppyGroupBatch5',\n",
       " 'worried_puppyGroupBatch6',\n",
       " 'worried_puppyGroupBatch7',\n",
       " 'worried_puppyHrBatch0',\n",
       " 'worried_puppyHrBatch1',\n",
       " 'worried_puppyHrBatch2',\n",
       " 'worried_puppyHrBatch3',\n",
       " 'worried_puppyHrBatch4',\n",
       " 'worried_puppyHrBatch5',\n",
       " 'worried_puppyHrBatch6',\n",
       " 'worried_puppyHrBatch7',\n",
       " 'worried_puppyJLErrorConfirmed',\n",
       " 'worried_puppyJLErrorDenied',\n",
       " 'worried_puppyJSErrorConfirmed',\n",
       " 'worried_puppyJSErrorDenied',\n",
       " 'worried_puppyLrBatch0',\n",
       " 'worried_puppyLrBatch1',\n",
       " 'worried_puppyLrBatch2',\n",
       " 'worried_puppyLrBatch3',\n",
       " 'worried_puppyLrBatch4',\n",
       " 'worried_puppyLrBatch5',\n",
       " 'worried_puppyLrBatch6',\n",
       " 'worried_puppyLrBatch7']"
      ]
     },
     "execution_count": 36,
     "metadata": {},
     "output_type": "execute_result"
    }
   ],
   "source": [
    "storage.list()"
   ]
  },
  {
   "cell_type": "code",
   "execution_count": 20,
   "id": "4bdc6186",
   "metadata": {},
   "outputs": [
    {
     "name": "stdout",
     "output_type": "stream",
     "text": [
      "hi\n"
     ]
    }
   ],
   "source": [
    "print('hi')"
   ]
  },
  {
   "cell_type": "code",
   "execution_count": null,
   "id": "bf924893",
   "metadata": {},
   "outputs": [],
   "source": []
  },
  {
   "cell_type": "code",
   "execution_count": null,
   "id": "14527402",
   "metadata": {},
   "outputs": [],
   "source": []
  }
 ],
 "metadata": {
  "kernelspec": {
   "display_name": "Python 3 (ipykernel)",
   "language": "python",
   "name": "python3"
  },
  "language_info": {
   "codemirror_mode": {
    "name": "ipython",
    "version": 3
   },
   "file_extension": ".py",
   "mimetype": "text/x-python",
   "name": "python",
   "nbconvert_exporter": "python",
   "pygments_lexer": "ipython3",
   "version": "3.8.10"
  }
 },
 "nbformat": 4,
 "nbformat_minor": 5
}
