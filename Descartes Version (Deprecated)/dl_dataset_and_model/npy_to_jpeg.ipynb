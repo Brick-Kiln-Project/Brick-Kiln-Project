{
 "cells": [
  {
   "cell_type": "code",
   "execution_count": 48,
   "id": "44af7ab9",
   "metadata": {},
   "outputs": [
    {
     "name": "stdout",
     "output_type": "stream",
     "text": [
      "Looking in indexes: https://pypi.org/simple, https://packagecloud.io/github/git-lfs/pypi/simple\n",
      "Requirement already satisfied: opencv-contrib-python in /opt/conda/lib/python3.7/site-packages (4.6.0.66)\n",
      "Requirement already satisfied: numpy>=1.14.5 in /opt/conda/lib/python3.7/site-packages (from opencv-contrib-python) (1.21.6)\n"
     ]
    }
   ],
   "source": [
    "# try the imports\n",
    "import os\n",
    "import torch\n",
    "import math\n",
    "import numpy as np\n",
    "import pandas as pd\n",
    "import sys\n",
    "import random\n",
    "from descarteslabs import Storage, Auth\n",
    "sys.path.append(\"../\")\n",
    "import constants\n",
    "from tqdm.notebook import tqdm\n",
    "sys.path.append('../UI_Labeling')\n",
    "import config\n",
    "from torch.utils.data import Dataset, DataLoader\n",
    "from torchvision import transforms\n",
    "\n",
    "!{sys.executable} -m pip install opencv-contrib-python\n",
    "import cv2\n",
    "\n",
    "from PIL import Image\n",
    "import shutil"
   ]
  },
  {
   "cell_type": "code",
   "execution_count": 49,
   "id": "6e2e3d5c",
   "metadata": {},
   "outputs": [],
   "source": [
    "paths=[\n",
    "    #'bangladesh_dl_dataset',\n",
    "    #'india_dl_dataset',\n",
    "    'Upsampled_high_sampled_india_dl_dataset',\n",
    "    'Upsampled_updatedModel_state_sampled_pakistan_dl_dataset',\n",
    "    'Upsampled_updatedModel_state_sampled_nepal_dl_dataset'\n",
    "    ]"
   ]
  },
  {
   "cell_type": "code",
   "execution_count": 50,
   "id": "8acb8ade",
   "metadata": {},
   "outputs": [],
   "source": [
    "prefix='v2_'"
   ]
  },
  {
   "cell_type": "code",
   "execution_count": 53,
   "id": "0f145003",
   "metadata": {},
   "outputs": [
    {
     "data": {
      "application/vnd.jupyter.widget-view+json": {
       "model_id": "29cd3317d4f04fd79e5d21f0faf960ca",
       "version_major": 2,
       "version_minor": 0
      },
      "text/plain": [
       "  0%|          | 0/3 [00:00<?, ?it/s]"
      ]
     },
     "metadata": {},
     "output_type": "display_data"
    },
    {
     "data": {
      "application/vnd.jupyter.widget-view+json": {
       "model_id": "37834831556c43f9a5c1d5a1c59fa248",
       "version_major": 2,
       "version_minor": 0
      },
      "text/plain": [
       "  0%|          | 0/858 [00:00<?, ?it/s]"
      ]
     },
     "metadata": {},
     "output_type": "display_data"
    },
    {
     "data": {
      "application/vnd.jupyter.widget-view+json": {
       "model_id": "2d0c395021bb49049e09cd5af653090e",
       "version_major": 2,
       "version_minor": 0
      },
      "text/plain": [
       "  0%|          | 0/4798 [00:00<?, ?it/s]"
      ]
     },
     "metadata": {},
     "output_type": "display_data"
    },
    {
     "data": {
      "application/vnd.jupyter.widget-view+json": {
       "model_id": "4e72e8fa8d2d4f07a9eda78b22faa5ab",
       "version_major": 2,
       "version_minor": 0
      },
      "text/plain": [
       "  0%|          | 0/653 [00:00<?, ?it/s]"
      ]
     },
     "metadata": {},
     "output_type": "display_data"
    },
    {
     "data": {
      "application/vnd.jupyter.widget-view+json": {
       "model_id": "0c4f78da21574be5be3ea37d544eaf21",
       "version_major": 2,
       "version_minor": 0
      },
      "text/plain": [
       "  0%|          | 0/1739 [00:00<?, ?it/s]"
      ]
     },
     "metadata": {},
     "output_type": "display_data"
    },
    {
     "data": {
      "application/vnd.jupyter.widget-view+json": {
       "model_id": "ace5fabc269840a79d785d1013a58d5a",
       "version_major": 2,
       "version_minor": 0
      },
      "text/plain": [
       "  0%|          | 0/87 [00:00<?, ?it/s]"
      ]
     },
     "metadata": {},
     "output_type": "display_data"
    },
    {
     "data": {
      "application/vnd.jupyter.widget-view+json": {
       "model_id": "5429e73e702e4a00a748e1c2c7873344",
       "version_major": 2,
       "version_minor": 0
      },
      "text/plain": [
       "  0%|          | 0/327 [00:00<?, ?it/s]"
      ]
     },
     "metadata": {},
     "output_type": "display_data"
    }
   ],
   "source": [
    "for path in tqdm(paths):\n",
    "    if not os.path.exists('Image_Datasets/'+prefix+path):\n",
    "        os.mkdir('Image_Datasets/'+prefix+path)\n",
    "        os.mkdir('Image_Datasets/'+prefix+path+'/positives/')\n",
    "        os.mkdir('Image_Datasets/'+prefix+path+'/negatives/')\n",
    "    \n",
    "    shutil.copy('Image_Datasets/'+path+'/metadata.csv','Image_Datasets/'+prefix+path+'/metadata.csv')\n",
    "    \n",
    "    for folder in ['/positives/','/negatives/']:\n",
    "        for posfile in tqdm(os.listdir('Image_Datasets/'+path+folder)):\n",
    "            if posfile == '.ipynb_checkpoints':\n",
    "                continue;\n",
    "            num,_=posfile.split('.')\n",
    "            file_name='Image_Datasets/'+path+folder+posfile\n",
    "            \n",
    "            if path in ['bangladesh_dl_dataset','india_dl_dataset']:\n",
    "                img = np.load(file_name)[1:4]\n",
    "                sr=cv2.dnn_superres.DnnSuperResImpl_create()\n",
    "                mod_path=\"ESPCN_x4.pb\"\n",
    "                sr.readModel(mod_path)\n",
    "                sr.setModel('espcn',4)\n",
    "                rgb=np.transpose(img)\n",
    "                rgb=rgb-np.min(rgb)\n",
    "                rgb=rgb/np.max(rgb)\n",
    "                rgb = np.uint8(255 * rgb)\n",
    "                result=sr.upsample(rgb)\n",
    "                result=result[:,:,[2,1,0]]\n",
    "                result=np.transpose(result,[2,0,1])\n",
    "                #img = Image.fromarray(result, \"RGB\")\n",
    "            else:\n",
    "                img=np.transpose(np.load(file_name),[2,0,1])\n",
    "                img=img[[0,2,1]]\n",
    "                result=img\n",
    "                #img = Image.fromarray(np.load(file_name)[:,:,[0,2,1]], \"RGB\")\n",
    "            np.save('Image_Datasets/'+prefix+path+folder+posfile,result)\n",
    "            #img.save('Image_Datasets/jpeg_'+path+folder+num+'.jpeg')"
   ]
  },
  {
   "cell_type": "code",
   "execution_count": null,
   "id": "365b4da5",
   "metadata": {},
   "outputs": [],
   "source": []
  }
 ],
 "metadata": {
  "kernelspec": {
   "display_name": "Python 3 (ipykernel)",
   "language": "python",
   "name": "python3"
  },
  "language_info": {
   "codemirror_mode": {
    "name": "ipython",
    "version": 3
   },
   "file_extension": ".py",
   "mimetype": "text/x-python",
   "name": "python",
   "nbconvert_exporter": "python",
   "pygments_lexer": "ipython3",
   "version": "3.7.12"
  }
 },
 "nbformat": 4,
 "nbformat_minor": 5
}
