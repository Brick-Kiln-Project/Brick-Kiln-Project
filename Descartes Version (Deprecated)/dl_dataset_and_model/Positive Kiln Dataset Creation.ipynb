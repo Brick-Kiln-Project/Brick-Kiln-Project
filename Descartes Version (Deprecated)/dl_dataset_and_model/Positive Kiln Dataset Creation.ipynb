{
 "cells": [
  {
   "cell_type": "code",
   "execution_count": 16,
   "id": "ce54acf1",
   "metadata": {},
   "outputs": [],
   "source": [
    "import geojson\n",
    "import pandas as pd\n",
    "import shapely.wkt\n",
    "from shapely import geometry\n",
    "import descarteslabs as dl\n",
    "import pickle as pkl\n",
    "import geopandas as gpd\n",
    "from random import sample\n",
    "from tqdm.notebook import tqdm\n",
    "import csv\n",
    "import math\n",
    "import numpy as np"
   ]
  },
  {
   "cell_type": "code",
   "execution_count": 17,
   "id": "9cb613e1",
   "metadata": {},
   "outputs": [],
   "source": [
    "totalDataset=pd.read_csv('../Predicted_Datasets/fiery_gerbil_results.csv').to_dict()"
   ]
  },
  {
   "cell_type": "code",
   "execution_count": 18,
   "id": "88133985",
   "metadata": {},
   "outputs": [
    {
     "data": {
      "application/vnd.jupyter.widget-view+json": {
       "model_id": "560361a4ec7049ba83caaf74021d0652",
       "version_major": 2,
       "version_minor": 0
      },
      "text/plain": [
       "  0%|          | 0/373760 [00:00<?, ?it/s]"
      ]
     },
     "metadata": {},
     "output_type": "display_data"
    },
    {
     "name": "stdout",
     "output_type": "stream",
     "text": [
      "1627\n"
     ]
    }
   ],
   "source": [
    "temp=[]\n",
    "exists=0\n",
    "with tqdm(total=len(totalDataset['prediction'])) as pbar:\n",
    "    for idx,pred in enumerate(totalDataset['prediction'].values()):\n",
    "\n",
    "        if pred >= .99:\n",
    "            prediction=1\n",
    "            exists+=1\n",
    "        else:\n",
    "            prediction=0\n",
    "\n",
    "        temp.append([totalDataset['tile_key'][idx],totalDataset['geometry'][idx],prediction,'N/A'])\n",
    "        pbar.update()\n",
    "print(exists)\n",
    "temp.insert(0,['tile_key','geometry','prediction','area'])"
   ]
  },
  {
   "cell_type": "code",
   "execution_count": 19,
   "id": "7bd0f0d5",
   "metadata": {},
   "outputs": [],
   "source": [
    "with open('../Predicted_Datasets/all_fiery_gerbil_results.csv', 'w', newline='') as file:\n",
    "    writer = csv.writer(file)\n",
    "    writer.writerows(temp)"
   ]
  },
  {
   "cell_type": "code",
   "execution_count": null,
   "id": "bed490f3",
   "metadata": {},
   "outputs": [],
   "source": []
  }
 ],
 "metadata": {
  "kernelspec": {
   "display_name": "Python 3 (ipykernel)",
   "language": "python",
   "name": "python3"
  },
  "language_info": {
   "codemirror_mode": {
    "name": "ipython",
    "version": 3
   },
   "file_extension": ".py",
   "mimetype": "text/x-python",
   "name": "python",
   "nbconvert_exporter": "python",
   "pygments_lexer": "ipython3",
   "version": "3.7.12"
  }
 },
 "nbformat": 4,
 "nbformat_minor": 5
}
